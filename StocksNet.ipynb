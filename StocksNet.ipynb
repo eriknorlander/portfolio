{
  "cells": [
    {
      "cell_type": "markdown",
      "metadata": {
        "id": "view-in-github",
        "colab_type": "text"
      },
      "source": [
        "<a href=\"https://colab.research.google.com/github/eriknorlander/portfolio/blob/main/StocksNet.ipynb\" target=\"_parent\"><img src=\"https://colab.research.google.com/assets/colab-badge.svg\" alt=\"Open In Colab\"/></a>"
      ]
    },
    {
      "cell_type": "markdown",
      "source": [
        "# StocksNet - A neural net for portfolio optimization\n",
        "\n",
        "We want to create a model that, given input set of $n$ assets $X = \\{x_1, x_2,..., x_n\\}$ will generate a portfolio of weights $W = \\{w_1, w_2, ..., w_n\\} \\in [0,1]$ and $\\sum{W} = 1$ that minimizes volatility\n",
        "\n",
        "$ \\sigma = \\sqrt{W^T \\Sigma W} $\n",
        "\n",
        "while it maximizes the Sharpe Ratio\n",
        "\n",
        "$SR = \\frac{r - r_f}{\\sigma}$\n",
        "\n",
        "$r_f$ = Risk free rate\n",
        "\n",
        "$r$ = Rate of returns of the portfolio\n",
        "\n",
        "$\\sigma$ = Volatility of the portfolio\n",
        "\n",
        "\n",
        "We therefore want to constuct a function $f$ that given input $X$ will produce our portfolio. This is what we want to approximate with our neural net\n",
        "\n",
        "$\\max_{SR}f(X) = w_1x_1 + w_2x_2 + ... + w_nx_n$\n"
      ],
      "metadata": {
        "id": "PpA5xtlra1jQ"
      },
      "id": "PpA5xtlra1jQ"
    },
    {
      "cell_type": "code",
      "source": [
        "!pip install flax"
      ],
      "metadata": {
        "colab": {
          "base_uri": "https://localhost:8080/"
        },
        "id": "n30yUbLXpEk5",
        "outputId": "791a2ed7-4ab2-4dc6-e528-9d108a50245f"
      },
      "id": "n30yUbLXpEk5",
      "execution_count": 2,
      "outputs": [
        {
          "output_type": "stream",
          "name": "stdout",
          "text": [
            "Collecting flax\n",
            "  Downloading flax-0.4.0-py3-none-any.whl (176 kB)\n",
            "\u001b[?25l\r\u001b[K     |█▉                              | 10 kB 26.1 MB/s eta 0:00:01\r\u001b[K     |███▊                            | 20 kB 30.9 MB/s eta 0:00:01\r\u001b[K     |█████▋                          | 30 kB 27.2 MB/s eta 0:00:01\r\u001b[K     |███████▍                        | 40 kB 19.0 MB/s eta 0:00:01\r\u001b[K     |█████████▎                      | 51 kB 19.2 MB/s eta 0:00:01\r\u001b[K     |███████████▏                    | 61 kB 16.4 MB/s eta 0:00:01\r\u001b[K     |█████████████                   | 71 kB 14.8 MB/s eta 0:00:01\r\u001b[K     |██████████████▉                 | 81 kB 15.9 MB/s eta 0:00:01\r\u001b[K     |████████████████▊               | 92 kB 15.1 MB/s eta 0:00:01\r\u001b[K     |██████████████████▌             | 102 kB 16.3 MB/s eta 0:00:01\r\u001b[K     |████████████████████▍           | 112 kB 16.3 MB/s eta 0:00:01\r\u001b[K     |██████████████████████▎         | 122 kB 16.3 MB/s eta 0:00:01\r\u001b[K     |████████████████████████        | 133 kB 16.3 MB/s eta 0:00:01\r\u001b[K     |██████████████████████████      | 143 kB 16.3 MB/s eta 0:00:01\r\u001b[K     |███████████████████████████▉    | 153 kB 16.3 MB/s eta 0:00:01\r\u001b[K     |█████████████████████████████▋  | 163 kB 16.3 MB/s eta 0:00:01\r\u001b[K     |███████████████████████████████▌| 174 kB 16.3 MB/s eta 0:00:01\r\u001b[K     |████████████████████████████████| 176 kB 16.3 MB/s \n",
            "\u001b[?25hRequirement already satisfied: msgpack in /usr/local/lib/python3.7/dist-packages (from flax) (1.0.3)\n",
            "Requirement already satisfied: jax>=0.2.21 in /usr/local/lib/python3.7/dist-packages (from flax) (0.2.25)\n",
            "Requirement already satisfied: numpy>=1.12 in /usr/local/lib/python3.7/dist-packages (from flax) (1.19.5)\n",
            "Collecting optax\n",
            "  Downloading optax-0.1.0-py3-none-any.whl (126 kB)\n",
            "\u001b[K     |████████████████████████████████| 126 kB 53.3 MB/s \n",
            "\u001b[?25hRequirement already satisfied: matplotlib in /usr/local/lib/python3.7/dist-packages (from flax) (3.2.2)\n",
            "Requirement already satisfied: scipy>=1.2.1 in /usr/local/lib/python3.7/dist-packages (from jax>=0.2.21->flax) (1.4.1)\n",
            "Requirement already satisfied: absl-py in /usr/local/lib/python3.7/dist-packages (from jax>=0.2.21->flax) (1.0.0)\n",
            "Requirement already satisfied: opt-einsum in /usr/local/lib/python3.7/dist-packages (from jax>=0.2.21->flax) (3.3.0)\n",
            "Requirement already satisfied: typing-extensions in /usr/local/lib/python3.7/dist-packages (from jax>=0.2.21->flax) (3.10.0.2)\n",
            "Requirement already satisfied: six in /usr/local/lib/python3.7/dist-packages (from absl-py->jax>=0.2.21->flax) (1.15.0)\n",
            "Requirement already satisfied: kiwisolver>=1.0.1 in /usr/local/lib/python3.7/dist-packages (from matplotlib->flax) (1.3.2)\n",
            "Requirement already satisfied: pyparsing!=2.0.4,!=2.1.2,!=2.1.6,>=2.0.1 in /usr/local/lib/python3.7/dist-packages (from matplotlib->flax) (3.0.7)\n",
            "Requirement already satisfied: cycler>=0.10 in /usr/local/lib/python3.7/dist-packages (from matplotlib->flax) (0.11.0)\n",
            "Requirement already satisfied: python-dateutil>=2.1 in /usr/local/lib/python3.7/dist-packages (from matplotlib->flax) (2.8.2)\n",
            "Collecting chex>=0.0.4\n",
            "  Downloading chex-0.1.0-py3-none-any.whl (65 kB)\n",
            "\u001b[K     |████████████████████████████████| 65 kB 4.2 MB/s \n",
            "\u001b[?25hRequirement already satisfied: jaxlib>=0.1.37 in /usr/local/lib/python3.7/dist-packages (from optax->flax) (0.1.71+cuda111)\n",
            "Requirement already satisfied: dm-tree>=0.1.5 in /usr/local/lib/python3.7/dist-packages (from chex>=0.0.4->optax->flax) (0.1.6)\n",
            "Requirement already satisfied: toolz>=0.9.0 in /usr/local/lib/python3.7/dist-packages (from chex>=0.0.4->optax->flax) (0.11.2)\n",
            "Requirement already satisfied: flatbuffers<3.0,>=1.12 in /usr/local/lib/python3.7/dist-packages (from jaxlib>=0.1.37->optax->flax) (2.0)\n",
            "Installing collected packages: chex, optax, flax\n",
            "Successfully installed chex-0.1.0 flax-0.4.0 optax-0.1.0\n"
          ]
        }
      ]
    },
    {
      "cell_type": "code",
      "execution_count": 3,
      "id": "f95a1d3d",
      "metadata": {
        "id": "f95a1d3d"
      },
      "outputs": [],
      "source": [
        "import pandas as pd \n",
        "import numpy as np\n",
        "import matplotlib.pyplot as plt \n",
        "from tqdm import tqdm\n",
        "import jax\n",
        "import jax.numpy as jnp                # JAX NumPy\n",
        "from jax import vmap, pmap, jit\n",
        "\n",
        "from flax import linen as nn           # The Linen API\n",
        "from flax.training import train_state  # Useful dataclass to keep train state\n",
        "\n",
        "import numpy as np                     # Ordinary NumPy\n",
        "import optax                           # Optimizers\n",
        "from ipywidgets import IntProgress\n",
        "from tqdm import tqdm\n",
        "from random import random\n",
        "\n",
        "from os import listdir"
      ]
    },
    {
      "cell_type": "markdown",
      "source": [
        "## 1. Create the dataset "
      ],
      "metadata": {
        "id": "Fy9uz64hKPee"
      },
      "id": "Fy9uz64hKPee"
    },
    {
      "cell_type": "code",
      "source": [
        "from google.colab import drive\n",
        "if 'google.colab' in str(get_ipython()):\n",
        "    drive.mount('/content/drive')\n",
        "    PATH = '/content/drive/MyDrive/Colab Notebooks/portfolio/data/'\n",
        "    DATA_PATH = PATH + 'sp500/'\n",
        "    print('Running on CoLab')\n",
        "else:\n",
        "    PATH = '/Users/eriknorlander/portfolio/data/sp500/'\n",
        "    print('Not running on CoLab')"
      ],
      "metadata": {
        "colab": {
          "base_uri": "https://localhost:8080/"
        },
        "id": "LgNuDMOOb0KA",
        "outputId": "739d52d5-e403-479d-9373-9c315c68749c"
      },
      "id": "LgNuDMOOb0KA",
      "execution_count": 4,
      "outputs": [
        {
          "output_type": "stream",
          "name": "stdout",
          "text": [
            "Mounted at /content/drive\n",
            "Running on CoLab\n"
          ]
        }
      ]
    },
    {
      "cell_type": "code",
      "execution_count": 5,
      "id": "160f7198",
      "metadata": {
        "colab": {
          "base_uri": "https://localhost:8080/"
        },
        "id": "160f7198",
        "outputId": "f0c30a5a-4f2d-442a-d73b-af99e15c2ec3"
      },
      "outputs": [
        {
          "output_type": "stream",
          "name": "stdout",
          "text": [
            "Length : 507 First 5 : ['NOC (1)', 'SP500_Close', 'MMM', 'ABT', 'ABBV']\n"
          ]
        }
      ],
      "source": [
        "from os import listdir\n",
        "sp500 = pd.read_csv(PATH + 'sp500.csv')\n",
        "tickers = sp500.Symbol.tolist()\n",
        "tickers_in_directory = [filename.replace('.csv','') for filename in listdir(DATA_PATH)]\n",
        "print('Length :', len(tickers_in_directory), 'First 5 :', tickers_in_directory[:5])"
      ]
    },
    {
      "cell_type": "code",
      "source": [
        "def get_stock_from_csv(filepath, ticker):\n",
        "    df = pd.read_csv(str(filepath) + str(ticker) + '.csv')\n",
        "    df = df.set_index('Date', drop=True)\n",
        "    if 'Unnamed: 0' in df.columns:\n",
        "        df = df.drop('Unnamed: 0', axis=1)\n",
        "    return df\n",
        "\n",
        "def get_stocks_by_column(data_path, tickers, column, start_date, end_date):\n",
        "    output_df = pd.DataFrame()\n",
        "    for ticker in tqdm(tickers):\n",
        "        try:\n",
        "            df = get_stock_from_csv(data_path, ticker)\n",
        "            mask = (df.index >= start_date) & (df.index <= end_date)\n",
        "            output_df[ticker] = df.loc[mask][column]\n",
        "        except Exception as ex:\n",
        "            print(\"Can't compute : {}\".format(ticker) + ' ' + str(ex))\n",
        "    return output_df"
      ],
      "metadata": {
        "id": "k0C1odUslPdC"
      },
      "id": "k0C1odUslPdC",
      "execution_count": 6,
      "outputs": []
    },
    {
      "cell_type": "code",
      "source": [
        "all_stocks = get_stocks_by_column(data_path=DATA_PATH, tickers=tickers_in_directory,\n",
        "                                 column='Close', start_date='2017-01-01', end_date='2021-12-01')"
      ],
      "metadata": {
        "colab": {
          "base_uri": "https://localhost:8080/"
        },
        "id": "RezDYJEWlb5_",
        "outputId": "63b00fb2-003a-44ee-fef3-d0e8f9a332f5"
      },
      "id": "RezDYJEWlb5_",
      "execution_count": 195,
      "outputs": [
        {
          "output_type": "stream",
          "name": "stderr",
          "text": [
            "  2%|▏         | 12/507 [00:00<00:12, 38.88it/s]"
          ]
        },
        {
          "output_type": "stream",
          "name": "stdout",
          "text": [
            "Can't compute : SP500_Close 'Close'\n"
          ]
        },
        {
          "output_type": "stream",
          "name": "stderr",
          "text": [
            "100%|██████████| 507/507 [00:05<00:00, 95.16it/s]\n"
          ]
        }
      ]
    },
    {
      "cell_type": "code",
      "source": [
        "tickers = all_stocks.columns\n",
        "\n",
        "tickers_to_buy = [\n",
        "  'MTCH',\n",
        "  'LYV',\n",
        "  'TSLA',\n",
        "  'ETSY',\n",
        "  'EL',\n",
        "  'COST',\n",
        "  'COP',\n",
        "  'MPC',\n",
        "  'MSCI',\n",
        "  'SPGI',\n",
        "  'DXCM',\n",
        "  'GNRC',\n",
        "#  'ODFL',\n",
        "#  'ENPH',\n",
        "#  'AMD',\n",
        "#  'SHW',\n",
        "#  'AVY',\n",
        "#  'PLD',\n",
        "#  'CBRE',\n",
        "#  'NEE',\n",
        "#  'NRG'\n",
        "]"
      ],
      "metadata": {
        "id": "G43mGRQ6CvJZ"
      },
      "id": "G43mGRQ6CvJZ",
      "execution_count": 196,
      "outputs": []
    },
    {
      "cell_type": "code",
      "source": [
        "ticker_dict = { k : v for k, v in enumerate(tickers_to_buy)}"
      ],
      "metadata": {
        "id": "ULiXqtT8rpf4"
      },
      "id": "ULiXqtT8rpf4",
      "execution_count": 197,
      "outputs": []
    },
    {
      "cell_type": "code",
      "source": [
        "close_prices = all_stocks[tickers_to_buy]\n",
        "close_prices.shape"
      ],
      "metadata": {
        "colab": {
          "base_uri": "https://localhost:8080/"
        },
        "id": "r4lX2QyoNu4y",
        "outputId": "5fecce6f-20ff-4c9f-f43a-4bbccfc88086"
      },
      "id": "r4lX2QyoNu4y",
      "execution_count": 198,
      "outputs": [
        {
          "output_type": "execute_result",
          "data": {
            "text/plain": [
              "(1224, 12)"
            ]
          },
          "metadata": {},
          "execution_count": 198
        }
      ]
    },
    {
      "cell_type": "markdown",
      "source": [
        "### Find all possible combinations of stocks"
      ],
      "metadata": {
        "id": "s1VO0Fw2se6g"
      },
      "id": "s1VO0Fw2se6g"
    },
    {
      "cell_type": "code",
      "source": [
        "from itertools import combinations\n",
        "\n",
        "key = jax.random.PRNGKey(0)        \n",
        "ticker_id = list(ticker_dict.keys())\n",
        "num_stocks = 8\n",
        "portfolios = jnp.array([list(comb) for comb in combinations(ticker_id, num_stocks)])\n",
        "# https://github.com/google/jax/discussions/8429\n",
        "portfolios = vmap(jax.random.permutation)(jax.random.split(key, portfolios.shape[0]), portfolios)"
      ],
      "metadata": {
        "id": "-3hkGKerE7hE"
      },
      "id": "-3hkGKerE7hE",
      "execution_count": 199,
      "outputs": []
    },
    {
      "cell_type": "code",
      "source": [
        "portfolios.shape"
      ],
      "metadata": {
        "colab": {
          "base_uri": "https://localhost:8080/"
        },
        "id": "PKr2ii_4T8ZE",
        "outputId": "0379a1d2-3181-4873-d938-c674f69a3e7e"
      },
      "id": "PKr2ii_4T8ZE",
      "execution_count": 200,
      "outputs": [
        {
          "output_type": "execute_result",
          "data": {
            "text/plain": [
              "(495, 8)"
            ]
          },
          "metadata": {},
          "execution_count": 200
        }
      ]
    },
    {
      "cell_type": "code",
      "execution_count": 201,
      "id": "f2453d52",
      "metadata": {
        "id": "f2453d52"
      },
      "outputs": [],
      "source": [
        "def compute_log_returns(portfolio):\n",
        "    ''' Computes the log returns of the portfolio, skips first row. '''\n",
        "    return jnp.log(jnp.divide(portfolio, jnp.roll(portfolio, 1, axis=0))[1:])"
      ]
    },
    {
      "cell_type": "code",
      "source": [
        "returns = jnp.array(close_prices.to_numpy())\n",
        "returns = compute_log_returns(returns)"
      ],
      "metadata": {
        "id": "VYbGcSKzKK2o"
      },
      "id": "VYbGcSKzKK2o",
      "execution_count": 202,
      "outputs": []
    },
    {
      "cell_type": "code",
      "source": [
        "def generate_training_data(data, ticker_id, history_window=30, future_window=30):\n",
        "    data = data[:,ticker_id]\n",
        "    (index, num_stocks) = data.shape\n",
        "    iterations = int(jnp.floor(index/future_window))\n",
        "    print(iterations)\n",
        "    last_index = int(future_window*iterations)\n",
        "    data = data[:last_index]\n",
        "    X = data[-(history_window+future_window):-future_window].reshape(num_stocks, history_window, 1)\n",
        "    y = data[-future_window:].reshape(num_stocks, future_window, 1)\n",
        "    return X, y"
      ],
      "metadata": {
        "id": "M7NFCETOLGbo"
      },
      "id": "M7NFCETOLGbo",
      "execution_count": 270,
      "outputs": []
    },
    {
      "cell_type": "markdown",
      "source": [
        "### Generate the sliding window"
      ],
      "metadata": {
        "id": "gKZU9WiXubEb"
      },
      "id": "gKZU9WiXubEb"
    },
    {
      "cell_type": "code",
      "source": [
        "def generate_sliding_window(data, ticker_id, history_window=30, future_window=30):\n",
        "    data = data[:,ticker_id]\n",
        "    (index, num_stocks) = data.shape\n",
        "    iterations = int(jnp.floor(index/future_window))\n",
        "    last_index = int(future_window*iterations)\n",
        "    data = data[:last_index]\n",
        "    X = jnp.array([ \n",
        "                   data[-(history_window+future_window*i):-future_window*i] \n",
        "                   for i in range(1,iterations)\n",
        "                  ])\n",
        "    X = X.reshape(iterations-1, num_stocks, history_window, 1)\n",
        "    y = jnp.array([ \n",
        "                    data[-future_window*i:-future_window*(i-1)] if i > 1 \n",
        "                    else data[-future_window*i:] \n",
        "                    for i in range(1,iterations)\n",
        "                  ])\n",
        "    y = y.reshape(iterations-1, num_stocks, future_window, 1)\n",
        "    return X, y"
      ],
      "metadata": {
        "id": "u-z4-bH0oXXx"
      },
      "id": "u-z4-bH0oXXx",
      "execution_count": 314,
      "outputs": []
    },
    {
      "cell_type": "markdown",
      "source": [
        "### Generate dictionaries for training and test sets"
      ],
      "metadata": {
        "id": "WnRbSXOWwBor"
      },
      "id": "WnRbSXOWwBor"
    },
    {
      "cell_type": "code",
      "source": [
        "def get_dataset(returns, portfolios, test_size=.3):\n",
        "\n",
        "    def generate_dict_data(data, portfolio_index):\n",
        "        (nbr_portfolios, _) = portfolio_index.shape\n",
        "        X = []\n",
        "        y = []\n",
        "        for p in portfolio_index:\n",
        "            x_temp, y_temp = generate_sliding_window(data, p)\n",
        "            X.append(x_temp)\n",
        "            y.append(y_temp)\n",
        "        (iterations, num_stocks, history_window, _) = x_temp.shape\n",
        "        (_, _, future_window, _) = y_temp.shape\n",
        "        X = jnp.array(X).reshape(nbr_portfolios*iterations, num_stocks, history_window, 1)\n",
        "        y = jnp.array(y).reshape(nbr_portfolios*iterations, num_stocks, history_window, 1)\n",
        "        return {'X' : X, 'y' : y, 'p_i' : portfolio_index}\n",
        "\n",
        "\n",
        "    total = generate_dict_data(returns, portfolios)\n",
        "    (size,_,_,_) = total['X'].shape\n",
        "    test_size = int(size*test_size)\n",
        "    train_ds = {'X' : total['X'][:-test_size], 'y' : total['y'][:-test_size] }\n",
        "    test_ds  = {'X' : total['X'][-test_size:], 'y' : total['y'][-test_size:] }\n",
        "    return train_ds, test_ds, total"
      ],
      "metadata": {
        "id": "SwLZvW9gtK8r"
      },
      "id": "SwLZvW9gtK8r",
      "execution_count": 475,
      "outputs": []
    },
    {
      "cell_type": "code",
      "source": [
        "train_ds, test_ds, total = get_dataset(returns, portfolios)"
      ],
      "metadata": {
        "id": "CAov4Mlutkwi"
      },
      "id": "CAov4Mlutkwi",
      "execution_count": 476,
      "outputs": []
    },
    {
      "cell_type": "code",
      "source": [
        "train_ds['y'].shape"
      ],
      "metadata": {
        "colab": {
          "base_uri": "https://localhost:8080/"
        },
        "id": "WoJn-Us-1Ef1",
        "outputId": "5cb4a094-a405-4d0a-8a05-441b575d13f0"
      },
      "id": "WoJn-Us-1Ef1",
      "execution_count": 477,
      "outputs": [
        {
          "output_type": "execute_result",
          "data": {
            "text/plain": [
              "(13514, 8, 30, 1)"
            ]
          },
          "metadata": {},
          "execution_count": 477
        }
      ]
    },
    {
      "cell_type": "code",
      "source": [
        "test_ds['X'].shape"
      ],
      "metadata": {
        "colab": {
          "base_uri": "https://localhost:8080/"
        },
        "id": "erXKrg0U1qJF",
        "outputId": "222f769b-a0e0-4464-f55f-cd59716eeaca"
      },
      "id": "erXKrg0U1qJF",
      "execution_count": 478,
      "outputs": [
        {
          "output_type": "execute_result",
          "data": {
            "text/plain": [
              "(5791, 8, 30, 1)"
            ]
          },
          "metadata": {},
          "execution_count": 478
        }
      ]
    },
    {
      "cell_type": "code",
      "source": [
        "fig, ax = plt.subplots(1,2,figsize=(20,5))\n",
        "ax[0].imshow(train_ds['X'][0,:,:,1], aspect='auto')\n",
        "ax[1].imshow(train_ds['y'][0,:,:,1], aspect='auto')\n",
        "plt.show()"
      ],
      "metadata": {
        "colab": {
          "base_uri": "https://localhost:8080/",
          "height": 184
        },
        "id": "agyrMTiavgGs",
        "outputId": "545f1733-29d7-46f2-c9ac-21ee11ff1bc6"
      },
      "id": "agyrMTiavgGs",
      "execution_count": 479,
      "outputs": [
        {
          "output_type": "display_data",
          "data": {
            "image/png": "[encoded data removed]",
            "text/plain": [
              "<Figure size 1440x360 with 2 Axes>"
            ]
          },
          "metadata": {
            "needs_background": "light"
          }
        }
      ]
    },
    {
      "cell_type": "code",
      "source": [
        "fig, ax = plt.subplots(1,2,figsize=(20,5))\n",
        "ax[0].imshow(train_ds['X'][1,:,:,1], aspect='auto')\n",
        "ax[1].imshow(train_ds['y'][1,:,:,1], aspect='auto')\n",
        "plt.show()"
      ],
      "metadata": {
        "colab": {
          "base_uri": "https://localhost:8080/",
          "height": 184
        },
        "id": "1bkW9-rAwedX",
        "outputId": "dfa414d7-e59e-4a12-b0ee-83ca3859bcc0"
      },
      "id": "1bkW9-rAwedX",
      "execution_count": 480,
      "outputs": [
        {
          "output_type": "display_data",
          "data": {
            "image/png": "[encoded data removed]",
            "text/plain": [
              "<Figure size 1440x360 with 2 Axes>"
            ]
          },
          "metadata": {
            "needs_background": "light"
          }
        }
      ]
    },
    {
      "cell_type": "markdown",
      "source": [
        "## 2. Defining a model\n",
        "We will treat every prospect portfolio as an image as seen above. I have a hunge that a Convolutional Neural Network will do fine on that task. This is the same model used in my Flax's MNIST-example. We will use that as a starting point."
      ],
      "metadata": {
        "id": "jGKOCTSMr-Gc"
      },
      "id": "jGKOCTSMr-Gc"
    },
    {
      "cell_type": "code",
      "source": [
        "from typing import Sequence\n",
        "\n",
        "class CNN(nn.Module):\n",
        "    @nn.compact\n",
        "    def __call__(self, x):\n",
        "        x = nn.Conv(features=32, kernel_size=(3, 3))(x)\n",
        "        x = nn.relu(x)\n",
        "        x = nn.avg_pool(x, window_shape=(2, 2), strides=(2, 2))\n",
        "        x = nn.Conv(features=64, kernel_size=(3, 3))(x)\n",
        "        x = nn.relu(x)\n",
        "        x = nn.avg_pool(x, window_shape=(2, 2), strides=(2, 2))\n",
        "        x = x.reshape((x.shape[0], -1)) # x.ravel?\n",
        "        x = nn.Dense(features=256)(x)\n",
        "        x = nn.relu(x)\n",
        "        x = nn.Dense(features=num_stocks)(x)\n",
        "        x = nn.softmax(x)\n",
        "        return x\n"
      ],
      "metadata": {
        "id": "Q6dtJ6UTkcYE"
      },
      "id": "Q6dtJ6UTkcYE",
      "execution_count": 481,
      "outputs": []
    },
    {
      "cell_type": "markdown",
      "source": [
        "## 3. Defining loss function\n",
        "\n",
        "We want to directly optimize the Sharpe Ratio."
      ],
      "metadata": {
        "id": "dm2I5qdLtkbF"
      },
      "id": "dm2I5qdLtkbF"
    },
    {
      "cell_type": "code",
      "source": [
        "def mean_returns(X, w):\n",
        "    mean_returns = jnp.mean(X, axis=1)*252\n",
        "    return jnp.dot(w.T,mean_returns)[0]\n",
        "\n",
        "def old_volatility(X, w):\n",
        "    return jnp.sqrt(jnp.dot(w.T, jnp.dot(jnp.cov(X)*252, w)))\n",
        "\n",
        "def volatility(X, w):\n",
        "    return jnp.sqrt(jnp.dot(w.T, jnp.dot(jnp.cov(X[:,:,0])*252, w)))\n",
        "\n",
        "def sharpe_ratio(r, rf, v):\n",
        "    return (r - rf) / v\n",
        "\n",
        "def old_sharpe_loss(X, w, rf):\n",
        "    (index, assets, window, _) = X.shape \n",
        "    X = X.reshape(assets, window*index)\n",
        "    r = mean_returns(X, w)\n",
        "    v = volatility(X,w)\n",
        "    return - sharpe_ratio(r, rf, v), r, v\n",
        "\n",
        "def sharpe_loss(X, w, rf):\n",
        "    r = vmap(mean_returns)(X, w)\n",
        "    v = vmap(volatility)(X, w)\n",
        "    sr = sharpe_ratio(r, rf, v)\n",
        "    return - jnp.mean(sr), jnp.mean(r), jnp.mean(v)"
      ],
      "metadata": {
        "id": "72ZkbyVTv5wA"
      },
      "id": "72ZkbyVTv5wA",
      "execution_count": 482,
      "outputs": []
    },
    {
      "cell_type": "code",
      "source": [
        "train_ds['X'].shape"
      ],
      "metadata": {
        "colab": {
          "base_uri": "https://localhost:8080/"
        },
        "id": "8r1bSNLugTDn",
        "outputId": "ba734ad2-1100-4efa-cfa7-be1a57c3bbd4"
      },
      "id": "8r1bSNLugTDn",
      "execution_count": 483,
      "outputs": [
        {
          "output_type": "execute_result",
          "data": {
            "text/plain": [
              "(13514, 8, 30, 1)"
            ]
          },
          "metadata": {},
          "execution_count": 483
        }
      ]
    },
    {
      "cell_type": "code",
      "source": [
        "num_portfolios,_,_,_ = train_ds['X'].shape\n",
        "w = np.random.random(num_stocks*num_portfolios).reshape(num_portfolios, num_stocks)\n",
        "w /= np.sum(w,axis=1).reshape(-1,1)\n",
        "\n",
        "sample = train_ds['X']\n",
        "\n",
        "rf = 0.0125\n",
        "\n",
        "(sl, r, v) = sharpe_loss(sample, w, rf)\n",
        "sr = -sl\n",
        "print('mean returns : ', r)\n",
        "print('volatility   : ', v)\n",
        "print('Sharpe Ratio : ', sr)\n",
        "print('Sharpe Loss  : ', sl)"
      ],
      "metadata": {
        "colab": {
          "base_uri": "https://localhost:8080/"
        },
        "id": "mEL6GtpJ0X6F",
        "outputId": "ba4d1bf6-c377-4400-e46a-aaa14b9e7bfc"
      },
      "id": "mEL6GtpJ0X6F",
      "execution_count": 484,
      "outputs": [
        {
          "output_type": "stream",
          "name": "stdout",
          "text": [
            "mean returns :  0.3572685\n",
            "volatility   :  0.15535435\n",
            "Sharpe Ratio :  2.7907531\n",
            "Sharpe Loss  :  -2.7907531\n"
          ]
        }
      ]
    },
    {
      "cell_type": "markdown",
      "source": [
        "## 4. Metric computation"
      ],
      "metadata": {
        "id": "bcrQ7sXizEe0"
      },
      "id": "bcrQ7sXizEe0"
    },
    {
      "cell_type": "code",
      "source": [
        "def compute_metrics(y, w, rf):\n",
        "    (sl, r, v) = sharpe_loss(y, w, rf)\n",
        "    metrics = {'mean returns' : r, 'volatility' : v,\n",
        "               'sharpe ratio': -sl, 'loss' : sl}\n",
        "    return metrics"
      ],
      "metadata": {
        "id": "gdGTP2ojxCNm"
      },
      "id": "gdGTP2ojxCNm",
      "execution_count": 485,
      "outputs": []
    },
    {
      "cell_type": "markdown",
      "source": [
        "## 5. Create Train State"
      ],
      "metadata": {
        "id": "He8YHaUFzua2"
      },
      "id": "He8YHaUFzua2"
    },
    {
      "cell_type": "code",
      "source": [
        "class CustomTrainState(train_state.TrainState):\n",
        "    rf : int = 0.0125\n",
        "\n",
        "def create_train_state(model, rng, learning_rate, momentum, sample, rf):\n",
        "    params = model.init(rng, jnp.ones(np.shape([sample])))['params'] \n",
        "    tx = optax.sgd(learning_rate, momentum)\n",
        "    return CustomTrainState.create(apply_fn=model.apply, params=params, tx=tx, rf=rf)"
      ],
      "metadata": {
        "id": "BzUb5f9lzo76"
      },
      "id": "BzUb5f9lzo76",
      "execution_count": 486,
      "outputs": []
    },
    {
      "cell_type": "markdown",
      "source": [
        "## 6 Initialize\n",
        "This is simply for testing"
      ],
      "metadata": {
        "id": "mIbeCXxhz5cM"
      },
      "id": "mIbeCXxhz5cM"
    },
    {
      "cell_type": "code",
      "source": [
        "rng = jax.random.PRNGKey(0)\n",
        "rng, init_rng = jax.random.split(rng)\n",
        "lr = 0.01\n",
        "m = 0.7\n",
        "rf = 0.0125\n",
        "model = CNN()\n",
        "sample = train_ds['X'][0]\n",
        "state = create_train_state(model, rng, lr, m, sample, rf)\n",
        "print(jax.tree_map(jnp.shape, state.params))"
      ],
      "metadata": {
        "colab": {
          "base_uri": "https://localhost:8080/"
        },
        "id": "93Yy5-UJzzKi",
        "outputId": "99f702ad-d83d-4ef9-dcc7-220aa3613fcb"
      },
      "id": "93Yy5-UJzzKi",
      "execution_count": 487,
      "outputs": [
        {
          "output_type": "stream",
          "name": "stdout",
          "text": [
            "FrozenDict({\n",
            "    Conv_0: {\n",
            "        bias: (32,),\n",
            "        kernel: (3, 3, 1, 32),\n",
            "    },\n",
            "    Conv_1: {\n",
            "        bias: (64,),\n",
            "        kernel: (3, 3, 32, 64),\n",
            "    },\n",
            "    Dense_0: {\n",
            "        bias: (256,),\n",
            "        kernel: (896, 256),\n",
            "    },\n",
            "    Dense_1: {\n",
            "        bias: (8,),\n",
            "        kernel: (256, 8),\n",
            "    },\n",
            "})\n"
          ]
        }
      ]
    },
    {
      "cell_type": "code",
      "source": [
        "w_pred = predict(state, test_ds['X'])\n",
        "loss, r, v = sharpe_loss(test_ds['y'], w_pred, rf)"
      ],
      "metadata": {
        "id": "Yf7H1tkXwref"
      },
      "id": "Yf7H1tkXwref",
      "execution_count": 488,
      "outputs": []
    },
    {
      "cell_type": "code",
      "source": [
        "print(loss)"
      ],
      "metadata": {
        "colab": {
          "base_uri": "https://localhost:8080/"
        },
        "id": "53ZSVLW84z7y",
        "outputId": "27009750-a97d-49ef-db53-6e23f8d9968e"
      },
      "id": "53ZSVLW84z7y",
      "execution_count": 489,
      "outputs": [
        {
          "output_type": "stream",
          "name": "stdout",
          "text": [
            "-3.3308501\n"
          ]
        }
      ]
    },
    {
      "cell_type": "markdown",
      "source": [
        "## 7. Predict and evaluate"
      ],
      "metadata": {
        "id": "dTkdbjFK4YLH"
      },
      "id": "dTkdbjFK4YLH"
    },
    {
      "cell_type": "code",
      "source": [
        "@jax.jit\n",
        "def predict(state, X):\n",
        "    return state.apply_fn({'params' : state.params}, X)\n",
        "\n",
        "@jax.jit\n",
        "def evaluate(state, X, y):\n",
        "    w_pred = state.apply_fn({'params' : state.params}, X)\n",
        "    return compute_metrics(y, w_pred, state.rf)"
      ],
      "metadata": {
        "id": "VZ7ux8Bc4T8m"
      },
      "id": "VZ7ux8Bc4T8m",
      "execution_count": 490,
      "outputs": []
    },
    {
      "cell_type": "markdown",
      "source": [
        "## 8. Train Step"
      ],
      "metadata": {
        "id": "95Z1BLpq34Vg"
      },
      "id": "95Z1BLpq34Vg"
    },
    {
      "cell_type": "code",
      "source": [
        "@jax.jit\n",
        "def train_step(state, X, y):\n",
        "    def loss_fn(params):\n",
        "        w_pred = state.apply_fn({'params' : params}, X)\n",
        "        (loss, _, _) = sharpe_loss(y, w_pred, state.rf)\n",
        "        return loss, w_pred\n",
        "    grad_fn = jax.value_and_grad(loss_fn, has_aux=True)\n",
        "    (_, w_pred), grads = grad_fn(state.params)\n",
        "    state = state.apply_gradients(grads=grads) \n",
        "    metrics = compute_metrics(y, w_pred, state.rf)\n",
        "    return state, metrics\n",
        "#(_, w_pred), grads = grad_fn(state.params)"
      ],
      "metadata": {
        "id": "3MMgwkIU76VM"
      },
      "id": "3MMgwkIU76VM",
      "execution_count": 491,
      "outputs": []
    },
    {
      "cell_type": "code",
      "source": [
        "def train_epoch(state, train_ds, batch_size, epoch, rng):\n",
        "    \"\"\"Train for a single epoch.\"\"\"\n",
        "    train_ds_size = len(train_ds['X'])\n",
        "    steps_per_epoch = train_ds_size // batch_size\n",
        "    perms = jax.random.permutation(rng, train_ds_size)\n",
        "    perms = perms[:steps_per_epoch * batch_size]  # skip incomplete batch\n",
        "    perms = perms.reshape((steps_per_epoch, batch_size)) # perms are indices \n",
        "    batch_metrics = []\n",
        "    for perm in perms:\n",
        "        batch = {k: v[perm] for k, v in train_ds.items()} # v[perm, ...] ? \n",
        "        state, metrics = train_step(state, X=batch['X'], y=batch['y'])\n",
        "        batch_metrics.append(metrics)\n",
        "\n",
        "    # compute mean of metrics across each batch in epoch.\n",
        "    batch_metrics_np = jax.device_get(batch_metrics)\n",
        "    epoch_metrics_np = {k: np.mean([metrics[k] \n",
        "                        for metrics in batch_metrics_np])\n",
        "                        for k in batch_metrics_np[0]}\n",
        "\n",
        "    return state"
      ],
      "metadata": {
        "id": "FE1Np5R4D391"
      },
      "id": "FE1Np5R4D391",
      "execution_count": 495,
      "outputs": []
    },
    {
      "cell_type": "markdown",
      "source": [
        "## 9. Training loop"
      ],
      "metadata": {
        "id": "SwlzuL4s2MzV"
      },
      "id": "SwlzuL4s2MzV"
    },
    {
      "cell_type": "code",
      "source": [
        "rng = jax.random.PRNGKey(0)\n",
        "rng, init_rng = jax.random.split(rng)\n",
        "lr = 0.01\n",
        "m = 0.7\n",
        "rf = 0.0125\n",
        "model = CNN()\n",
        "state = create_train_state(model, rng, lr, m, sample, rf)\n",
        "batch_size=1\n"
      ],
      "metadata": {
        "id": "w-CiMJsa2iKw"
      },
      "id": "w-CiMJsa2iKw",
      "execution_count": 493,
      "outputs": []
    },
    {
      "cell_type": "code",
      "source": [
        "epoch = 1\n",
        "state, metrics = train_step(state, X=train_ds['X'], y=train_ds['y'])\n",
        "print('epoch {} | loss : {:.5f} | returns : {:.5f} | vol : {:.5f} | sharpe ratio : {:.5f} |'.format(\n",
        "  epoch, metrics['loss'], metrics['mean returns'], metrics['volatility'], metrics['sharpe ratio']))"
      ],
      "metadata": {
        "colab": {
          "base_uri": "https://localhost:8080/"
        },
        "id": "40Exxah9ZgiD",
        "outputId": "e50f40c7-dc35-4bc0-b8ec-594e5166dff8"
      },
      "id": "40Exxah9ZgiD",
      "execution_count": 494,
      "outputs": [
        {
          "output_type": "stream",
          "name": "stdout",
          "text": [
            "epoch 1 | loss : -3.37366 | returns : 0.38893 | vol : 0.13646 | sharpe ratio : 3.37366 |\n"
          ]
        }
      ]
    },
    {
      "cell_type": "code",
      "source": [
        "rng = jax.random.PRNGKey(0)\n",
        "rng, init_rng = jax.random.split(rng)\n",
        "lr = 0.001\n",
        "m = 0.7\n",
        "rf = 0.0125\n",
        "model = CNN()\n",
        "state = create_train_state(model, rng, lr, m, sample, rf)\n",
        "batch_size=32\n",
        "\n",
        "epochs = 100\n",
        "train_epoch_metrics = []\n",
        "test_epoch_metrics = []\n",
        "for epoch in range(1, epochs + 1):\n",
        "    # Use a separate PRNG key to permute image data during shuffling\n",
        "    rng, input_rng = jax.random.split(rng)\n",
        "    # Run an optimization step over a training batch\n",
        "    state = train_epoch(state, train_ds, batch_size, epoch, input_rng)\n",
        "    train_metrics = evaluate(state, X=train_ds['X'], y=train_ds['y'])\n",
        "    test_metrics = evaluate(state, X=test_ds['X'], y=test_ds['y'])\n",
        "    train_epoch_metrics.append(train_metrics)\n",
        "    test_epoch_metrics.append(test_metrics)\n",
        "    print('epoch : {} | train_loss : {:.5f} | val_loss : {:.5f} | '.format(\n",
        "      epoch, train_metrics['loss'], test_metrics['loss']))"
      ],
      "metadata": {
        "colab": {
          "base_uri": "https://localhost:8080/"
        },
        "id": "MCkwdvwh2SUn",
        "outputId": "bf31f4f0-263d-4570-c3fb-2f6ae2d58938"
      },
      "id": "MCkwdvwh2SUn",
      "execution_count": 501,
      "outputs": [
        {
          "output_type": "stream",
          "name": "stdout",
          "text": [
            "epoch : 1 | train_loss : -4.02060 | val_loss : -3.98695 | \n",
            "epoch : 2 | train_loss : -4.05052 | val_loss : -4.02738 | \n",
            "epoch : 3 | train_loss : -4.06259 | val_loss : -4.04240 | \n",
            "epoch : 4 | train_loss : -4.07202 | val_loss : -4.05628 | \n",
            "epoch : 5 | train_loss : -4.08030 | val_loss : -4.06231 | \n",
            "epoch : 6 | train_loss : -4.09878 | val_loss : -4.08013 | \n",
            "epoch : 7 | train_loss : -4.12074 | val_loss : -4.10316 | \n",
            "epoch : 8 | train_loss : -4.15097 | val_loss : -4.13109 | \n",
            "epoch : 9 | train_loss : -4.19005 | val_loss : -4.17110 | \n",
            "epoch : 10 | train_loss : -4.25269 | val_loss : -4.23479 | \n",
            "epoch : 11 | train_loss : -4.34094 | val_loss : -4.32615 | \n",
            "epoch : 12 | train_loss : -4.48249 | val_loss : -4.44823 | \n",
            "epoch : 13 | train_loss : -4.72390 | val_loss : -4.68051 | \n",
            "epoch : 14 | train_loss : -5.05033 | val_loss : -4.97665 | \n",
            "epoch : 15 | train_loss : -5.41025 | val_loss : -5.29253 | \n",
            "epoch : 16 | train_loss : -5.71857 | val_loss : -5.55550 | \n",
            "epoch : 17 | train_loss : -5.93202 | val_loss : -5.74268 | \n",
            "epoch : 18 | train_loss : -6.03797 | val_loss : -5.86721 | \n",
            "epoch : 19 | train_loss : -6.24468 | val_loss : -6.02408 | \n",
            "epoch : 20 | train_loss : -6.38925 | val_loss : -6.18637 | \n",
            "epoch : 21 | train_loss : -6.50832 | val_loss : -6.28023 | \n",
            "epoch : 22 | train_loss : -6.68064 | val_loss : -6.44824 | \n",
            "epoch : 23 | train_loss : -6.85638 | val_loss : -6.56552 | \n",
            "epoch : 24 | train_loss : -6.94326 | val_loss : -6.65568 | \n",
            "epoch : 25 | train_loss : -7.11019 | val_loss : -6.76947 | \n",
            "epoch : 26 | train_loss : -7.24466 | val_loss : -6.95431 | \n",
            "epoch : 27 | train_loss : -7.37527 | val_loss : -7.04526 | \n",
            "epoch : 28 | train_loss : -7.41864 | val_loss : -7.04713 | \n",
            "epoch : 29 | train_loss : -7.57711 | val_loss : -7.23818 | \n",
            "epoch : 30 | train_loss : -7.71082 | val_loss : -7.33637 | \n",
            "epoch : 31 | train_loss : -7.82309 | val_loss : -7.42672 | \n",
            "epoch : 32 | train_loss : -7.89877 | val_loss : -7.46140 | \n",
            "epoch : 33 | train_loss : -7.99908 | val_loss : -7.59204 | \n",
            "epoch : 34 | train_loss : -8.08285 | val_loss : -7.65505 | \n",
            "epoch : 35 | train_loss : -8.18863 | val_loss : -7.74028 | \n",
            "epoch : 36 | train_loss : -8.23045 | val_loss : -7.76630 | \n",
            "epoch : 37 | train_loss : -8.32297 | val_loss : -7.83952 | \n",
            "epoch : 38 | train_loss : -8.43587 | val_loss : -7.95467 | \n",
            "epoch : 39 | train_loss : -8.49912 | val_loss : -8.05198 | \n",
            "epoch : 40 | train_loss : -8.58577 | val_loss : -8.08246 | \n",
            "epoch : 41 | train_loss : -8.67080 | val_loss : -8.21985 | \n",
            "epoch : 42 | train_loss : -8.76622 | val_loss : -8.28447 | \n",
            "epoch : 43 | train_loss : -8.80954 | val_loss : -8.28303 | \n",
            "epoch : 44 | train_loss : -8.92213 | val_loss : -8.43054 | \n",
            "epoch : 45 | train_loss : -8.96387 | val_loss : -8.47462 | \n",
            "epoch : 46 | train_loss : -9.05340 | val_loss : -8.54170 | \n",
            "epoch : 47 | train_loss : -9.06979 | val_loss : -8.53083 | \n",
            "epoch : 48 | train_loss : -9.18255 | val_loss : -8.66484 | \n",
            "epoch : 49 | train_loss : -9.23316 | val_loss : -8.69733 | \n",
            "epoch : 50 | train_loss : -9.28110 | val_loss : -8.73668 | \n",
            "epoch : 51 | train_loss : -9.36044 | val_loss : -8.83002 | \n",
            "epoch : 52 | train_loss : -9.41639 | val_loss : -8.84339 | \n",
            "epoch : 53 | train_loss : -9.44169 | val_loss : -8.90585 | \n",
            "epoch : 54 | train_loss : -9.49216 | val_loss : -8.99394 | \n",
            "epoch : 55 | train_loss : -9.52590 | val_loss : -8.95431 | \n",
            "epoch : 56 | train_loss : -9.55001 | val_loss : -8.97640 | \n",
            "epoch : 57 | train_loss : -9.60113 | val_loss : -9.03609 | \n",
            "epoch : 58 | train_loss : -9.60288 | val_loss : -9.02951 | \n",
            "epoch : 59 | train_loss : -9.66915 | val_loss : -9.09123 | \n",
            "epoch : 60 | train_loss : -9.69140 | val_loss : -9.14184 | \n",
            "epoch : 61 | train_loss : -9.70968 | val_loss : -9.11023 | \n",
            "epoch : 62 | train_loss : -9.72983 | val_loss : -9.16249 | \n",
            "epoch : 63 | train_loss : -9.77095 | val_loss : -9.19952 | \n",
            "epoch : 64 | train_loss : -9.73851 | val_loss : -9.20195 | \n",
            "epoch : 65 | train_loss : -9.82654 | val_loss : -9.22610 | \n",
            "epoch : 66 | train_loss : -9.83304 | val_loss : -9.26248 | \n",
            "epoch : 67 | train_loss : -9.85546 | val_loss : -9.30198 | \n",
            "epoch : 68 | train_loss : -9.88864 | val_loss : -9.34396 | \n",
            "epoch : 69 | train_loss : -9.87813 | val_loss : -9.33672 | \n",
            "epoch : 70 | train_loss : -9.91585 | val_loss : -9.31676 | \n",
            "epoch : 71 | train_loss : -9.95151 | val_loss : -9.39734 | \n",
            "epoch : 72 | train_loss : -9.92937 | val_loss : -9.36069 | \n",
            "epoch : 73 | train_loss : -9.97554 | val_loss : -9.43166 | \n",
            "epoch : 74 | train_loss : -9.99926 | val_loss : -9.44311 | \n",
            "epoch : 75 | train_loss : -9.98507 | val_loss : -9.43859 | \n",
            "epoch : 76 | train_loss : -9.91001 | val_loss : -9.33619 | \n",
            "epoch : 77 | train_loss : -10.03357 | val_loss : -9.46481 | \n",
            "epoch : 78 | train_loss : -10.04737 | val_loss : -9.43771 | \n",
            "epoch : 79 | train_loss : -10.06573 | val_loss : -9.46881 | \n",
            "epoch : 80 | train_loss : -10.08038 | val_loss : -9.51650 | \n",
            "epoch : 81 | train_loss : -10.09878 | val_loss : -9.51500 | \n",
            "epoch : 82 | train_loss : -10.11079 | val_loss : -9.52594 | \n",
            "epoch : 83 | train_loss : -10.09685 | val_loss : -9.52887 | \n",
            "epoch : 84 | train_loss : -10.14056 | val_loss : -9.58527 | \n",
            "epoch : 85 | train_loss : -10.14944 | val_loss : -9.57831 | \n",
            "epoch : 86 | train_loss : -10.15650 | val_loss : -9.60866 | \n",
            "epoch : 87 | train_loss : -10.15417 | val_loss : -9.57946 | \n",
            "epoch : 88 | train_loss : -10.19083 | val_loss : -9.65174 | \n",
            "epoch : 89 | train_loss : -10.20856 | val_loss : -9.63538 | \n",
            "epoch : 90 | train_loss : -10.20691 | val_loss : -9.63287 | \n",
            "epoch : 91 | train_loss : -10.22280 | val_loss : -9.64709 | \n",
            "epoch : 92 | train_loss : -10.21316 | val_loss : -9.66655 | \n",
            "epoch : 93 | train_loss : -10.21519 | val_loss : -9.68154 | \n",
            "epoch : 94 | train_loss : -10.24845 | val_loss : -9.67196 | \n",
            "epoch : 95 | train_loss : -10.27980 | val_loss : -9.71725 | \n",
            "epoch : 96 | train_loss : -10.28014 | val_loss : -9.67554 | \n",
            "epoch : 97 | train_loss : -10.28900 | val_loss : -9.71742 | \n",
            "epoch : 98 | train_loss : -10.27695 | val_loss : -9.69925 | \n",
            "epoch : 99 | train_loss : -10.31243 | val_loss : -9.71400 | \n",
            "epoch : 100 | train_loss : -10.30087 | val_loss : -9.78367 | \n"
          ]
        }
      ]
    },
    {
      "cell_type": "code",
      "source": [
        "evaluate(state, X=test_ds['X'], y=test_ds['y'])"
      ],
      "metadata": {
        "colab": {
          "base_uri": "https://localhost:8080/"
        },
        "id": "yQvPCNVzh_bq",
        "outputId": "90514b54-ce20-43cc-ef84-8831cc23ca32"
      },
      "id": "yQvPCNVzh_bq",
      "execution_count": 502,
      "outputs": [
        {
          "output_type": "execute_result",
          "data": {
            "text/plain": [
              "{'loss': DeviceArray(-9.783666, dtype=float32),\n",
              " 'mean returns': DeviceArray(1.6117293, dtype=float32),\n",
              " 'sharpe ratio': DeviceArray(9.783666, dtype=float32),\n",
              " 'volatility': DeviceArray(0.1606271, dtype=float32)}"
            ]
          },
          "metadata": {},
          "execution_count": 502
        }
      ]
    },
    {
      "cell_type": "markdown",
      "source": [
        "## 10. Evaluation"
      ],
      "metadata": {
        "id": "AnQYNgPz3UlP"
      },
      "id": "AnQYNgPz3UlP"
    },
    {
      "cell_type": "code",
      "source": [
        "train_df = pd.DataFrame(train_epoch_metrics, dtype='float32')\n",
        "test_df = pd.DataFrame(test_epoch_metrics, dtype='float32')"
      ],
      "metadata": {
        "id": "xXC5Awnl3T5u"
      },
      "id": "xXC5Awnl3T5u",
      "execution_count": 504,
      "outputs": []
    },
    {
      "cell_type": "code",
      "source": [
        "fig, ax = plt.subplots(1,4,figsize=(20,5))\n",
        "ax[0].plot(train_df['loss'], label='train')\n",
        "ax[0].plot(test_df['loss'], label='test')\n",
        "ax[0].legend()\n",
        "ax[1].plot(train_df['volatility'])\n",
        "ax[1].plot(test_df['volatility'])\n",
        "ax[2].plot(train_df['mean returns'])\n",
        "ax[2].plot(test_df['mean returns'])\n",
        "ax[3].plot(train_df['sharpe ratio'])\n",
        "ax[3].plot(test_df['sharpe ratio'])\n",
        "ax[0].title.set_text('Loss')\n",
        "ax[1].title.set_text('Volatility')\n",
        "ax[2].title.set_text('Returns')\n",
        "ax[3].title.set_text('Sharpe Ratio')\n",
        "plt.show()"
      ],
      "metadata": {
        "colab": {
          "base_uri": "https://localhost:8080/",
          "height": 190
        },
        "id": "9F0hAqM52m2m",
        "outputId": "7b089a25-b1e8-49a4-fc6f-57a98a8e3db9"
      },
      "id": "9F0hAqM52m2m",
      "execution_count": 505,
      "outputs": [
        {
          "output_type": "display_data",
          "data": {
            "image/png": "[encoded data removed]",
            "text/plain": [
              "<Figure size 1440x360 with 4 Axes>"
            ]
          },
          "metadata": {
            "needs_background": "light"
          }
        }
      ]
    },
    {
      "cell_type": "code",
      "source": [
        "w_pred = predict(state, test_ds['X'])"
      ],
      "metadata": {
        "id": "SFx6iH780uvx"
      },
      "id": "SFx6iH780uvx",
      "execution_count": 506,
      "outputs": []
    },
    {
      "cell_type": "code",
      "source": [
        "sharpe_loss(test_ds['y'], w_pred, state.rf)"
      ],
      "metadata": {
        "colab": {
          "base_uri": "https://localhost:8080/"
        },
        "id": "iPAhOueX7gkS",
        "outputId": "9e9b7436-e568-41d8-a9d1-877c50f405ea"
      },
      "id": "iPAhOueX7gkS",
      "execution_count": 507,
      "outputs": [
        {
          "output_type": "execute_result",
          "data": {
            "text/plain": [
              "(DeviceArray(-9.783666, dtype=float32),\n",
              " DeviceArray(1.6117291, dtype=float32),\n",
              " DeviceArray(0.1606271, dtype=float32))"
            ]
          },
          "metadata": {},
          "execution_count": 507
        }
      ]
    },
    {
      "cell_type": "code",
      "source": [
        "r = vmap(mean_returns)(test_ds['y'], w_pred)\n",
        "v = vmap(volatility)(test_ds['y'],w_pred)\n",
        "sr = (r-rf)/v"
      ],
      "metadata": {
        "id": "uM5sLvKdcVZP"
      },
      "id": "uM5sLvKdcVZP",
      "execution_count": 508,
      "outputs": []
    },
    {
      "cell_type": "code",
      "source": [
        "sr"
      ],
      "metadata": {
        "colab": {
          "base_uri": "https://localhost:8080/"
        },
        "id": "ZI8U9qWz0KSX",
        "outputId": "3410d93a-6179-4009-b5df-5419c40e3db1"
      },
      "id": "ZI8U9qWz0KSX",
      "execution_count": 509,
      "outputs": [
        {
          "output_type": "execute_result",
          "data": {
            "text/plain": [
              "DeviceArray([14.454002  ,  6.332491  , 10.673669  , ...,  0.11406637,\n",
              "              8.628774  ,  5.8028145 ], dtype=float32)"
            ]
          },
          "metadata": {},
          "execution_count": 509
        }
      ]
    },
    {
      "cell_type": "code",
      "source": [
        "best_index = jnp.argmax(sr)\n",
        "best_sr = sr[best_index]\n",
        "best_v = v[best_index]\n",
        "best_r = r[best_index] \n",
        "best_w = w_pred[best_index]\n",
        "best_p = train_ds['portfolio_index'][best_index]\n",
        "best_t = list(map(lambda x : ticker_dict[x], best_p))\n",
        "results = pd.DataFrame(zip(best_t, best_w), columns=['Ticker', 'Weight'])\n",
        "print('SR : {:.5f} | Ret : {:.5f} | Vol : {:.5f}'.format(best_sr, best_r, best_v))"
      ],
      "metadata": {
        "colab": {
          "base_uri": "https://localhost:8080/"
        },
        "id": "GJmqtyeOcgCl",
        "outputId": "e72b2240-21bd-4c38-af02-242f906aaf24"
      },
      "id": "GJmqtyeOcgCl",
      "execution_count": 391,
      "outputs": [
        {
          "output_type": "stream",
          "name": "stdout",
          "text": [
            "SR : 8.74502 | Ret : 1.24215 | Vol : 0.14061\n"
          ]
        }
      ]
    },
    {
      "cell_type": "code",
      "source": [
        "results.sort_values(by='Weight', ascending=False)"
      ],
      "metadata": {
        "colab": {
          "base_uri": "https://localhost:8080/",
          "height": 300
        },
        "id": "VI9s2MZ6c-TT",
        "outputId": "a42f3d63-0299-4da4-c8bd-07396f928dca"
      },
      "id": "VI9s2MZ6c-TT",
      "execution_count": 395,
      "outputs": [
        {
          "output_type": "execute_result",
          "data": {
            "text/html": [
              "\n",
              "  <div id=\"df-a07160bd-597e-4fe3-88ee-c132a11c2d69\">\n",
              "    <div class=\"colab-df-container\">\n",
              "      <div>\n",
              "<style scoped>\n",
              "    .dataframe tbody tr th:only-of-type {\n",
              "        vertical-align: middle;\n",
              "    }\n",
              "\n",
              "    .dataframe tbody tr th {\n",
              "        vertical-align: top;\n",
              "    }\n",
              "\n",
              "    .dataframe thead th {\n",
              "        text-align: right;\n",
              "    }\n",
              "</style>\n",
              "<table border=\"1\" class=\"dataframe\">\n",
              "  <thead>\n",
              "    <tr style=\"text-align: right;\">\n",
              "      <th></th>\n",
              "      <th>Ticker</th>\n",
              "      <th>Weight</th>\n",
              "    </tr>\n",
              "  </thead>\n",
              "  <tbody>\n",
              "    <tr>\n",
              "      <th>0</th>\n",
              "      <td>COP</td>\n",
              "      <td>0.685666</td>\n",
              "    </tr>\n",
              "    <tr>\n",
              "      <th>2</th>\n",
              "      <td>GNRC</td>\n",
              "      <td>0.114386</td>\n",
              "    </tr>\n",
              "    <tr>\n",
              "      <th>6</th>\n",
              "      <td>LYV</td>\n",
              "      <td>0.067770</td>\n",
              "    </tr>\n",
              "    <tr>\n",
              "      <th>7</th>\n",
              "      <td>EL</td>\n",
              "      <td>0.054443</td>\n",
              "    </tr>\n",
              "    <tr>\n",
              "      <th>3</th>\n",
              "      <td>ETSY</td>\n",
              "      <td>0.047783</td>\n",
              "    </tr>\n",
              "    <tr>\n",
              "      <th>1</th>\n",
              "      <td>MTCH</td>\n",
              "      <td>0.020579</td>\n",
              "    </tr>\n",
              "    <tr>\n",
              "      <th>4</th>\n",
              "      <td>TSLA</td>\n",
              "      <td>0.008712</td>\n",
              "    </tr>\n",
              "    <tr>\n",
              "      <th>5</th>\n",
              "      <td>COST</td>\n",
              "      <td>0.000661</td>\n",
              "    </tr>\n",
              "  </tbody>\n",
              "</table>\n",
              "</div>\n",
              "      <button class=\"colab-df-convert\" onclick=\"convertToInteractive('df-a07160bd-597e-4fe3-88ee-c132a11c2d69')\"\n",
              "              title=\"Convert this dataframe to an interactive table.\"\n",
              "              style=\"display:none;\">\n",
              "        \n",
              "  <svg xmlns=\"http://www.w3.org/2000/svg\" height=\"24px\"viewBox=\"0 0 24 24\"\n",
              "       width=\"24px\">\n",
              "    <path d=\"M0 0h24v24H0V0z\" fill=\"none\"/>\n",
              "    <path d=\"M18.56 5.44l.94 2.06.94-2.06 2.06-.94-2.06-.94-.94-2.06-.94 2.06-2.06.94zm-11 1L8.5 8.5l.94-2.06 2.06-.94-2.06-.94L8.5 2.5l-.94 2.06-2.06.94zm10 10l.94 2.06.94-2.06 2.06-.94-2.06-.94-.94-2.06-.94 2.06-2.06.94z\"/><path d=\"M17.41 7.96l-1.37-1.37c-.4-.4-.92-.59-1.43-.59-.52 0-1.04.2-1.43.59L10.3 9.45l-7.72 7.72c-.78.78-.78 2.05 0 2.83L4 21.41c.39.39.9.59 1.41.59.51 0 1.02-.2 1.41-.59l7.78-7.78 2.81-2.81c.8-.78.8-2.07 0-2.86zM5.41 20L4 18.59l7.72-7.72 1.47 1.35L5.41 20z\"/>\n",
              "  </svg>\n",
              "      </button>\n",
              "      \n",
              "  <style>\n",
              "    .colab-df-container {\n",
              "      display:flex;\n",
              "      flex-wrap:wrap;\n",
              "      gap: 12px;\n",
              "    }\n",
              "\n",
              "    .colab-df-convert {\n",
              "      background-color: #E8F0FE;\n",
              "      border: none;\n",
              "      border-radius: 50%;\n",
              "      cursor: pointer;\n",
              "      display: none;\n",
              "      fill: #1967D2;\n",
              "      height: 32px;\n",
              "      padding: 0 0 0 0;\n",
              "      width: 32px;\n",
              "    }\n",
              "\n",
              "    .colab-df-convert:hover {\n",
              "      background-color: #E2EBFA;\n",
              "      box-shadow: 0px 1px 2px rgba(60, 64, 67, 0.3), 0px 1px 3px 1px rgba(60, 64, 67, 0.15);\n",
              "      fill: #174EA6;\n",
              "    }\n",
              "\n",
              "    [theme=dark] .colab-df-convert {\n",
              "      background-color: #3B4455;\n",
              "      fill: #D2E3FC;\n",
              "    }\n",
              "\n",
              "    [theme=dark] .colab-df-convert:hover {\n",
              "      background-color: #434B5C;\n",
              "      box-shadow: 0px 1px 3px 1px rgba(0, 0, 0, 0.15);\n",
              "      filter: drop-shadow(0px 1px 2px rgba(0, 0, 0, 0.3));\n",
              "      fill: #FFFFFF;\n",
              "    }\n",
              "  </style>\n",
              "\n",
              "      <script>\n",
              "        const buttonEl =\n",
              "          document.querySelector('#df-a07160bd-597e-4fe3-88ee-c132a11c2d69 button.colab-df-convert');\n",
              "        buttonEl.style.display =\n",
              "          google.colab.kernel.accessAllowed ? 'block' : 'none';\n",
              "\n",
              "        async function convertToInteractive(key) {\n",
              "          const element = document.querySelector('#df-a07160bd-597e-4fe3-88ee-c132a11c2d69');\n",
              "          const dataTable =\n",
              "            await google.colab.kernel.invokeFunction('convertToInteractive',\n",
              "                                                     [key], {});\n",
              "          if (!dataTable) return;\n",
              "\n",
              "          const docLinkHtml = 'Like what you see? Visit the ' +\n",
              "            '<a target=\"_blank\" href=https://colab.research.google.com/notebooks/data_table.ipynb>data table notebook</a>'\n",
              "            + ' to learn more about interactive tables.';\n",
              "          element.innerHTML = '';\n",
              "          dataTable['output_type'] = 'display_data';\n",
              "          await google.colab.output.renderOutput(dataTable, element);\n",
              "          const docLink = document.createElement('div');\n",
              "          docLink.innerHTML = docLinkHtml;\n",
              "          element.appendChild(docLink);\n",
              "        }\n",
              "      </script>\n",
              "    </div>\n",
              "  </div>\n",
              "  "
            ],
            "text/plain": [
              "  Ticker    Weight\n",
              "0    COP  0.685666\n",
              "2   GNRC  0.114386\n",
              "6    LYV  0.067770\n",
              "7     EL  0.054443\n",
              "3   ETSY  0.047783\n",
              "1   MTCH  0.020579\n",
              "4   TSLA  0.008712\n",
              "5   COST  0.000661"
            ]
          },
          "metadata": {},
          "execution_count": 395
        }
      ]
    }
  ],
  "metadata": {
    "kernelspec": {
      "display_name": "Python 3 (ipykernel)",
      "language": "python",
      "name": "python3"
    },
    "language_info": {
      "codemirror_mode": {
        "name": "ipython",
        "version": 3
      },
      "file_extension": ".py",
      "mimetype": "text/x-python",
      "name": "python",
      "nbconvert_exporter": "python",
      "pygments_lexer": "ipython3",
      "version": "3.7.6"
    },
    "colab": {
      "name": "StocksNet.ipynb",
      "provenance": [],
      "collapsed_sections": [],
      "toc_visible": true,
      "include_colab_link": true
    },
    "accelerator": "GPU"
  },
  "nbformat": 4,
  "nbformat_minor": 5
}