{
  "cells": [
    {
      "cell_type": "markdown",
      "metadata": {
        "id": "view-in-github",
        "colab_type": "text"
      },
      "source": [
        "<a href=\"https://colab.research.google.com/github/eriknorlander/portfolio/blob/main/S%26P_500_Analysis.ipynb\" target=\"_parent\"><img src=\"https://colab.research.google.com/assets/colab-badge.svg\" alt=\"Open In Colab\"/></a>"
      ]
    },
    {
      "cell_type": "code",
      "source": [
        "!pip install yfinance"
      ],
      "metadata": {
        "colab": {
          "base_uri": "https://localhost:8080/"
        },
        "id": "TjnwMZ1Jb7Y9",
        "outputId": "de291557-42ce-49d8-8b99-e629e01c9497"
      },
      "id": "TjnwMZ1Jb7Y9",
      "execution_count": null,
      "outputs": [
        {
          "output_type": "stream",
          "name": "stdout",
          "text": [
            "Requirement already satisfied: yfinance in /usr/local/lib/python3.7/dist-packages (0.1.69)\n",
            "Requirement already satisfied: multitasking>=0.0.7 in /usr/local/lib/python3.7/dist-packages (from yfinance) (0.0.10)\n",
            "Requirement already satisfied: lxml>=4.5.1 in /usr/local/lib/python3.7/dist-packages (from yfinance) (4.7.1)\n",
            "Requirement already satisfied: requests>=2.26 in /usr/local/lib/python3.7/dist-packages (from yfinance) (2.27.1)\n",
            "Requirement already satisfied: numpy>=1.15 in /usr/local/lib/python3.7/dist-packages (from yfinance) (1.19.5)\n",
            "Requirement already satisfied: pandas>=0.24 in /usr/local/lib/python3.7/dist-packages (from yfinance) (1.1.5)\n",
            "Requirement already satisfied: python-dateutil>=2.7.3 in /usr/local/lib/python3.7/dist-packages (from pandas>=0.24->yfinance) (2.8.2)\n",
            "Requirement already satisfied: pytz>=2017.2 in /usr/local/lib/python3.7/dist-packages (from pandas>=0.24->yfinance) (2018.9)\n",
            "Requirement already satisfied: six>=1.5 in /usr/local/lib/python3.7/dist-packages (from python-dateutil>=2.7.3->pandas>=0.24->yfinance) (1.15.0)\n",
            "Requirement already satisfied: idna<4,>=2.5 in /usr/local/lib/python3.7/dist-packages (from requests>=2.26->yfinance) (2.10)\n",
            "Requirement already satisfied: urllib3<1.27,>=1.21.1 in /usr/local/lib/python3.7/dist-packages (from requests>=2.26->yfinance) (1.24.3)\n",
            "Requirement already satisfied: charset-normalizer~=2.0.0 in /usr/local/lib/python3.7/dist-packages (from requests>=2.26->yfinance) (2.0.10)\n",
            "Requirement already satisfied: certifi>=2017.4.17 in /usr/local/lib/python3.7/dist-packages (from requests>=2.26->yfinance) (2021.10.8)\n"
          ]
        }
      ]
    },
    {
      "cell_type": "code",
      "execution_count": null,
      "id": "f95a1d3d",
      "metadata": {
        "id": "f95a1d3d"
      },
      "outputs": [],
      "source": [
        "import yfinance as yf\n",
        "import pandas as pd \n",
        "import numpy as np\n",
        "import matplotlib.pyplot as plt "
      ]
    },
    {
      "cell_type": "code",
      "source": [
        "from google.colab import drive\n",
        "if 'google.colab' in str(get_ipython()):\n",
        "    drive.mount('/content/drive')\n",
        "    PATH = '/content/drive/MyDrive/portfolio/data/'\n",
        "    DATA_PATH = PATH + 'sp500/'\n",
        "    print('Running on CoLab')\n",
        "else:\n",
        "    PATH = '/Users/eriknorlander/portfolio/data/sp500/'\n",
        "    print('Not running on CoLab')"
      ],
      "metadata": {
        "colab": {
          "base_uri": "https://localhost:8080/"
        },
        "id": "LgNuDMOOb0KA",
        "outputId": "e93d7356-a26f-4611-ac78-6a485cc6d831"
      },
      "id": "LgNuDMOOb0KA",
      "execution_count": null,
      "outputs": [
        {
          "output_type": "stream",
          "name": "stdout",
          "text": [
            "Mounted at /content/drive\n",
            "Running on CoLab\n"
          ]
        }
      ]
    },
    {
      "cell_type": "code",
      "execution_count": null,
      "id": "160f7198",
      "metadata": {
        "colab": {
          "base_uri": "https://localhost:8080/"
        },
        "id": "160f7198",
        "outputId": "8eb97396-c925-4d9a-b37c-8fe5f327a3da"
      },
      "outputs": [
        {
          "output_type": "stream",
          "name": "stdout",
          "text": [
            "['MMM', 'AOS', 'ABT', 'ABBV', 'ABMD']\n"
          ]
        }
      ],
      "source": [
        "sp500 = pd.read_csv(PATH + 'sp500.csv')\n",
        "tickers = sp500.Symbol.tolist()\n",
        "print(tickers[:5])"
      ]
    },
    {
      "cell_type": "markdown",
      "id": "c8cbad2f",
      "metadata": {
        "id": "c8cbad2f"
      },
      "source": [
        "## Get Stock Data and write to csv"
      ]
    },
    {
      "cell_type": "code",
      "execution_count": null,
      "id": "8885843a",
      "metadata": {
        "colab": {
          "base_uri": "https://localhost:8080/"
        },
        "id": "8885843a",
        "outputId": "38aa5e43-74b9-4c2d-cbdd-1cc01376f4ad"
      },
      "outputs": [
        {
          "output_type": "stream",
          "name": "stdout",
          "text": [
            "Length : 507 First 5 : ['NOC (1)', 'SP500_Close', 'MMM', 'ABT', 'ABBV']\n"
          ]
        }
      ],
      "source": [
        "from os import listdir\n",
        "tickers_in_directory = [filename.replace('.csv','') for filename in listdir(DATA_PATH)]\n",
        "print('Length :', len(tickers_in_directory), 'First 5 :', tickers_in_directory[:5])"
      ]
    },
    {
      "cell_type": "code",
      "execution_count": null,
      "id": "70cf60b5",
      "metadata": {
        "colab": {
          "base_uri": "https://localhost:8080/"
        },
        "id": "70cf60b5",
        "outputId": "e7a9559d-26aa-44e6-cd7a-82b0c34347db"
      },
      "outputs": [
        {
          "output_type": "stream",
          "name": "stderr",
          "text": [
            "100%|██████████| 505/505 [00:00<00:00, 81388.03it/s]\n"
          ]
        }
      ],
      "source": [
        "from tqdm import tqdm\n",
        "for ticker in tqdm(tickers):\n",
        "    if ticker not in tickers_in_directory:\n",
        "        try:\n",
        "            stock = yf.Ticker(ticker)\n",
        "            history = stock.history(period='5y')\n",
        "            history.to_csv(DATA_PATH + str(ticker) + \".csv\")\n",
        "        except Exception as ex:\n",
        "            print('Could not get f{ticker} : ' + ex)\n"
      ]
    },
    {
      "cell_type": "code",
      "execution_count": null,
      "id": "e787c835",
      "metadata": {
        "id": "e787c835"
      },
      "outputs": [],
      "source": [
        "def get_stock_from_csv(filepath, ticker):\n",
        "    df = pd.read_csv(str(filepath) + str(ticker) + '.csv')\n",
        "    df = df.set_index('Date', drop=True)\n",
        "    if 'Unnamed: 0' in df.columns:\n",
        "        df = df.drop('Unnamed: 0', axis=1)\n",
        "    return df"
      ]
    },
    {
      "cell_type": "markdown",
      "id": "7f1d8121",
      "metadata": {
        "id": "7f1d8121"
      },
      "source": [
        "## Compute statistics"
      ]
    },
    {
      "cell_type": "code",
      "execution_count": null,
      "id": "d559b2b3",
      "metadata": {
        "id": "d559b2b3"
      },
      "outputs": [],
      "source": [
        "def add_daily_return(df):\n",
        "    df['Daily Return'] = (df['Close'] / df['Close'].shift(1)) - 1\n",
        "    return df  \n",
        "\n",
        "def add_cum_return(df):\n",
        "    df['Cum Return'] = (1 + df['Daily Return']).cumprod()\n",
        "    return df\n",
        "\n",
        "def add_bollinger_bands(df):\n",
        "    df['Middle Band'] = df['Close'].rolling(window=20).mean()\n",
        "    df['Upper Band'] = df['Middle Band'] + 1.96 * df['Close'].rolling(window=20).std()\n",
        "    df['Lower Band'] = df['Middle Band'] - 1.96 * df['Close'].rolling(window=20).std()\n",
        "    return df\n",
        "\n",
        "def add_ichimoku(df):\n",
        "    # Conversion\n",
        "    hi_val = df['High'].rolling(window=9).max()\n",
        "    low_val = df['Low'].rolling(window=9).min()\n",
        "    df['Conversion'] = (hi_val + low_val) / 2\n",
        "\n",
        "    # Baseline\n",
        "    hi_val2 = df['High'].rolling(window=26).max()\n",
        "    low_val2 = df['Low'].rolling(window=26).min()\n",
        "    df['Baseline'] = (hi_val2 + low_val2) / 2\n",
        "\n",
        "    # Spans\n",
        "    df['SpanA'] = ((df['Conversion'] + df['Baseline']) / 2).shift(26)\n",
        "    hi_val3 = df['High'].rolling(window=52).max()\n",
        "    low_val3 = df['Low'].rolling(window=52).min()\n",
        "    df['SpanB'] = ((hi_val3 + low_val3) / 2).shift(26)\n",
        "    df['Lagging'] = df['Close'].shift(-26)\n",
        "\n",
        "    return df"
      ]
    },
    {
      "cell_type": "code",
      "execution_count": null,
      "id": "d4138e55",
      "metadata": {
        "colab": {
          "base_uri": "https://localhost:8080/"
        },
        "id": "d4138e55",
        "outputId": "21c2bf62-bbd5-4abd-fe8a-60d408ec7a41"
      },
      "outputs": [
        {
          "output_type": "stream",
          "name": "stderr",
          "text": [
            "100%|██████████| 505/505 [00:38<00:00, 13.04it/s]\n"
          ]
        }
      ],
      "source": [
        "for ticker in tqdm(tickers):\n",
        "    try:\n",
        "        new_df = get_stock_from_csv(DATA_PATH, ticker)\n",
        "        new_df = add_daily_return(new_df)\n",
        "        new_df = add_cum_return(new_df)\n",
        "        new_df = add_bollinger_bands(new_df)\n",
        "        new_df = add_ichimoku(new_df)\n",
        "        new_df.to_csv(DATA_PATH + ticker + '.csv')\n",
        "    except Exception as ex:\n",
        "        print('Could not compute for : ' + str(ticker) + ' ' + ex)"
      ]
    },
    {
      "cell_type": "code",
      "execution_count": null,
      "id": "a610db8e",
      "metadata": {
        "id": "a610db8e"
      },
      "outputs": [],
      "source": [
        "df = get_stock_from_csv(DATA_PATH, 'AMD')"
      ]
    },
    {
      "cell_type": "code",
      "source": [
        "df"
      ],
      "metadata": {
        "colab": {
          "base_uri": "https://localhost:8080/",
          "height": 710
        },
        "id": "ACbJfENofkb5",
        "outputId": "5434ea8f-0df0-4936-e201-1c86f3512922"
      },
      "id": "ACbJfENofkb5",
      "execution_count": null,
      "outputs": [
        {
          "output_type": "execute_result",
          "data": {
            "text/html": [
              "\n",
              "  <div id=\"df-69958a24-3dc2-4169-9c37-556bc8d0f210\">\n",
              "    <div class=\"colab-df-container\">\n",
              "      <div>\n",
              "<style scoped>\n",
              "    .dataframe tbody tr th:only-of-type {\n",
              "        vertical-align: middle;\n",
              "    }\n",
              "\n",
              "    .dataframe tbody tr th {\n",
              "        vertical-align: top;\n",
              "    }\n",
              "\n",
              "    .dataframe thead th {\n",
              "        text-align: right;\n",
              "    }\n",
              "</style>\n",
              "<table border=\"1\" class=\"dataframe\">\n",
              "  <thead>\n",
              "    <tr style=\"text-align: right;\">\n",
              "      <th></th>\n",
              "      <th>Open</th>\n",
              "      <th>High</th>\n",
              "      <th>Low</th>\n",
              "      <th>Close</th>\n",
              "      <th>Volume</th>\n",
              "      <th>Dividends</th>\n",
              "      <th>Stock Splits</th>\n",
              "      <th>Daily Return</th>\n",
              "      <th>Cum Return</th>\n",
              "      <th>Middle Band</th>\n",
              "      <th>Upper Band</th>\n",
              "      <th>Lower Band</th>\n",
              "      <th>Conversion</th>\n",
              "      <th>Baseline</th>\n",
              "      <th>SpanA</th>\n",
              "      <th>SpanB</th>\n",
              "      <th>Lagging</th>\n",
              "    </tr>\n",
              "    <tr>\n",
              "      <th>Date</th>\n",
              "      <th></th>\n",
              "      <th></th>\n",
              "      <th></th>\n",
              "      <th></th>\n",
              "      <th></th>\n",
              "      <th></th>\n",
              "      <th></th>\n",
              "      <th></th>\n",
              "      <th></th>\n",
              "      <th></th>\n",
              "      <th></th>\n",
              "      <th></th>\n",
              "      <th></th>\n",
              "      <th></th>\n",
              "      <th></th>\n",
              "      <th></th>\n",
              "      <th></th>\n",
              "    </tr>\n",
              "  </thead>\n",
              "  <tbody>\n",
              "    <tr>\n",
              "      <th>2017-01-24</th>\n",
              "      <td>9.950000</td>\n",
              "      <td>10.490000</td>\n",
              "      <td>9.950000</td>\n",
              "      <td>10.440000</td>\n",
              "      <td>43991200</td>\n",
              "      <td>0</td>\n",
              "      <td>0</td>\n",
              "      <td>NaN</td>\n",
              "      <td>NaN</td>\n",
              "      <td>NaN</td>\n",
              "      <td>NaN</td>\n",
              "      <td>NaN</td>\n",
              "      <td>NaN</td>\n",
              "      <td>NaN</td>\n",
              "      <td>NaN</td>\n",
              "      <td>NaN</td>\n",
              "      <td>13.90</td>\n",
              "    </tr>\n",
              "    <tr>\n",
              "      <th>2017-01-25</th>\n",
              "      <td>10.740000</td>\n",
              "      <td>10.980000</td>\n",
              "      <td>10.150000</td>\n",
              "      <td>10.350000</td>\n",
              "      <td>61778100</td>\n",
              "      <td>0</td>\n",
              "      <td>0</td>\n",
              "      <td>-0.008621</td>\n",
              "      <td>0.991379</td>\n",
              "      <td>NaN</td>\n",
              "      <td>NaN</td>\n",
              "      <td>NaN</td>\n",
              "      <td>NaN</td>\n",
              "      <td>NaN</td>\n",
              "      <td>NaN</td>\n",
              "      <td>NaN</td>\n",
              "      <td>13.03</td>\n",
              "    </tr>\n",
              "    <tr>\n",
              "      <th>2017-01-26</th>\n",
              "      <td>10.350000</td>\n",
              "      <td>10.660000</td>\n",
              "      <td>10.300000</td>\n",
              "      <td>10.520000</td>\n",
              "      <td>35866600</td>\n",
              "      <td>0</td>\n",
              "      <td>0</td>\n",
              "      <td>0.016425</td>\n",
              "      <td>1.007663</td>\n",
              "      <td>NaN</td>\n",
              "      <td>NaN</td>\n",
              "      <td>NaN</td>\n",
              "      <td>NaN</td>\n",
              "      <td>NaN</td>\n",
              "      <td>NaN</td>\n",
              "      <td>NaN</td>\n",
              "      <td>13.04</td>\n",
              "    </tr>\n",
              "    <tr>\n",
              "      <th>2017-01-27</th>\n",
              "      <td>10.600000</td>\n",
              "      <td>10.730000</td>\n",
              "      <td>10.520000</td>\n",
              "      <td>10.670000</td>\n",
              "      <td>32719200</td>\n",
              "      <td>0</td>\n",
              "      <td>0</td>\n",
              "      <td>0.014259</td>\n",
              "      <td>1.022031</td>\n",
              "      <td>NaN</td>\n",
              "      <td>NaN</td>\n",
              "      <td>NaN</td>\n",
              "      <td>NaN</td>\n",
              "      <td>NaN</td>\n",
              "      <td>NaN</td>\n",
              "      <td>NaN</td>\n",
              "      <td>13.05</td>\n",
              "    </tr>\n",
              "    <tr>\n",
              "      <th>2017-01-30</th>\n",
              "      <td>10.620000</td>\n",
              "      <td>10.680000</td>\n",
              "      <td>10.300000</td>\n",
              "      <td>10.610000</td>\n",
              "      <td>37725000</td>\n",
              "      <td>0</td>\n",
              "      <td>0</td>\n",
              "      <td>-0.005623</td>\n",
              "      <td>1.016284</td>\n",
              "      <td>NaN</td>\n",
              "      <td>NaN</td>\n",
              "      <td>NaN</td>\n",
              "      <td>NaN</td>\n",
              "      <td>NaN</td>\n",
              "      <td>NaN</td>\n",
              "      <td>NaN</td>\n",
              "      <td>13.22</td>\n",
              "    </tr>\n",
              "    <tr>\n",
              "      <th>...</th>\n",
              "      <td>...</td>\n",
              "      <td>...</td>\n",
              "      <td>...</td>\n",
              "      <td>...</td>\n",
              "      <td>...</td>\n",
              "      <td>...</td>\n",
              "      <td>...</td>\n",
              "      <td>...</td>\n",
              "      <td>...</td>\n",
              "      <td>...</td>\n",
              "      <td>...</td>\n",
              "      <td>...</td>\n",
              "      <td>...</td>\n",
              "      <td>...</td>\n",
              "      <td>...</td>\n",
              "      <td>...</td>\n",
              "      <td>...</td>\n",
              "    </tr>\n",
              "    <tr>\n",
              "      <th>2022-01-18</th>\n",
              "      <td>134.500000</td>\n",
              "      <td>136.389999</td>\n",
              "      <td>131.589996</td>\n",
              "      <td>131.929993</td>\n",
              "      <td>56527400</td>\n",
              "      <td>0</td>\n",
              "      <td>0</td>\n",
              "      <td>-0.036163</td>\n",
              "      <td>12.636973</td>\n",
              "      <td>141.112999</td>\n",
              "      <td>155.156394</td>\n",
              "      <td>127.069604</td>\n",
              "      <td>134.394997</td>\n",
              "      <td>140.879997</td>\n",
              "      <td>147.477503</td>\n",
              "      <td>132.135002</td>\n",
              "      <td>NaN</td>\n",
              "    </tr>\n",
              "    <tr>\n",
              "      <th>2022-01-19</th>\n",
              "      <td>133.550003</td>\n",
              "      <td>134.570007</td>\n",
              "      <td>128.020004</td>\n",
              "      <td>128.270004</td>\n",
              "      <td>69831800</td>\n",
              "      <td>0</td>\n",
              "      <td>0</td>\n",
              "      <td>-0.027742</td>\n",
              "      <td>12.286399</td>\n",
              "      <td>140.736499</td>\n",
              "      <td>155.712679</td>\n",
              "      <td>125.760319</td>\n",
              "      <td>133.139999</td>\n",
              "      <td>140.879997</td>\n",
              "      <td>148.472504</td>\n",
              "      <td>132.135002</td>\n",
              "      <td>NaN</td>\n",
              "    </tr>\n",
              "    <tr>\n",
              "      <th>2022-01-20</th>\n",
              "      <td>126.040001</td>\n",
              "      <td>128.509995</td>\n",
              "      <td>121.410004</td>\n",
              "      <td>121.889999</td>\n",
              "      <td>91157300</td>\n",
              "      <td>0</td>\n",
              "      <td>0</td>\n",
              "      <td>-0.049739</td>\n",
              "      <td>11.675288</td>\n",
              "      <td>139.618499</td>\n",
              "      <td>156.605299</td>\n",
              "      <td>122.631699</td>\n",
              "      <td>131.330002</td>\n",
              "      <td>139.070000</td>\n",
              "      <td>148.045002</td>\n",
              "      <td>132.140003</td>\n",
              "      <td>NaN</td>\n",
              "    </tr>\n",
              "    <tr>\n",
              "      <th>2022-01-21</th>\n",
              "      <td>120.139999</td>\n",
              "      <td>125.019997</td>\n",
              "      <td>118.389999</td>\n",
              "      <td>118.809998</td>\n",
              "      <td>95591700</td>\n",
              "      <td>0</td>\n",
              "      <td>0</td>\n",
              "      <td>-0.025269</td>\n",
              "      <td>11.380268</td>\n",
              "      <td>138.364999</td>\n",
              "      <td>157.498018</td>\n",
              "      <td>119.231979</td>\n",
              "      <td>129.820000</td>\n",
              "      <td>137.559998</td>\n",
              "      <td>144.547504</td>\n",
              "      <td>132.140003</td>\n",
              "      <td>NaN</td>\n",
              "    </tr>\n",
              "    <tr>\n",
              "      <th>2022-01-24</th>\n",
              "      <td>115.400002</td>\n",
              "      <td>116.400002</td>\n",
              "      <td>107.500000</td>\n",
              "      <td>111.485001</td>\n",
              "      <td>73407747</td>\n",
              "      <td>0</td>\n",
              "      <td>0</td>\n",
              "      <td>-0.061653</td>\n",
              "      <td>10.678640</td>\n",
              "      <td>136.632249</td>\n",
              "      <td>158.718389</td>\n",
              "      <td>114.546108</td>\n",
              "      <td>124.375000</td>\n",
              "      <td>132.114998</td>\n",
              "      <td>144.510006</td>\n",
              "      <td>132.140003</td>\n",
              "      <td>NaN</td>\n",
              "    </tr>\n",
              "  </tbody>\n",
              "</table>\n",
              "<p>1260 rows × 17 columns</p>\n",
              "</div>\n",
              "      <button class=\"colab-df-convert\" onclick=\"convertToInteractive('df-69958a24-3dc2-4169-9c37-556bc8d0f210')\"\n",
              "              title=\"Convert this dataframe to an interactive table.\"\n",
              "              style=\"display:none;\">\n",
              "        \n",
              "  <svg xmlns=\"http://www.w3.org/2000/svg\" height=\"24px\"viewBox=\"0 0 24 24\"\n",
              "       width=\"24px\">\n",
              "    <path d=\"M0 0h24v24H0V0z\" fill=\"none\"/>\n",
              "    <path d=\"M18.56 5.44l.94 2.06.94-2.06 2.06-.94-2.06-.94-.94-2.06-.94 2.06-2.06.94zm-11 1L8.5 8.5l.94-2.06 2.06-.94-2.06-.94L8.5 2.5l-.94 2.06-2.06.94zm10 10l.94 2.06.94-2.06 2.06-.94-2.06-.94-.94-2.06-.94 2.06-2.06.94z\"/><path d=\"M17.41 7.96l-1.37-1.37c-.4-.4-.92-.59-1.43-.59-.52 0-1.04.2-1.43.59L10.3 9.45l-7.72 7.72c-.78.78-.78 2.05 0 2.83L4 21.41c.39.39.9.59 1.41.59.51 0 1.02-.2 1.41-.59l7.78-7.78 2.81-2.81c.8-.78.8-2.07 0-2.86zM5.41 20L4 18.59l7.72-7.72 1.47 1.35L5.41 20z\"/>\n",
              "  </svg>\n",
              "      </button>\n",
              "      \n",
              "  <style>\n",
              "    .colab-df-container {\n",
              "      display:flex;\n",
              "      flex-wrap:wrap;\n",
              "      gap: 12px;\n",
              "    }\n",
              "\n",
              "    .colab-df-convert {\n",
              "      background-color: #E8F0FE;\n",
              "      border: none;\n",
              "      border-radius: 50%;\n",
              "      cursor: pointer;\n",
              "      display: none;\n",
              "      fill: #1967D2;\n",
              "      height: 32px;\n",
              "      padding: 0 0 0 0;\n",
              "      width: 32px;\n",
              "    }\n",
              "\n",
              "    .colab-df-convert:hover {\n",
              "      background-color: #E2EBFA;\n",
              "      box-shadow: 0px 1px 2px rgba(60, 64, 67, 0.3), 0px 1px 3px 1px rgba(60, 64, 67, 0.15);\n",
              "      fill: #174EA6;\n",
              "    }\n",
              "\n",
              "    [theme=dark] .colab-df-convert {\n",
              "      background-color: #3B4455;\n",
              "      fill: #D2E3FC;\n",
              "    }\n",
              "\n",
              "    [theme=dark] .colab-df-convert:hover {\n",
              "      background-color: #434B5C;\n",
              "      box-shadow: 0px 1px 3px 1px rgba(0, 0, 0, 0.15);\n",
              "      filter: drop-shadow(0px 1px 2px rgba(0, 0, 0, 0.3));\n",
              "      fill: #FFFFFF;\n",
              "    }\n",
              "  </style>\n",
              "\n",
              "      <script>\n",
              "        const buttonEl =\n",
              "          document.querySelector('#df-69958a24-3dc2-4169-9c37-556bc8d0f210 button.colab-df-convert');\n",
              "        buttonEl.style.display =\n",
              "          google.colab.kernel.accessAllowed ? 'block' : 'none';\n",
              "\n",
              "        async function convertToInteractive(key) {\n",
              "          const element = document.querySelector('#df-69958a24-3dc2-4169-9c37-556bc8d0f210');\n",
              "          const dataTable =\n",
              "            await google.colab.kernel.invokeFunction('convertToInteractive',\n",
              "                                                     [key], {});\n",
              "          if (!dataTable) return;\n",
              "\n",
              "          const docLinkHtml = 'Like what you see? Visit the ' +\n",
              "            '<a target=\"_blank\" href=https://colab.research.google.com/notebooks/data_table.ipynb>data table notebook</a>'\n",
              "            + ' to learn more about interactive tables.';\n",
              "          element.innerHTML = '';\n",
              "          dataTable['output_type'] = 'display_data';\n",
              "          await google.colab.output.renderOutput(dataTable, element);\n",
              "          const docLink = document.createElement('div');\n",
              "          docLink.innerHTML = docLinkHtml;\n",
              "          element.appendChild(docLink);\n",
              "        }\n",
              "      </script>\n",
              "    </div>\n",
              "  </div>\n",
              "  "
            ],
            "text/plain": [
              "                  Open        High         Low  ...       SpanA       SpanB  Lagging\n",
              "Date                                            ...                                 \n",
              "2017-01-24    9.950000   10.490000    9.950000  ...         NaN         NaN    13.90\n",
              "2017-01-25   10.740000   10.980000   10.150000  ...         NaN         NaN    13.03\n",
              "2017-01-26   10.350000   10.660000   10.300000  ...         NaN         NaN    13.04\n",
              "2017-01-27   10.600000   10.730000   10.520000  ...         NaN         NaN    13.05\n",
              "2017-01-30   10.620000   10.680000   10.300000  ...         NaN         NaN    13.22\n",
              "...                ...         ...         ...  ...         ...         ...      ...\n",
              "2022-01-18  134.500000  136.389999  131.589996  ...  147.477503  132.135002      NaN\n",
              "2022-01-19  133.550003  134.570007  128.020004  ...  148.472504  132.135002      NaN\n",
              "2022-01-20  126.040001  128.509995  121.410004  ...  148.045002  132.140003      NaN\n",
              "2022-01-21  120.139999  125.019997  118.389999  ...  144.547504  132.140003      NaN\n",
              "2022-01-24  115.400002  116.400002  107.500000  ...  144.510006  132.140003      NaN\n",
              "\n",
              "[1260 rows x 17 columns]"
            ]
          },
          "metadata": {},
          "execution_count": 11
        }
      ]
    },
    {
      "cell_type": "code",
      "execution_count": null,
      "id": "99c2d7f5",
      "metadata": {
        "colab": {
          "base_uri": "https://localhost:8080/",
          "height": 297
        },
        "id": "99c2d7f5",
        "outputId": "cfe0c734-64d8-4a86-c5e5-dda2c51e07e5"
      },
      "outputs": [
        {
          "output_type": "execute_result",
          "data": {
            "text/plain": [
              "<matplotlib.axes._subplots.AxesSubplot at 0x7fbc9ccc1b50>"
            ]
          },
          "metadata": {},
          "execution_count": 12
        },
        {
          "output_type": "display_data",
          "data": {
            "image/png": "[encoded data removed]",
            "text/plain": [
              "<Figure size 432x288 with 1 Axes>"
            ]
          },
          "metadata": {
            "needs_background": "light"
          }
        }
      ],
      "source": [
        "df['Cum Return'].plot()"
      ]
    },
    {
      "cell_type": "code",
      "source": [
        "df[['Lower Band', 'Middle Band', 'Upper Band']].plot()"
      ],
      "metadata": {
        "colab": {
          "base_uri": "https://localhost:8080/",
          "height": 296
        },
        "id": "1R406HqOP6sF",
        "outputId": "81c9ccc2-6068-411a-ff89-c23fa10e9928"
      },
      "id": "1R406HqOP6sF",
      "execution_count": null,
      "outputs": [
        {
          "output_type": "execute_result",
          "data": {
            "text/plain": [
              "<matplotlib.axes._subplots.AxesSubplot at 0x7fbc9cc65550>"
            ]
          },
          "metadata": {},
          "execution_count": 13
        },
        {
          "output_type": "display_data",
          "data": {
            "image/png": "[encoded data removed]",
            "text/plain": [
              "<Figure size 432x288 with 1 Axes>"
            ]
          },
          "metadata": {
            "needs_background": "light"
          }
        }
      ]
    },
    {
      "cell_type": "markdown",
      "id": "b59d91d3",
      "metadata": {
        "id": "b59d91d3"
      },
      "source": [
        "## Grouping by sector"
      ]
    },
    {
      "cell_type": "code",
      "execution_count": null,
      "id": "b7e9205f",
      "metadata": {
        "colab": {
          "base_uri": "https://localhost:8080/",
          "height": 424
        },
        "id": "b7e9205f",
        "outputId": "8eca12bb-1f68-487a-b288-285be323fff2"
      },
      "outputs": [
        {
          "output_type": "execute_result",
          "data": {
            "text/html": [
              "\n",
              "  <div id=\"df-6833962e-7775-4184-a8b8-3ea5a5c4f795\">\n",
              "    <div class=\"colab-df-container\">\n",
              "      <div>\n",
              "<style scoped>\n",
              "    .dataframe tbody tr th:only-of-type {\n",
              "        vertical-align: middle;\n",
              "    }\n",
              "\n",
              "    .dataframe tbody tr th {\n",
              "        vertical-align: top;\n",
              "    }\n",
              "\n",
              "    .dataframe thead th {\n",
              "        text-align: right;\n",
              "    }\n",
              "</style>\n",
              "<table border=\"1\" class=\"dataframe\">\n",
              "  <thead>\n",
              "    <tr style=\"text-align: right;\">\n",
              "      <th></th>\n",
              "      <th>Symbol</th>\n",
              "      <th>Name</th>\n",
              "      <th>Sector</th>\n",
              "    </tr>\n",
              "  </thead>\n",
              "  <tbody>\n",
              "    <tr>\n",
              "      <th>0</th>\n",
              "      <td>MMM</td>\n",
              "      <td>3M</td>\n",
              "      <td>Industrials</td>\n",
              "    </tr>\n",
              "    <tr>\n",
              "      <th>1</th>\n",
              "      <td>AOS</td>\n",
              "      <td>A. O. Smith</td>\n",
              "      <td>Industrials</td>\n",
              "    </tr>\n",
              "    <tr>\n",
              "      <th>2</th>\n",
              "      <td>ABT</td>\n",
              "      <td>Abbott Laboratories</td>\n",
              "      <td>Health Care</td>\n",
              "    </tr>\n",
              "    <tr>\n",
              "      <th>3</th>\n",
              "      <td>ABBV</td>\n",
              "      <td>AbbVie</td>\n",
              "      <td>Health Care</td>\n",
              "    </tr>\n",
              "    <tr>\n",
              "      <th>4</th>\n",
              "      <td>ABMD</td>\n",
              "      <td>Abiomed</td>\n",
              "      <td>Health Care</td>\n",
              "    </tr>\n",
              "    <tr>\n",
              "      <th>...</th>\n",
              "      <td>...</td>\n",
              "      <td>...</td>\n",
              "      <td>...</td>\n",
              "    </tr>\n",
              "    <tr>\n",
              "      <th>500</th>\n",
              "      <td>YUM</td>\n",
              "      <td>Yum! Brands</td>\n",
              "      <td>Consumer Discretionary</td>\n",
              "    </tr>\n",
              "    <tr>\n",
              "      <th>501</th>\n",
              "      <td>ZBRA</td>\n",
              "      <td>Zebra Technologies</td>\n",
              "      <td>Information Technology</td>\n",
              "    </tr>\n",
              "    <tr>\n",
              "      <th>502</th>\n",
              "      <td>ZBH</td>\n",
              "      <td>Zimmer Biomet</td>\n",
              "      <td>Health Care</td>\n",
              "    </tr>\n",
              "    <tr>\n",
              "      <th>503</th>\n",
              "      <td>ZION</td>\n",
              "      <td>Zions Bancorp</td>\n",
              "      <td>Financials</td>\n",
              "    </tr>\n",
              "    <tr>\n",
              "      <th>504</th>\n",
              "      <td>ZTS</td>\n",
              "      <td>Zoetis</td>\n",
              "      <td>Health Care</td>\n",
              "    </tr>\n",
              "  </tbody>\n",
              "</table>\n",
              "<p>505 rows × 3 columns</p>\n",
              "</div>\n",
              "      <button class=\"colab-df-convert\" onclick=\"convertToInteractive('df-6833962e-7775-4184-a8b8-3ea5a5c4f795')\"\n",
              "              title=\"Convert this dataframe to an interactive table.\"\n",
              "              style=\"display:none;\">\n",
              "        \n",
              "  <svg xmlns=\"http://www.w3.org/2000/svg\" height=\"24px\"viewBox=\"0 0 24 24\"\n",
              "       width=\"24px\">\n",
              "    <path d=\"M0 0h24v24H0V0z\" fill=\"none\"/>\n",
              "    <path d=\"M18.56 5.44l.94 2.06.94-2.06 2.06-.94-2.06-.94-.94-2.06-.94 2.06-2.06.94zm-11 1L8.5 8.5l.94-2.06 2.06-.94-2.06-.94L8.5 2.5l-.94 2.06-2.06.94zm10 10l.94 2.06.94-2.06 2.06-.94-2.06-.94-.94-2.06-.94 2.06-2.06.94z\"/><path d=\"M17.41 7.96l-1.37-1.37c-.4-.4-.92-.59-1.43-.59-.52 0-1.04.2-1.43.59L10.3 9.45l-7.72 7.72c-.78.78-.78 2.05 0 2.83L4 21.41c.39.39.9.59 1.41.59.51 0 1.02-.2 1.41-.59l7.78-7.78 2.81-2.81c.8-.78.8-2.07 0-2.86zM5.41 20L4 18.59l7.72-7.72 1.47 1.35L5.41 20z\"/>\n",
              "  </svg>\n",
              "      </button>\n",
              "      \n",
              "  <style>\n",
              "    .colab-df-container {\n",
              "      display:flex;\n",
              "      flex-wrap:wrap;\n",
              "      gap: 12px;\n",
              "    }\n",
              "\n",
              "    .colab-df-convert {\n",
              "      background-color: #E8F0FE;\n",
              "      border: none;\n",
              "      border-radius: 50%;\n",
              "      cursor: pointer;\n",
              "      display: none;\n",
              "      fill: #1967D2;\n",
              "      height: 32px;\n",
              "      padding: 0 0 0 0;\n",
              "      width: 32px;\n",
              "    }\n",
              "\n",
              "    .colab-df-convert:hover {\n",
              "      background-color: #E2EBFA;\n",
              "      box-shadow: 0px 1px 2px rgba(60, 64, 67, 0.3), 0px 1px 3px 1px rgba(60, 64, 67, 0.15);\n",
              "      fill: #174EA6;\n",
              "    }\n",
              "\n",
              "    [theme=dark] .colab-df-convert {\n",
              "      background-color: #3B4455;\n",
              "      fill: #D2E3FC;\n",
              "    }\n",
              "\n",
              "    [theme=dark] .colab-df-convert:hover {\n",
              "      background-color: #434B5C;\n",
              "      box-shadow: 0px 1px 3px 1px rgba(0, 0, 0, 0.15);\n",
              "      filter: drop-shadow(0px 1px 2px rgba(0, 0, 0, 0.3));\n",
              "      fill: #FFFFFF;\n",
              "    }\n",
              "  </style>\n",
              "\n",
              "      <script>\n",
              "        const buttonEl =\n",
              "          document.querySelector('#df-6833962e-7775-4184-a8b8-3ea5a5c4f795 button.colab-df-convert');\n",
              "        buttonEl.style.display =\n",
              "          google.colab.kernel.accessAllowed ? 'block' : 'none';\n",
              "\n",
              "        async function convertToInteractive(key) {\n",
              "          const element = document.querySelector('#df-6833962e-7775-4184-a8b8-3ea5a5c4f795');\n",
              "          const dataTable =\n",
              "            await google.colab.kernel.invokeFunction('convertToInteractive',\n",
              "                                                     [key], {});\n",
              "          if (!dataTable) return;\n",
              "\n",
              "          const docLinkHtml = 'Like what you see? Visit the ' +\n",
              "            '<a target=\"_blank\" href=https://colab.research.google.com/notebooks/data_table.ipynb>data table notebook</a>'\n",
              "            + ' to learn more about interactive tables.';\n",
              "          element.innerHTML = '';\n",
              "          dataTable['output_type'] = 'display_data';\n",
              "          await google.colab.output.renderOutput(dataTable, element);\n",
              "          const docLink = document.createElement('div');\n",
              "          docLink.innerHTML = docLinkHtml;\n",
              "          element.appendChild(docLink);\n",
              "        }\n",
              "      </script>\n",
              "    </div>\n",
              "  </div>\n",
              "  "
            ],
            "text/plain": [
              "    Symbol                 Name                  Sector\n",
              "0      MMM                   3M             Industrials\n",
              "1      AOS          A. O. Smith             Industrials\n",
              "2      ABT  Abbott Laboratories             Health Care\n",
              "3     ABBV               AbbVie             Health Care\n",
              "4     ABMD              Abiomed             Health Care\n",
              "..     ...                  ...                     ...\n",
              "500    YUM          Yum! Brands  Consumer Discretionary\n",
              "501   ZBRA   Zebra Technologies  Information Technology\n",
              "502    ZBH        Zimmer Biomet             Health Care\n",
              "503   ZION        Zions Bancorp              Financials\n",
              "504    ZTS               Zoetis             Health Care\n",
              "\n",
              "[505 rows x 3 columns]"
            ]
          },
          "metadata": {},
          "execution_count": 14
        }
      ],
      "source": [
        "sp500"
      ]
    },
    {
      "cell_type": "code",
      "execution_count": null,
      "id": "3fb3552b",
      "metadata": {
        "id": "3fb3552b"
      },
      "outputs": [],
      "source": [
        "def get_stock_cum_ret(data_path, tickers):\n",
        "    cum_rets = []\n",
        "    index = []\n",
        "    for ticker in tqdm(tickers):\n",
        "        try:\n",
        "            df = get_stock_from_csv(data_path, ticker)\n",
        "            cum = df['Cum Return'].iloc[-1]\n",
        "            cum_rets.append(cum)\n",
        "            index.append(ticker)\n",
        "        except Exception as ex:\n",
        "            print(\"Can't compute : {}\".format(ticker) + ' ' + str(ex))\n",
        "    return pd.DataFrame({'Ticker' : index, 'Cum Returns' : cum_rets})"
      ]
    },
    {
      "cell_type": "code",
      "execution_count": null,
      "id": "e054bf2c",
      "metadata": {
        "colab": {
          "base_uri": "https://localhost:8080/"
        },
        "id": "e054bf2c",
        "outputId": "b909034a-b7ae-47b2-c84d-00d6a930b136"
      },
      "outputs": [
        {
          "output_type": "stream",
          "name": "stderr",
          "text": [
            " 14%|█▍        | 72/505 [00:08<00:09, 45.40it/s]"
          ]
        },
        {
          "output_type": "stream",
          "name": "stdout",
          "text": [
            "Can't compute : BRK.B single positional indexer is out-of-bounds\n"
          ]
        },
        {
          "output_type": "stream",
          "name": "stderr",
          "text": [
            " 17%|█▋        | 86/505 [00:08<00:08, 48.35it/s]"
          ]
        },
        {
          "output_type": "stream",
          "name": "stdout",
          "text": [
            "Can't compute : BF.B single positional indexer is out-of-bounds\n"
          ]
        },
        {
          "output_type": "stream",
          "name": "stderr",
          "text": [
            "100%|██████████| 505/505 [00:15<00:00, 32.95it/s]\n"
          ]
        }
      ],
      "source": [
        "df_cum = get_stock_cum_ret(DATA_PATH, tickers)\n",
        "df_cum = sp500.merge(df_cum, left_on='Symbol', right_on='Ticker', how='inner')"
      ]
    },
    {
      "cell_type": "code",
      "execution_count": null,
      "id": "81182c8f",
      "metadata": {
        "colab": {
          "base_uri": "https://localhost:8080/",
          "height": 206
        },
        "id": "81182c8f",
        "outputId": "25c8486e-041d-4294-9129-fbfec2381bf5"
      },
      "outputs": [
        {
          "output_type": "execute_result",
          "data": {
            "text/html": [
              "\n",
              "  <div id=\"df-b28a747f-26a1-4ab6-b737-1ade3fafc6c8\">\n",
              "    <div class=\"colab-df-container\">\n",
              "      <div>\n",
              "<style scoped>\n",
              "    .dataframe tbody tr th:only-of-type {\n",
              "        vertical-align: middle;\n",
              "    }\n",
              "\n",
              "    .dataframe tbody tr th {\n",
              "        vertical-align: top;\n",
              "    }\n",
              "\n",
              "    .dataframe thead th {\n",
              "        text-align: right;\n",
              "    }\n",
              "</style>\n",
              "<table border=\"1\" class=\"dataframe\">\n",
              "  <thead>\n",
              "    <tr style=\"text-align: right;\">\n",
              "      <th></th>\n",
              "      <th>Symbol</th>\n",
              "      <th>Name</th>\n",
              "      <th>Sector</th>\n",
              "      <th>Ticker</th>\n",
              "      <th>Cum Returns</th>\n",
              "    </tr>\n",
              "  </thead>\n",
              "  <tbody>\n",
              "    <tr>\n",
              "      <th>0</th>\n",
              "      <td>MMM</td>\n",
              "      <td>3M</td>\n",
              "      <td>Industrials</td>\n",
              "      <td>MMM</td>\n",
              "      <td>1.124286</td>\n",
              "    </tr>\n",
              "    <tr>\n",
              "      <th>1</th>\n",
              "      <td>AOS</td>\n",
              "      <td>A. O. Smith</td>\n",
              "      <td>Industrials</td>\n",
              "      <td>AOS</td>\n",
              "      <td>1.707232</td>\n",
              "    </tr>\n",
              "    <tr>\n",
              "      <th>2</th>\n",
              "      <td>ABT</td>\n",
              "      <td>Abbott Laboratories</td>\n",
              "      <td>Health Care</td>\n",
              "      <td>ABT</td>\n",
              "      <td>3.294356</td>\n",
              "    </tr>\n",
              "    <tr>\n",
              "      <th>3</th>\n",
              "      <td>ABBV</td>\n",
              "      <td>AbbVie</td>\n",
              "      <td>Health Care</td>\n",
              "      <td>ABBV</td>\n",
              "      <td>2.691106</td>\n",
              "    </tr>\n",
              "    <tr>\n",
              "      <th>4</th>\n",
              "      <td>ABMD</td>\n",
              "      <td>Abiomed</td>\n",
              "      <td>Health Care</td>\n",
              "      <td>ABMD</td>\n",
              "      <td>2.720614</td>\n",
              "    </tr>\n",
              "  </tbody>\n",
              "</table>\n",
              "</div>\n",
              "      <button class=\"colab-df-convert\" onclick=\"convertToInteractive('df-b28a747f-26a1-4ab6-b737-1ade3fafc6c8')\"\n",
              "              title=\"Convert this dataframe to an interactive table.\"\n",
              "              style=\"display:none;\">\n",
              "        \n",
              "  <svg xmlns=\"http://www.w3.org/2000/svg\" height=\"24px\"viewBox=\"0 0 24 24\"\n",
              "       width=\"24px\">\n",
              "    <path d=\"M0 0h24v24H0V0z\" fill=\"none\"/>\n",
              "    <path d=\"M18.56 5.44l.94 2.06.94-2.06 2.06-.94-2.06-.94-.94-2.06-.94 2.06-2.06.94zm-11 1L8.5 8.5l.94-2.06 2.06-.94-2.06-.94L8.5 2.5l-.94 2.06-2.06.94zm10 10l.94 2.06.94-2.06 2.06-.94-2.06-.94-.94-2.06-.94 2.06-2.06.94z\"/><path d=\"M17.41 7.96l-1.37-1.37c-.4-.4-.92-.59-1.43-.59-.52 0-1.04.2-1.43.59L10.3 9.45l-7.72 7.72c-.78.78-.78 2.05 0 2.83L4 21.41c.39.39.9.59 1.41.59.51 0 1.02-.2 1.41-.59l7.78-7.78 2.81-2.81c.8-.78.8-2.07 0-2.86zM5.41 20L4 18.59l7.72-7.72 1.47 1.35L5.41 20z\"/>\n",
              "  </svg>\n",
              "      </button>\n",
              "      \n",
              "  <style>\n",
              "    .colab-df-container {\n",
              "      display:flex;\n",
              "      flex-wrap:wrap;\n",
              "      gap: 12px;\n",
              "    }\n",
              "\n",
              "    .colab-df-convert {\n",
              "      background-color: #E8F0FE;\n",
              "      border: none;\n",
              "      border-radius: 50%;\n",
              "      cursor: pointer;\n",
              "      display: none;\n",
              "      fill: #1967D2;\n",
              "      height: 32px;\n",
              "      padding: 0 0 0 0;\n",
              "      width: 32px;\n",
              "    }\n",
              "\n",
              "    .colab-df-convert:hover {\n",
              "      background-color: #E2EBFA;\n",
              "      box-shadow: 0px 1px 2px rgba(60, 64, 67, 0.3), 0px 1px 3px 1px rgba(60, 64, 67, 0.15);\n",
              "      fill: #174EA6;\n",
              "    }\n",
              "\n",
              "    [theme=dark] .colab-df-convert {\n",
              "      background-color: #3B4455;\n",
              "      fill: #D2E3FC;\n",
              "    }\n",
              "\n",
              "    [theme=dark] .colab-df-convert:hover {\n",
              "      background-color: #434B5C;\n",
              "      box-shadow: 0px 1px 3px 1px rgba(0, 0, 0, 0.15);\n",
              "      filter: drop-shadow(0px 1px 2px rgba(0, 0, 0, 0.3));\n",
              "      fill: #FFFFFF;\n",
              "    }\n",
              "  </style>\n",
              "\n",
              "      <script>\n",
              "        const buttonEl =\n",
              "          document.querySelector('#df-b28a747f-26a1-4ab6-b737-1ade3fafc6c8 button.colab-df-convert');\n",
              "        buttonEl.style.display =\n",
              "          google.colab.kernel.accessAllowed ? 'block' : 'none';\n",
              "\n",
              "        async function convertToInteractive(key) {\n",
              "          const element = document.querySelector('#df-b28a747f-26a1-4ab6-b737-1ade3fafc6c8');\n",
              "          const dataTable =\n",
              "            await google.colab.kernel.invokeFunction('convertToInteractive',\n",
              "                                                     [key], {});\n",
              "          if (!dataTable) return;\n",
              "\n",
              "          const docLinkHtml = 'Like what you see? Visit the ' +\n",
              "            '<a target=\"_blank\" href=https://colab.research.google.com/notebooks/data_table.ipynb>data table notebook</a>'\n",
              "            + ' to learn more about interactive tables.';\n",
              "          element.innerHTML = '';\n",
              "          dataTable['output_type'] = 'display_data';\n",
              "          await google.colab.output.renderOutput(dataTable, element);\n",
              "          const docLink = document.createElement('div');\n",
              "          docLink.innerHTML = docLinkHtml;\n",
              "          element.appendChild(docLink);\n",
              "        }\n",
              "      </script>\n",
              "    </div>\n",
              "  </div>\n",
              "  "
            ],
            "text/plain": [
              "  Symbol                 Name       Sector Ticker  Cum Returns\n",
              "0    MMM                   3M  Industrials    MMM     1.124286\n",
              "1    AOS          A. O. Smith  Industrials    AOS     1.707232\n",
              "2    ABT  Abbott Laboratories  Health Care    ABT     3.294356\n",
              "3   ABBV               AbbVie  Health Care   ABBV     2.691106\n",
              "4   ABMD              Abiomed  Health Care   ABMD     2.720614"
            ]
          },
          "metadata": {},
          "execution_count": 17
        }
      ],
      "source": [
        "df_cum.head()"
      ]
    },
    {
      "cell_type": "code",
      "execution_count": null,
      "id": "64f16154",
      "metadata": {
        "id": "64f16154"
      },
      "outputs": [],
      "source": [
        "def find_best(df, col, number):\n",
        "    sub_df = df[['Ticker', col]].set_index('Ticker', drop=True)\n",
        "    return sub_df[col].sort_values(ascending=False).head(number)"
      ]
    },
    {
      "cell_type": "code",
      "execution_count": null,
      "id": "64cf5e28",
      "metadata": {
        "id": "64cf5e28"
      },
      "outputs": [],
      "source": [
        "df_sector = df_cum.groupby('Sector').apply(lambda x : find_best(x, 'Cum Returns', 2))"
      ]
    },
    {
      "cell_type": "code",
      "execution_count": null,
      "id": "1c6e804e",
      "metadata": {
        "id": "1c6e804e"
      },
      "outputs": [],
      "source": [
        "tickers_to_buy = [k[1] for k, _ in df_sector.to_dict().items()]"
      ]
    },
    {
      "cell_type": "code",
      "source": [
        "tickers_to_buy"
      ],
      "metadata": {
        "colab": {
          "base_uri": "https://localhost:8080/"
        },
        "id": "nFJbEhZKhrds",
        "outputId": "c0ec296d-1c6c-42ab-b499-39b4ee2d2b30"
      },
      "id": "nFJbEhZKhrds",
      "execution_count": null,
      "outputs": [
        {
          "output_type": "execute_result",
          "data": {
            "text/plain": [
              "['MTCH',\n",
              " 'LYV',\n",
              " 'TSLA',\n",
              " 'ETSY',\n",
              " 'EL',\n",
              " 'COST',\n",
              " 'COP',\n",
              " 'MPC',\n",
              " 'MSCI',\n",
              " 'SPGI',\n",
              " 'MRNA',\n",
              " 'DXCM',\n",
              " 'GNRC',\n",
              " 'ODFL',\n",
              " 'ENPH',\n",
              " 'AMD',\n",
              " 'SHW',\n",
              " 'AVY',\n",
              " 'PLD',\n",
              " 'CBRE',\n",
              " 'NEE',\n",
              " 'NRG']"
            ]
          },
          "metadata": {},
          "execution_count": 21
        }
      ]
    },
    {
      "cell_type": "markdown",
      "id": "1c532847",
      "metadata": {
        "id": "1c532847"
      },
      "source": [
        "## Portfolio Selection"
      ]
    },
    {
      "cell_type": "code",
      "execution_count": null,
      "id": "e1a5dcc4",
      "metadata": {
        "id": "e1a5dcc4"
      },
      "outputs": [],
      "source": [
        "def get_stocks_by_column(data_path, tickers, column, start_date, end_date):\n",
        "    output_df = pd.DataFrame()\n",
        "    for ticker in tqdm(tickers):\n",
        "        try:\n",
        "            df = get_stock_from_csv(data_path, ticker)\n",
        "            mask = (df.index >= start_date) & (df.index <= end_date)\n",
        "            output_df[ticker] = df.loc[mask][column]\n",
        "        except Exception as ex:\n",
        "            print(\"Can't compute : {}\".format(ticker) + ' ' + str(ex))\n",
        "    return output_df"
      ]
    },
    {
      "cell_type": "code",
      "execution_count": null,
      "id": "820e46d4",
      "metadata": {
        "colab": {
          "base_uri": "https://localhost:8080/"
        },
        "id": "820e46d4",
        "outputId": "aeb4916d-e4df-4b97-a152-bc29aa14785a"
      },
      "outputs": [
        {
          "output_type": "stream",
          "name": "stderr",
          "text": [
            "100%|██████████| 22/22 [00:00<00:00, 56.67it/s]\n"
          ]
        }
      ],
      "source": [
        "portfolio = get_stocks_by_column(data_path=DATA_PATH, tickers=tickers_to_buy, column='Close', start_date='2017-01-01', end_date='2022-01-25')"
      ]
    },
    {
      "cell_type": "code",
      "source": [
        "portfolio.info()"
      ],
      "metadata": {
        "colab": {
          "base_uri": "https://localhost:8080/"
        },
        "id": "0wKRGdNki_fF",
        "outputId": "0033c15d-46b1-42c0-ffaa-bc4dab35ff70"
      },
      "id": "0wKRGdNki_fF",
      "execution_count": null,
      "outputs": [
        {
          "output_type": "stream",
          "name": "stdout",
          "text": [
            "<class 'pandas.core.frame.DataFrame'>\n",
            "Index: 1260 entries, 2017-01-24 to 2022-01-24\n",
            "Data columns (total 22 columns):\n",
            " #   Column  Non-Null Count  Dtype  \n",
            "---  ------  --------------  -----  \n",
            " 0   MTCH    1260 non-null   float64\n",
            " 1   LYV     1260 non-null   float64\n",
            " 2   TSLA    1260 non-null   float64\n",
            " 3   ETSY    1260 non-null   float64\n",
            " 4   EL      1260 non-null   float64\n",
            " 5   COST    1260 non-null   float64\n",
            " 6   COP     1260 non-null   float64\n",
            " 7   MPC     1260 non-null   float64\n",
            " 8   MSCI    1260 non-null   float64\n",
            " 9   SPGI    1260 non-null   float64\n",
            " 10  MRNA    788 non-null    float64\n",
            " 11  DXCM    1260 non-null   float64\n",
            " 12  GNRC    1260 non-null   float64\n",
            " 13  ODFL    1260 non-null   float64\n",
            " 14  ENPH    1260 non-null   float64\n",
            " 15  AMD     1260 non-null   float64\n",
            " 16  SHW     1260 non-null   float64\n",
            " 17  AVY     1260 non-null   float64\n",
            " 18  PLD     1260 non-null   float64\n",
            " 19  CBRE    1260 non-null   float64\n",
            " 20  NEE     1260 non-null   float64\n",
            " 21  NRG     1260 non-null   float64\n",
            "dtypes: float64(22)\n",
            "memory usage: 226.4+ KB\n"
          ]
        }
      ]
    },
    {
      "cell_type": "markdown",
      "source": [
        "### Compute returns of portfolio"
      ],
      "metadata": {
        "id": "23Okf4B-s4Kt"
      },
      "id": "23Okf4B-s4Kt"
    },
    {
      "cell_type": "code",
      "source": [
        "def compute_log_returns(portfolio):\n",
        "    return np.log(portfolio / portfolio.shift(1))"
      ],
      "metadata": {
        "id": "wcG0RMSgs1Vq"
      },
      "id": "wcG0RMSgs1Vq",
      "execution_count": null,
      "outputs": []
    },
    {
      "cell_type": "code",
      "execution_count": null,
      "id": "f2453d52",
      "metadata": {
        "id": "f2453d52"
      },
      "outputs": [],
      "source": [
        "portfolio = portfolio.dropna()\n",
        "returns = compute_log_returns(portfolio)"
      ]
    },
    {
      "cell_type": "markdown",
      "source": [
        "### Select only non-correlated stocks\n",
        "In order for Harry Markowitz portfolio optimization to work we need non-correlated stocks!"
      ],
      "metadata": {
        "id": "E14ir9-3tBcD"
      },
      "id": "E14ir9-3tBcD"
    },
    {
      "cell_type": "code",
      "source": [
        "def drop_colinear(returns):\n",
        "    corr_matrix = returns.corr()\n",
        "\n",
        "    # Select upper triangle of correlation matrix\n",
        "    upper = corr_matrix.where(np.triu(np.ones(corr_matrix.shape), k=1).astype(np.bool))\n",
        "\n",
        "    # Find features with correlation greater than 0.5\n",
        "    to_drop = [column for column in upper.columns if any(upper[column] > 0.50)]\n",
        "\n",
        "    return returns.drop(to_drop, axis=1)"
      ],
      "metadata": {
        "id": "rmwrD78ElLs6"
      },
      "id": "rmwrD78ElLs6",
      "execution_count": null,
      "outputs": []
    },
    {
      "cell_type": "code",
      "source": [
        "returns = drop_colinear(returns)"
      ],
      "metadata": {
        "id": "wiDIWpMSq2kQ"
      },
      "id": "wiDIWpMSq2kQ",
      "execution_count": null,
      "outputs": []
    },
    {
      "cell_type": "code",
      "source": [
        "returns"
      ],
      "metadata": {
        "colab": {
          "base_uri": "https://localhost:8080/",
          "height": 455
        },
        "id": "ZxCEmfdMsDQh",
        "outputId": "32bd730f-f2e4-4610-f494-90153be05200"
      },
      "id": "ZxCEmfdMsDQh",
      "execution_count": null,
      "outputs": [
        {
          "output_type": "execute_result",
          "data": {
            "text/html": [
              "\n",
              "  <div id=\"df-e54c5c7d-ef21-4cbc-a1c8-d92478bf165f\">\n",
              "    <div class=\"colab-df-container\">\n",
              "      <div>\n",
              "<style scoped>\n",
              "    .dataframe tbody tr th:only-of-type {\n",
              "        vertical-align: middle;\n",
              "    }\n",
              "\n",
              "    .dataframe tbody tr th {\n",
              "        vertical-align: top;\n",
              "    }\n",
              "\n",
              "    .dataframe thead th {\n",
              "        text-align: right;\n",
              "    }\n",
              "</style>\n",
              "<table border=\"1\" class=\"dataframe\">\n",
              "  <thead>\n",
              "    <tr style=\"text-align: right;\">\n",
              "      <th></th>\n",
              "      <th>MTCH</th>\n",
              "      <th>LYV</th>\n",
              "      <th>TSLA</th>\n",
              "      <th>ETSY</th>\n",
              "      <th>EL</th>\n",
              "      <th>COST</th>\n",
              "      <th>MSCI</th>\n",
              "      <th>MRNA</th>\n",
              "      <th>GNRC</th>\n",
              "      <th>ENPH</th>\n",
              "    </tr>\n",
              "    <tr>\n",
              "      <th>Date</th>\n",
              "      <th></th>\n",
              "      <th></th>\n",
              "      <th></th>\n",
              "      <th></th>\n",
              "      <th></th>\n",
              "      <th></th>\n",
              "      <th></th>\n",
              "      <th></th>\n",
              "      <th></th>\n",
              "      <th></th>\n",
              "    </tr>\n",
              "  </thead>\n",
              "  <tbody>\n",
              "    <tr>\n",
              "      <th>2018-12-07</th>\n",
              "      <td>NaN</td>\n",
              "      <td>NaN</td>\n",
              "      <td>NaN</td>\n",
              "      <td>NaN</td>\n",
              "      <td>NaN</td>\n",
              "      <td>NaN</td>\n",
              "      <td>NaN</td>\n",
              "      <td>NaN</td>\n",
              "      <td>NaN</td>\n",
              "      <td>NaN</td>\n",
              "    </tr>\n",
              "    <tr>\n",
              "      <th>2018-12-10</th>\n",
              "      <td>0.006002</td>\n",
              "      <td>-0.014071</td>\n",
              "      <td>0.019859</td>\n",
              "      <td>0.025995</td>\n",
              "      <td>0.006253</td>\n",
              "      <td>-0.009832</td>\n",
              "      <td>0.002734</td>\n",
              "      <td>0.010695</td>\n",
              "      <td>0.003232</td>\n",
              "      <td>0.000000</td>\n",
              "    </tr>\n",
              "    <tr>\n",
              "      <th>2018-12-11</th>\n",
              "      <td>0.002490</td>\n",
              "      <td>-0.003318</td>\n",
              "      <td>0.004399</td>\n",
              "      <td>-0.001085</td>\n",
              "      <td>0.008156</td>\n",
              "      <td>0.017099</td>\n",
              "      <td>0.012179</td>\n",
              "      <td>-0.042930</td>\n",
              "      <td>-0.022067</td>\n",
              "      <td>0.003515</td>\n",
              "    </tr>\n",
              "    <tr>\n",
              "      <th>2018-12-12</th>\n",
              "      <td>0.060317</td>\n",
              "      <td>0.009738</td>\n",
              "      <td>-0.000436</td>\n",
              "      <td>0.038156</td>\n",
              "      <td>-0.002736</td>\n",
              "      <td>0.005723</td>\n",
              "      <td>0.012358</td>\n",
              "      <td>0.036526</td>\n",
              "      <td>0.031512</td>\n",
              "      <td>0.017392</td>\n",
              "    </tr>\n",
              "    <tr>\n",
              "      <th>2018-12-13</th>\n",
              "      <td>-0.013198</td>\n",
              "      <td>-0.001281</td>\n",
              "      <td>0.027417</td>\n",
              "      <td>-0.042325</td>\n",
              "      <td>0.010041</td>\n",
              "      <td>-0.005679</td>\n",
              "      <td>-0.006977</td>\n",
              "      <td>0.004274</td>\n",
              "      <td>0.006185</td>\n",
              "      <td>-0.006920</td>\n",
              "    </tr>\n",
              "    <tr>\n",
              "      <th>...</th>\n",
              "      <td>...</td>\n",
              "      <td>...</td>\n",
              "      <td>...</td>\n",
              "      <td>...</td>\n",
              "      <td>...</td>\n",
              "      <td>...</td>\n",
              "      <td>...</td>\n",
              "      <td>...</td>\n",
              "      <td>...</td>\n",
              "      <td>...</td>\n",
              "    </tr>\n",
              "    <tr>\n",
              "      <th>2022-01-18</th>\n",
              "      <td>-0.044561</td>\n",
              "      <td>0.003478</td>\n",
              "      <td>-0.018365</td>\n",
              "      <td>-0.001284</td>\n",
              "      <td>-0.035075</td>\n",
              "      <td>-0.030111</td>\n",
              "      <td>-0.019264</td>\n",
              "      <td>-0.092671</td>\n",
              "      <td>-0.037863</td>\n",
              "      <td>-0.049659</td>\n",
              "    </tr>\n",
              "    <tr>\n",
              "      <th>2022-01-19</th>\n",
              "      <td>0.003446</td>\n",
              "      <td>-0.016894</td>\n",
              "      <td>-0.034413</td>\n",
              "      <td>-0.002143</td>\n",
              "      <td>-0.004609</td>\n",
              "      <td>0.004273</td>\n",
              "      <td>-0.006388</td>\n",
              "      <td>-0.069563</td>\n",
              "      <td>-0.012077</td>\n",
              "      <td>-0.009908</td>\n",
              "    </tr>\n",
              "    <tr>\n",
              "      <th>2022-01-20</th>\n",
              "      <td>0.020347</td>\n",
              "      <td>-0.007443</td>\n",
              "      <td>0.000623</td>\n",
              "      <td>-0.023882</td>\n",
              "      <td>-0.027713</td>\n",
              "      <td>-0.015088</td>\n",
              "      <td>0.004761</td>\n",
              "      <td>-0.038355</td>\n",
              "      <td>-0.025198</td>\n",
              "      <td>0.000817</td>\n",
              "    </tr>\n",
              "    <tr>\n",
              "      <th>2022-01-21</th>\n",
              "      <td>-0.024052</td>\n",
              "      <td>-0.024306</td>\n",
              "      <td>-0.053998</td>\n",
              "      <td>-0.067787</td>\n",
              "      <td>-0.013510</td>\n",
              "      <td>-0.002509</td>\n",
              "      <td>-0.029569</td>\n",
              "      <td>-0.045492</td>\n",
              "      <td>-0.046652</td>\n",
              "      <td>-0.066535</td>\n",
              "    </tr>\n",
              "    <tr>\n",
              "      <th>2022-01-24</th>\n",
              "      <td>-0.033672</td>\n",
              "      <td>-0.049788</td>\n",
              "      <td>-0.064435</td>\n",
              "      <td>0.007963</td>\n",
              "      <td>-0.017799</td>\n",
              "      <td>-0.011832</td>\n",
              "      <td>-0.024774</td>\n",
              "      <td>-0.095023</td>\n",
              "      <td>0.016640</td>\n",
              "      <td>-0.057149</td>\n",
              "    </tr>\n",
              "  </tbody>\n",
              "</table>\n",
              "<p>788 rows × 10 columns</p>\n",
              "</div>\n",
              "      <button class=\"colab-df-convert\" onclick=\"convertToInteractive('df-e54c5c7d-ef21-4cbc-a1c8-d92478bf165f')\"\n",
              "              title=\"Convert this dataframe to an interactive table.\"\n",
              "              style=\"display:none;\">\n",
              "        \n",
              "  <svg xmlns=\"http://www.w3.org/2000/svg\" height=\"24px\"viewBox=\"0 0 24 24\"\n",
              "       width=\"24px\">\n",
              "    <path d=\"M0 0h24v24H0V0z\" fill=\"none\"/>\n",
              "    <path d=\"M18.56 5.44l.94 2.06.94-2.06 2.06-.94-2.06-.94-.94-2.06-.94 2.06-2.06.94zm-11 1L8.5 8.5l.94-2.06 2.06-.94-2.06-.94L8.5 2.5l-.94 2.06-2.06.94zm10 10l.94 2.06.94-2.06 2.06-.94-2.06-.94-.94-2.06-.94 2.06-2.06.94z\"/><path d=\"M17.41 7.96l-1.37-1.37c-.4-.4-.92-.59-1.43-.59-.52 0-1.04.2-1.43.59L10.3 9.45l-7.72 7.72c-.78.78-.78 2.05 0 2.83L4 21.41c.39.39.9.59 1.41.59.51 0 1.02-.2 1.41-.59l7.78-7.78 2.81-2.81c.8-.78.8-2.07 0-2.86zM5.41 20L4 18.59l7.72-7.72 1.47 1.35L5.41 20z\"/>\n",
              "  </svg>\n",
              "      </button>\n",
              "      \n",
              "  <style>\n",
              "    .colab-df-container {\n",
              "      display:flex;\n",
              "      flex-wrap:wrap;\n",
              "      gap: 12px;\n",
              "    }\n",
              "\n",
              "    .colab-df-convert {\n",
              "      background-color: #E8F0FE;\n",
              "      border: none;\n",
              "      border-radius: 50%;\n",
              "      cursor: pointer;\n",
              "      display: none;\n",
              "      fill: #1967D2;\n",
              "      height: 32px;\n",
              "      padding: 0 0 0 0;\n",
              "      width: 32px;\n",
              "    }\n",
              "\n",
              "    .colab-df-convert:hover {\n",
              "      background-color: #E2EBFA;\n",
              "      box-shadow: 0px 1px 2px rgba(60, 64, 67, 0.3), 0px 1px 3px 1px rgba(60, 64, 67, 0.15);\n",
              "      fill: #174EA6;\n",
              "    }\n",
              "\n",
              "    [theme=dark] .colab-df-convert {\n",
              "      background-color: #3B4455;\n",
              "      fill: #D2E3FC;\n",
              "    }\n",
              "\n",
              "    [theme=dark] .colab-df-convert:hover {\n",
              "      background-color: #434B5C;\n",
              "      box-shadow: 0px 1px 3px 1px rgba(0, 0, 0, 0.15);\n",
              "      filter: drop-shadow(0px 1px 2px rgba(0, 0, 0, 0.3));\n",
              "      fill: #FFFFFF;\n",
              "    }\n",
              "  </style>\n",
              "\n",
              "      <script>\n",
              "        const buttonEl =\n",
              "          document.querySelector('#df-e54c5c7d-ef21-4cbc-a1c8-d92478bf165f button.colab-df-convert');\n",
              "        buttonEl.style.display =\n",
              "          google.colab.kernel.accessAllowed ? 'block' : 'none';\n",
              "\n",
              "        async function convertToInteractive(key) {\n",
              "          const element = document.querySelector('#df-e54c5c7d-ef21-4cbc-a1c8-d92478bf165f');\n",
              "          const dataTable =\n",
              "            await google.colab.kernel.invokeFunction('convertToInteractive',\n",
              "                                                     [key], {});\n",
              "          if (!dataTable) return;\n",
              "\n",
              "          const docLinkHtml = 'Like what you see? Visit the ' +\n",
              "            '<a target=\"_blank\" href=https://colab.research.google.com/notebooks/data_table.ipynb>data table notebook</a>'\n",
              "            + ' to learn more about interactive tables.';\n",
              "          element.innerHTML = '';\n",
              "          dataTable['output_type'] = 'display_data';\n",
              "          await google.colab.output.renderOutput(dataTable, element);\n",
              "          const docLink = document.createElement('div');\n",
              "          docLink.innerHTML = docLinkHtml;\n",
              "          element.appendChild(docLink);\n",
              "        }\n",
              "      </script>\n",
              "    </div>\n",
              "  </div>\n",
              "  "
            ],
            "text/plain": [
              "                MTCH       LYV      TSLA  ...      MRNA      GNRC      ENPH\n",
              "Date                                      ...                              \n",
              "2018-12-07       NaN       NaN       NaN  ...       NaN       NaN       NaN\n",
              "2018-12-10  0.006002 -0.014071  0.019859  ...  0.010695  0.003232  0.000000\n",
              "2018-12-11  0.002490 -0.003318  0.004399  ... -0.042930 -0.022067  0.003515\n",
              "2018-12-12  0.060317  0.009738 -0.000436  ...  0.036526  0.031512  0.017392\n",
              "2018-12-13 -0.013198 -0.001281  0.027417  ...  0.004274  0.006185 -0.006920\n",
              "...              ...       ...       ...  ...       ...       ...       ...\n",
              "2022-01-18 -0.044561  0.003478 -0.018365  ... -0.092671 -0.037863 -0.049659\n",
              "2022-01-19  0.003446 -0.016894 -0.034413  ... -0.069563 -0.012077 -0.009908\n",
              "2022-01-20  0.020347 -0.007443  0.000623  ... -0.038355 -0.025198  0.000817\n",
              "2022-01-21 -0.024052 -0.024306 -0.053998  ... -0.045492 -0.046652 -0.066535\n",
              "2022-01-24 -0.033672 -0.049788 -0.064435  ... -0.095023  0.016640 -0.057149\n",
              "\n",
              "[788 rows x 10 columns]"
            ]
          },
          "metadata": {},
          "execution_count": 29
        }
      ]
    },
    {
      "cell_type": "code",
      "execution_count": null,
      "id": "a65ab943",
      "metadata": {
        "id": "a65ab943"
      },
      "outputs": [],
      "source": [
        "import seaborn as sns \n",
        "def heatmap(returns):\n",
        "    fig = plt.figure(figsize=(16,10))\n",
        "    corr_matrix = returns.corr()\n",
        "    sns.heatmap(corr_matrix, annot=True)\n",
        "    plt.show()\n",
        "    return corr_matrix"
      ]
    },
    {
      "cell_type": "code",
      "source": [
        "corr_matrix = heatmap(returns)"
      ],
      "metadata": {
        "colab": {
          "base_uri": "https://localhost:8080/",
          "height": 596
        },
        "id": "B89xtN9RsO1l",
        "outputId": "a06fd771-fe6a-45ff-868d-c72e7db4b980"
      },
      "id": "B89xtN9RsO1l",
      "execution_count": null,
      "outputs": [
        {
          "output_type": "display_data",
          "data": {
            "image/png": "[encoded data removed]",
            "text/plain": [
              "<Figure size 1152x720 with 2 Axes>"
            ]
          },
          "metadata": {
            "needs_background": "light"
          }
        }
      ]
    },
    {
      "cell_type": "markdown",
      "source": [
        "## Portfolio optimization\n",
        "We will start by computing mean returns of the portfolio:\n",
        "\n",
        "The crucial part is the constant 252 which corresponds to the yearly average of 252 trading days."
      ],
      "metadata": {
        "id": "d_lVroVtt7P3"
      },
      "id": "d_lVroVtt7P3"
    },
    {
      "cell_type": "code",
      "source": [
        "tickers_in_portfolio = list(returns.columns)\n",
        "num_stocks = len(tickers_in_portfolio)"
      ],
      "metadata": {
        "id": "g3A22gPxuM-y"
      },
      "id": "g3A22gPxuM-y",
      "execution_count": null,
      "outputs": []
    },
    {
      "cell_type": "code",
      "source": [
        "def compute_mean_returns(returns):\n",
        "    mean_ret = returns.mean() * 252 # 252 average trading days per year\n",
        "    return mean_ret.sort_values(ascending=False)"
      ],
      "metadata": {
        "id": "qXSv_VyjuAxu"
      },
      "id": "qXSv_VyjuAxu",
      "execution_count": null,
      "outputs": []
    },
    {
      "cell_type": "code",
      "source": [
        "print(compute_mean_returns(returns))"
      ],
      "metadata": {
        "colab": {
          "base_uri": "https://localhost:8080/"
        },
        "id": "D9sqXzXdnt8u",
        "outputId": "be1d4359-9984-4f02-ee03-cbe421ece2bf"
      },
      "id": "D9sqXzXdnt8u",
      "execution_count": null,
      "outputs": [
        {
          "output_type": "stream",
          "name": "stdout",
          "text": [
            "ENPH    0.974167\n",
            "TSLA    0.805175\n",
            "MRNA    0.658795\n",
            "GNRC    0.530947\n",
            "MSCI    0.387208\n",
            "MTCH    0.330742\n",
            "ETSY    0.327696\n",
            "COST    0.256647\n",
            "EL      0.249407\n",
            "LYV     0.204608\n",
            "dtype: float64\n"
          ]
        }
      ]
    },
    {
      "cell_type": "markdown",
      "source": [
        "### Random initialization of weights\n",
        "And now we create a random initialization for the weights"
      ],
      "metadata": {
        "id": "TYaHb4rsukIZ"
      },
      "id": "TYaHb4rsukIZ"
    },
    {
      "cell_type": "code",
      "source": [
        "def generate_random_weights(num_stocks):\n",
        "    # Generate 11 random values that sum to 1\n",
        "    weights = np.random.random(num_stocks)\n",
        "    weights /= np.sum(weights)\n",
        "    return weights"
      ],
      "metadata": {
        "id": "eLhXV4idn6mk"
      },
      "id": "eLhXV4idn6mk",
      "execution_count": null,
      "outputs": []
    },
    {
      "cell_type": "code",
      "source": [
        "weights = generate_random_weights(num_stocks)"
      ],
      "metadata": {
        "id": "RAWsYBn0oP0Z"
      },
      "id": "RAWsYBn0oP0Z",
      "execution_count": null,
      "outputs": []
    },
    {
      "cell_type": "markdown",
      "source": [
        "### Compute returns with weights"
      ],
      "metadata": {
        "id": "OWtEkF2fvOZJ"
      },
      "id": "OWtEkF2fvOZJ"
    },
    {
      "cell_type": "code",
      "source": [
        "\n",
        "\n",
        "def compute_returns(returns, weights):\n",
        "    return np.sum(weights * returns.mean()) * 252"
      ],
      "metadata": {
        "id": "5aWI1qmIoVJf"
      },
      "id": "5aWI1qmIoVJf",
      "execution_count": null,
      "outputs": []
    },
    {
      "cell_type": "code",
      "source": [
        "\n",
        "\n",
        "compute_returns(returns, weights)"
      ],
      "metadata": {
        "colab": {
          "base_uri": "https://localhost:8080/"
        },
        "id": "nsDZCtslu8lp",
        "outputId": "8da2a1d2-7dce-4756-a6ee-0c8a8200ffb7"
      },
      "id": "nsDZCtslu8lp",
      "execution_count": null,
      "outputs": [
        {
          "output_type": "execute_result",
          "data": {
            "text/plain": [
              "0.44541298194144"
            ]
          },
          "metadata": {},
          "execution_count": 38
        }
      ]
    },
    {
      "cell_type": "markdown",
      "source": [
        "Pretty good for random weights!"
      ],
      "metadata": {
        "id": "I0_2uMEKvGbx"
      },
      "id": "I0_2uMEKvGbx"
    },
    {
      "cell_type": "markdown",
      "source": [
        "### Compute volatility\n",
        "Volatility of portfolio is really the standard deviation. It is computed as the sum of the variance and covariance of all assets multiplied by weight. Again, multiplied with 252 for the average yearly trading days. We do it explicitly here in order to show how to compute it.\n",
        "\n",
        "$ \\sigma = \\sqrt{w^T \\Sigma w} $\n",
        "\n",
        "$w$ = weight vector\n",
        "\n",
        "$\\Sigma$ = Covariance matrix"
      ],
      "metadata": {
        "id": "cvBp6U6DvUdS"
      },
      "id": "cvBp6U6DvUdS"
    },
    {
      "cell_type": "code",
      "source": [
        "def compute_volatility(returns, weights):\n",
        "    return np.sqrt(np.dot(weights.T, np.dot(returns.cov()*252, weights)))"
      ],
      "metadata": {
        "id": "L8ftX_2cveS2"
      },
      "id": "L8ftX_2cveS2",
      "execution_count": null,
      "outputs": []
    },
    {
      "cell_type": "markdown",
      "source": [
        "### Sharpe Ratio\n",
        "People want to maximize returns while avoiding as much risk as possible. William Sharpe created the Sharpe Ratio to find the portfolio that provides the best return for the lowest amount of risk.\n",
        "\n",
        "\n",
        "$SR = \\frac{r_i - r_f}{\\sigma_i}$\n",
        "\n",
        "$r_f$ = Risk free rate\n",
        "\n",
        "$r_i$ = Rate of returns of the stc\n",
        "\n",
        "$\\sigma_i$ = Standard Deviation of the Stock"
      ],
      "metadata": {
        "id": "nuHAZVhzxqLg"
      },
      "id": "nuHAZVhzxqLg"
    },
    {
      "cell_type": "code",
      "source": [
        "def compute_sharpe_ratio(sum_returns, volatility, risk_free_rate):\n",
        "    return (sum_returns - risk_free_rate) / volatility"
      ],
      "metadata": {
        "id": "VYKyh9CaxsRL"
      },
      "id": "VYKyh9CaxsRL",
      "execution_count": null,
      "outputs": []
    },
    {
      "cell_type": "markdown",
      "source": [
        "# Monte Carlo simulation"
      ],
      "metadata": {
        "id": "t7JKlt7YxEQ-"
      },
      "id": "t7JKlt7YxEQ-"
    },
    {
      "cell_type": "code",
      "source": [
        "p_ret = [] # Returns list\n",
        "p_vol = [] # Volatility list\n",
        "p_SR = [] # Sharpe Ratio list\n",
        "p_wt = [] # Stock weights list\n",
        "risk_free_rate = 0.0125 \n",
        "\n",
        "\n",
        "for x in tqdm(range(10000)):\n",
        "    # Generate random weights\n",
        "    p_weights = generate_random_weights(num_stocks)\n",
        "    \n",
        "    # Add return using those weights to list\n",
        "    ret_1 = compute_returns(returns, p_weights)\n",
        "    p_ret.append(ret_1)\n",
        "    \n",
        "    # Add volatility or standard deviation to list\n",
        "    vol_1 = compute_volatility(returns, p_weights)\n",
        "    p_vol.append(vol_1)\n",
        "    \n",
        "    # Get Sharpe ratio\n",
        "    SR_1 = compute_sharpe_ratio(ret_1, vol_1, risk_free_rate)\n",
        "    p_SR.append(SR_1)\n",
        "    \n",
        "    # Store the weights for each portfolio\n",
        "    p_wt.append(p_weights)\n",
        "    \n",
        "# Convert to Numpy arrays\n",
        "p_ret = np.array(p_ret)\n",
        "p_vol = np.array(p_vol)\n",
        "p_SR = np.array(p_SR)\n",
        "p_wt = np.array(p_wt)"
      ],
      "metadata": {
        "colab": {
          "base_uri": "https://localhost:8080/"
        },
        "id": "KurFG8UbxDtX",
        "outputId": "2710adba-b99b-42b2-9abd-b97315cb85f2"
      },
      "id": "KurFG8UbxDtX",
      "execution_count": null,
      "outputs": [
        {
          "output_type": "stream",
          "name": "stderr",
          "text": [
            "100%|██████████| 10000/10000 [00:13<00:00, 720.00it/s]\n"
          ]
        }
      ]
    },
    {
      "cell_type": "code",
      "source": [
        "SR_idx = np.argmax(p_SR)\n",
        "SR_ideal = p_SR[SR_idx]\n",
        "w_ideal = p_wt[SR_idx]\n",
        "ret_ideal = p_ret[SR_idx]\n",
        "vol_ideal = p_vol[SR_idx]"
      ],
      "metadata": {
        "id": "l4uSFU3o6qeV"
      },
      "id": "l4uSFU3o6qeV",
      "execution_count": null,
      "outputs": []
    },
    {
      "cell_type": "markdown",
      "source": [
        "## Plotting the Efficient Frontier"
      ],
      "metadata": {
        "id": "ui6oPsjVycpO"
      },
      "id": "ui6oPsjVycpO"
    },
    {
      "cell_type": "code",
      "source": [
        "# Create a dataframe with returns and volatility\n",
        "ports = pd.DataFrame({'Return': p_ret, 'Volatility': p_vol})\n",
        "\n",
        "ports.plot(x='Volatility', y='Return', kind='scatter', figsize=(16, 9))\n",
        "\n",
        "plt.scatter(vol_ideal, ret_ideal, c='r', marker='*', s=100,\n",
        "            label='Optimal SR = %f2.2' % (SR_ideal))\n",
        "plt.legend()\n",
        "plt.show()"
      ],
      "metadata": {
        "colab": {
          "base_uri": "https://localhost:8080/",
          "height": 551
        },
        "id": "fweIn2hSyfzx",
        "outputId": "2f238407-012b-4d23-c2c8-a5e959e13c07"
      },
      "id": "fweIn2hSyfzx",
      "execution_count": null,
      "outputs": [
        {
          "output_type": "display_data",
          "data": {
            "image/png": "[encoded data removed]",
            "text/plain": [
              "<Figure size 1152x648 with 1 Axes>"
            ]
          },
          "metadata": {
            "needs_background": "light"
          }
        }
      ]
    },
    {
      "cell_type": "code",
      "source": [
        "# Return the index of the largest Sharpe Ratio\n",
        "\n",
        "# Find the ideal portfolio weighting at that index\n",
        "i = 0\n",
        "print('Ideal weighting of portfolio')\n",
        "while i < num_stocks:\n",
        "    ticker = tickers_in_portfolio[i]\n",
        "    if len(ticker) == 4:\n",
        "        print(\"%s : %2.2f\" % (ticker, w_ideal[i]))\n",
        "    elif len(ticker) == 3:\n",
        "        print(\"%s  : %2.2f\" % (ticker, w_ideal[i]))\n",
        "    elif len(ticker) == 2:\n",
        "        print(\"%s   : %2.2f\" % (ticker, w_ideal[i]))\n",
        "    else:\n",
        "        print(\"%s    : %2.2f\" % (ticker, w_ideal[i]))\n",
        "    i += 1\n",
        "    \n",
        "print(\"\\nVolatility   : %f\" % (vol_ideal) )  \n",
        "print(\"Return       : %f\" % (ret_ideal) )\n",
        "print('Sharpe Ratio : %f' % (SR_ideal) )"
      ],
      "metadata": {
        "colab": {
          "base_uri": "https://localhost:8080/"
        },
        "id": "NzMBaYQIyhUE",
        "outputId": "3abbb3e9-d65a-4d04-fac3-6ae385309a47"
      },
      "id": "NzMBaYQIyhUE",
      "execution_count": null,
      "outputs": [
        {
          "output_type": "stream",
          "name": "stdout",
          "text": [
            "Ideal weighting of portfolio\n",
            "MTCH : 0.06\n",
            "LYV  : 0.02\n",
            "TSLA : 0.21\n",
            "ETSY : 0.00\n",
            "EL   : 0.02\n",
            "COST : 0.16\n",
            "MSCI : 0.07\n",
            "MRNA : 0.19\n",
            "GNRC : 0.17\n",
            "ENPH : 0.10\n",
            "\n",
            "Volatility   : 0.341183\n",
            "Return       : 0.577465\n",
            "Sharpe Ratio : 1.655901\n"
          ]
        }
      ]
    },
    {
      "cell_type": "markdown",
      "source": [
        "# Classic optimization with Lagrangian Multipliers\n",
        "\n",
        "We will be using JAX for efficient optimization.\n",
        "Inspiration taken the following sources: \n",
        "\n",
        "1. [JAX-implementations of Lagrangian optimization](https://medium.com/swlh/solving-optimization-problems-with-jax-98376508bd4f)\n",
        "2. [Lagrangians and Portfolio Optimization](https://www.adrian.idv.hk/2021-06-22-kkt/)"
      ],
      "metadata": {
        "id": "H3eaZy44BPjq"
      },
      "id": "H3eaZy44BPjq"
    },
    {
      "cell_type": "code",
      "source": [
        "import jax\n",
        "import jax.numpy as jnp\n",
        "from jax import grad, jit, vmap\n",
        "from jax import random\n",
        "from jax import jacfwd, jacrev\n",
        "from jax.numpy import linalg\n",
        "import matplotlib.pyplot as plt\n",
        "from numpy import nanargmin,nanargmax \n",
        "\n",
        "key = random.PRNGKey(42)\n",
        "print(jax.devices())"
      ],
      "metadata": {
        "colab": {
          "base_uri": "https://localhost:8080/"
        },
        "id": "h8Fgu4KNBOFh",
        "outputId": "14192d83-eb4f-4d47-a03b-7e4e8ddf50e3"
      },
      "id": "h8Fgu4KNBOFh",
      "execution_count": null,
      "outputs": [
        {
          "output_type": "stream",
          "name": "stdout",
          "text": [
            "[<jaxlib.xla_extension.Device object at 0x7fbc829fc6f0>]\n"
          ]
        }
      ]
    },
    {
      "cell_type": "markdown",
      "source": [
        "### Simple example"
      ],
      "metadata": {
        "id": "mv76CpekXk0O"
      },
      "id": "mv76CpekXk0O"
    },
    {
      "cell_type": "code",
      "source": [
        "y = lambda x : ((x * jnp.sqrt(12*x - 36)) / (2*(x-3)))\n",
        "L = lambda x : jnp.sqrt(x**2 + y(x)**2)\n",
        "gradL = grad(L)\n",
        "minGD = lambda x : x - 0.01*gradL(x)\n",
        "\n",
        "domain = jnp.linspace(3.0, 5.0, num=50)\n",
        "\n",
        "solve = jit(vmap(minGD))\n",
        "\n",
        "for epoch in tqdm(range(50)):\n",
        "    domain = solve(domain)\n"
      ],
      "metadata": {
        "colab": {
          "base_uri": "https://localhost:8080/"
        },
        "id": "X3_TCWHyXihC",
        "outputId": "63fa3bc2-caf5-43dc-e3b3-d0dbf753cc4d"
      },
      "id": "X3_TCWHyXihC",
      "execution_count": null,
      "outputs": [
        {
          "output_type": "stream",
          "name": "stderr",
          "text": [
            "100%|██████████| 50/50 [00:00<00:00, 398.38it/s]\n"
          ]
        }
      ]
    },
    {
      "cell_type": "code",
      "source": [
        "minfunc = vmap(L)\n",
        "minimums = minfunc(domain)"
      ],
      "metadata": {
        "id": "oWS9eFl9YQkw"
      },
      "id": "oWS9eFl9YQkw",
      "execution_count": null,
      "outputs": []
    },
    {
      "cell_type": "code",
      "source": [
        "arglist = nanargmin(minimums)\n",
        "argmin = domain[arglist]\n",
        "minimum = minimums[arglist]\n",
        "print('Min Val: %f x : %f' % (minimum, argmin) )"
      ],
      "metadata": {
        "colab": {
          "base_uri": "https://localhost:8080/"
        },
        "id": "AUyuivCcY0kB",
        "outputId": "872c1be3-eeaa-42bb-cef0-df58ae56aa98"
      },
      "id": "AUyuivCcY0kB",
      "execution_count": null,
      "outputs": [
        {
          "output_type": "stream",
          "name": "stdout",
          "text": [
            "Min Val: 7.794247 x : 4.505732\n"
          ]
        }
      ]
    },
    {
      "cell_type": "markdown",
      "source": [
        "### Multivariate Lagrangian Example with constraints\n",
        "\n",
        "In this example, \n",
        "\n",
        "$\\vec{x} = [x1, x2, \\lambda]$ "
      ],
      "metadata": {
        "id": "tYh9KuS2j___"
      },
      "id": "tYh9KuS2j___"
    },
    {
      "cell_type": "code",
      "source": [
        "f = lambda x : 4*(x[0]**2)*x[1]\n",
        "g = lambda x : x[0]**2 + x[1]**2 - 3\n",
        "\n",
        "Lagrange = lambda l : f(l[0:2]) - l[3]*g(l[0:2])\n",
        "L = jacfwd(Lagrange)\n",
        "gradL = jacfwd(L)\n",
        "\n",
        "solve = lambda l : l - linalg.inv(gradL(l)) @ L(l)\n",
        "\n",
        "domain = random.uniform(key, shape=(50, 3), dtype='float32', minval=-5.0, maxval=5.0)\n",
        "\n",
        "solve = jit(vmap(solve))\n",
        "for epoch in tqdm(range(50)):\n",
        "    domain = solve(domain)\n"
      ],
      "metadata": {
        "colab": {
          "base_uri": "https://localhost:8080/"
        },
        "id": "-qp2D57Zj9zV",
        "outputId": "ac10c783-cbd6-464a-ecd0-4c6ffa5f1515"
      },
      "id": "-qp2D57Zj9zV",
      "execution_count": null,
      "outputs": [
        {
          "output_type": "stream",
          "name": "stderr",
          "text": [
            "100%|██████████| 50/50 [00:01<00:00, 47.14it/s]\n"
          ]
        }
      ]
    },
    {
      "cell_type": "code",
      "source": [
        "minimums = vmap(f)(domain)      # get's values for each set of parameters\n",
        "arglist = nanargmin(minimums)   # get's index of the minimum\n",
        "argmin = domain[arglist]        # get's the set of parameters that minimize f\n",
        "minimum = minimums[arglist]     # get's the minimum value\n",
        "print(\"minimum of f(x) = {}, \\nwith parameters x1 = {}, x2 = {}, lambda = {}\".format(\n",
        "    minimum, argmin[0], argmin[1], argmin[2]\n",
        "))"
      ],
      "metadata": {
        "colab": {
          "base_uri": "https://localhost:8080/"
        },
        "id": "HWdjBnwXj94h",
        "outputId": "2f3de9c0-2fb7-40c8-f93d-2907ff2d3076"
      },
      "id": "HWdjBnwXj94h",
      "execution_count": null,
      "outputs": [
        {
          "output_type": "stream",
          "name": "stdout",
          "text": [
            "minimum of f(x) = -7.999999523162842, \n",
            "with parameters x1 = -1.4142135381698608, x2 = -1.0, lambda = -4.0\n"
          ]
        }
      ]
    },
    {
      "cell_type": "markdown",
      "source": [
        "### Optimize a portfolio with Lagrangian Mutlipliers\n",
        "\n",
        "We want to optimize the weights $w = [w_1, w_2, w_3, ..., w_n]$ of a portfolio of $n$ assets such that:\n",
        "1. we minimize volatility \n",
        "2. while maximizing returns\n",
        "3. keeping the sum of weights equal to 1\n",
        "\n",
        "We can express this as an optimization problem as:\n",
        "\n",
        "$f(w) = \\sqrt{w^T \\Sigma w}$*\n",
        "\n",
        "$h(w) = w^Tr - R$\n",
        "\n",
        "$g(w) = w^TI - 1$\n",
        "\n",
        "where, $\\Sigma$ is the covariance matrix of past returns, $r = [r_1, r_2, ... r_n]$ are past mean returns of $n$ assets, $R = \\sum_i^n r_i$ is the sum of said returns\n",
        "\n",
        "In this case we need to satisfy 2 constraints, so we get the parametrs $[\\lambda_1, \\lambda_2]$ we have to deal with. The Lagrangian then becomes\n",
        "\n",
        "$L(w, \\lambda_1, \\lambda_2) = f(w) - \\lambda_1h(w) - \\lambda_2g(w)$\n",
        "\n",
        "For implementation purposes we keep all the parameters in $w, \\lambda$ in a single vector $x = [w_1, w_2, w_3, ..., w_n, \\lambda_1, \\lambda_2]$."
      ],
      "metadata": {
        "id": "zhQifuqsnvxI"
      },
      "id": "zhQifuqsnvxI"
    },
    {
      "cell_type": "code",
      "source": [
        "Sigma = jnp.array(returns.cov().to_numpy()*252)\n",
        "r     = jnp.array(returns.mean().to_numpy()*252)\n",
        "R     = jnp.sum(r)\n",
        "n_l   = 2\n",
        "\n",
        "w_domain = random.uniform(key, shape=(100,num_stocks), dtype='float32', minval=0, maxval=1)\n",
        "norm = lambda x : x/jnp.sum(x)\n",
        "w_domain = vmap(norm)(w_domain)\n",
        "l_domain = random.uniform(key, shape=(100,n_l), dtype='float32', minval=0, maxval=4)\n",
        "domain   = jnp.hstack([w_domain, l_domain])"
      ],
      "metadata": {
        "id": "rR5F2Omm86a1"
      },
      "id": "rR5F2Omm86a1",
      "execution_count": null,
      "outputs": []
    },
    {
      "cell_type": "code",
      "source": [
        "f = lambda w : jnp.sqrt(jnp.dot(w.T, jnp.dot(Sigma, w)))\n",
        "g = lambda w : jnp.dot(w.T, r) - R \n",
        "h = lambda w : jnp.dot(w.T, jnp.ones(len(w))) - 1\n",
        "\n",
        "Lagrange = lambda x : f(x[:-n_l]) - x[-2]*g(x[:-n_l]) - x[-1]*h(x[:-n_l])\n",
        "\n",
        "jacoL = jacfwd(Lagrange)\n",
        "hessL = jacfwd(jacoL)\n",
        "\n",
        "solveL = lambda x : x - 0.001*linalg.inv(hessL(x)) @ jacoL(x)\n",
        "solveL = jit(vmap(solveL))"
      ],
      "metadata": {
        "id": "8JQ3wygNmzVz"
      },
      "id": "8JQ3wygNmzVz",
      "execution_count": null,
      "outputs": []
    },
    {
      "cell_type": "code",
      "source": [
        "for epoch in tqdm(range(100)):\n",
        "    domain = solveL(domain)"
      ],
      "metadata": {
        "colab": {
          "base_uri": "https://localhost:8080/"
        },
        "id": "3N-UghHsw1g1",
        "outputId": "cb115219-2dfb-400d-93af-5e196e6f5293"
      },
      "id": "3N-UghHsw1g1",
      "execution_count": null,
      "outputs": [
        {
          "output_type": "stream",
          "name": "stderr",
          "text": [
            "100%|██████████| 100/100 [00:04<00:00, 21.99it/s]\n"
          ]
        }
      ]
    },
    {
      "cell_type": "code",
      "source": [
        "minimums = vmap(f)(domain[:,:-n_l])       # get's values for each set of parameters\n",
        "arglist = nanargmin(minimums)             # get's index of the minimum\n",
        "argmin = domain[arglist]                  # get's the set of parameters that minimize f\n",
        "minimum = minimums[arglist]               # get's the minimum value"
      ],
      "metadata": {
        "id": "kKAMDmOqxSot"
      },
      "id": "kKAMDmOqxSot",
      "execution_count": null,
      "outputs": []
    },
    {
      "cell_type": "code",
      "source": [
        "lambdas = argmin[-n_l:]\n",
        "optimal_weights = argmin[:-n_l]\n",
        "sum_returns = jnp.dot(optimal_weights, r)\n",
        "volatility = jnp.sqrt(jnp.dot(optimal_weights.T, jnp.dot(Sigma, optimal_weights)))\n",
        "sharpe_ratio = (sum_returns - risk_free_rate) / volatility"
      ],
      "metadata": {
        "id": "l8P0i5j69AIq"
      },
      "id": "l8P0i5j69AIq",
      "execution_count": null,
      "outputs": []
    },
    {
      "cell_type": "code",
      "source": [
        "lambdas"
      ],
      "metadata": {
        "colab": {
          "base_uri": "https://localhost:8080/"
        },
        "id": "6N7OLU4wR4TG",
        "outputId": "ef8a06e6-3c78-49b3-b74f-abf3b93a55ac"
      },
      "id": "6N7OLU4wR4TG",
      "execution_count": null,
      "outputs": [
        {
          "output_type": "execute_result",
          "data": {
            "text/plain": [
              "DeviceArray([2.2219822 , 0.56734186], dtype=float32)"
            ]
          },
          "metadata": {},
          "execution_count": 57
        }
      ]
    },
    {
      "cell_type": "code",
      "source": [
        "# Return the index of the largest Sharpe Ratio\n",
        "\n",
        "# Find the ideal portfolio weighting at that index\n",
        "i = 0\n",
        "print('Ideal weighting of portfolio')\n",
        "while i < num_stocks:\n",
        "    ticker = tickers_in_portfolio[i]\n",
        "    if len(ticker) == 4:\n",
        "        print(\"%s : %2.2f\"      % (ticker, weights[i]))\n",
        "    elif len(ticker) == 3:\n",
        "        print(\"%s  : %2.2f\"     % (ticker, weights[i]))\n",
        "    elif len(ticker) == 2:\n",
        "        print(\"%s   : %2.2f\"    % (ticker, weights[i]))\n",
        "    else:\n",
        "        print(\"%s    : %2.2f\"   % (ticker, weights[i]))\n",
        "    i += 1\n",
        "\n",
        "print('\\n')\n",
        "print(\"Lambda_1     : %f\" % (lambdas[0]))\n",
        "print(\"Lambda_2     : %f\" % (lambdas[1]))\n",
        "    \n",
        "print(\"\\nVolatility   : %f\" % (volatility) )  \n",
        "print(\"Return       : %f\" % (sum_returns) )\n",
        "print(\"Sharpe Ratio : %f\" % (sharpe_ratio) )"
      ],
      "metadata": {
        "colab": {
          "base_uri": "https://localhost:8080/"
        },
        "id": "G6Piwct2yUrN",
        "outputId": "91aacd60-25db-4585-9860-6ea50af2024b"
      },
      "id": "G6Piwct2yUrN",
      "execution_count": null,
      "outputs": [
        {
          "output_type": "stream",
          "name": "stdout",
          "text": [
            "Ideal weighting of portfolio\n",
            "MTCH : 0.11\n",
            "LYV  : 0.11\n",
            "TSLA : 0.02\n",
            "ETSY : 0.18\n",
            "EL   : 0.00\n",
            "COST : 0.14\n",
            "MSCI : 0.11\n",
            "MRNA : 0.22\n",
            "GNRC : 0.06\n",
            "ENPH : 0.06\n",
            "\n",
            "\n",
            "Lambda_1     : 2.221982\n",
            "Lambda_2     : 0.567342\n",
            "\n",
            "Volatility   : 0.527071\n",
            "Return       : 0.848299\n",
            "Sharpe Ratio : 1.585742\n"
          ]
        }
      ]
    },
    {
      "cell_type": "markdown",
      "source": [
        "#### Conclusion\n",
        "1. Rather dissapointing performance... High return but way too high volatility. If we let the optimization go it will not increase the Sharpe Ratio, but the Volatlity and Return will go up, which is a worse portfolio.\n",
        "2. Very fast with jit! If anything, Jax is the big winner here.\n",
        "3. Still requires a fair amount of tweaking.\n",
        "4. Doesn't do anything for stock-picking which is still a manual process."
      ],
      "metadata": {
        "id": "JgbG7B4DXaIq"
      },
      "id": "JgbG7B4DXaIq"
    },
    {
      "cell_type": "markdown",
      "source": [
        "# Deep Learning approach\n",
        "\n",
        "We want to create a model that, given input set of $n$ assets $X = \\{x_1, x_2,..., x_n\\}$ will generate a portfolio of weights $W = \\{w_1, w_2, ..., w_n\\} \\in [0,1]$ and $\\sum{W} = 1$ that minimizes volatility\n",
        "\n",
        "$ \\sigma = \\sqrt{W^T \\Sigma W} $\n",
        "\n",
        "while it maximizes the Sharpe Ratio\n",
        "\n",
        "$SR = \\frac{r - r_f}{\\sigma}$\n",
        "\n",
        "$r_f$ = Risk free rate\n",
        "\n",
        "$r$ = Rate of returns of the portfolio\n",
        "\n",
        "$\\sigma$ = Volatility of the portfolio\n",
        "\n",
        "\n",
        "We therefore want to constuct a function $f$ that given input $X$ will produce our portfolio. This what we want to approximate with our neural net\n",
        "\n",
        "$f(X) = w_1x_1 + w_2x_2 + ... + w_nx_n$\n",
        "\n",
        "This is still an optimization problem and not really dealing with a $general$ model for portfolio optimization. More on that later... "
      ],
      "metadata": {
        "id": "PpA5xtlra1jQ"
      },
      "id": "PpA5xtlra1jQ"
    },
    {
      "cell_type": "code",
      "source": [
        "!pip install flax"
      ],
      "metadata": {
        "colab": {
          "base_uri": "https://localhost:8080/"
        },
        "id": "NLxSePlTkdqR",
        "outputId": "5d219d4c-2535-4c22-975d-db62685d6c68"
      },
      "id": "NLxSePlTkdqR",
      "execution_count": null,
      "outputs": [
        {
          "output_type": "stream",
          "name": "stdout",
          "text": [
            "Collecting flax\n",
            "  Downloading flax-0.3.6-py3-none-any.whl (207 kB)\n",
            "\u001b[K     |████████████████████████████████| 207 kB 5.4 MB/s \n",
            "\u001b[?25hRequirement already satisfied: jax>=0.2.21 in /usr/local/lib/python3.7/dist-packages (from flax) (0.2.25)\n",
            "Collecting optax\n",
            "  Downloading optax-0.1.0-py3-none-any.whl (126 kB)\n",
            "\u001b[K     |████████████████████████████████| 126 kB 32.2 MB/s \n",
            "\u001b[?25hRequirement already satisfied: msgpack in /usr/local/lib/python3.7/dist-packages (from flax) (1.0.3)\n",
            "Requirement already satisfied: matplotlib in /usr/local/lib/python3.7/dist-packages (from flax) (3.2.2)\n",
            "Requirement already satisfied: numpy>=1.12 in /usr/local/lib/python3.7/dist-packages (from flax) (1.19.5)\n",
            "Requirement already satisfied: opt-einsum in /usr/local/lib/python3.7/dist-packages (from jax>=0.2.21->flax) (3.3.0)\n",
            "Requirement already satisfied: typing-extensions in /usr/local/lib/python3.7/dist-packages (from jax>=0.2.21->flax) (3.10.0.2)\n",
            "Requirement already satisfied: scipy>=1.2.1 in /usr/local/lib/python3.7/dist-packages (from jax>=0.2.21->flax) (1.4.1)\n",
            "Requirement already satisfied: absl-py in /usr/local/lib/python3.7/dist-packages (from jax>=0.2.21->flax) (1.0.0)\n",
            "Requirement already satisfied: six in /usr/local/lib/python3.7/dist-packages (from absl-py->jax>=0.2.21->flax) (1.15.0)\n",
            "Requirement already satisfied: cycler>=0.10 in /usr/local/lib/python3.7/dist-packages (from matplotlib->flax) (0.11.0)\n",
            "Requirement already satisfied: pyparsing!=2.0.4,!=2.1.2,!=2.1.6,>=2.0.1 in /usr/local/lib/python3.7/dist-packages (from matplotlib->flax) (3.0.7)\n",
            "Requirement already satisfied: kiwisolver>=1.0.1 in /usr/local/lib/python3.7/dist-packages (from matplotlib->flax) (1.3.2)\n",
            "Requirement already satisfied: python-dateutil>=2.1 in /usr/local/lib/python3.7/dist-packages (from matplotlib->flax) (2.8.2)\n",
            "Collecting chex>=0.0.4\n",
            "  Downloading chex-0.1.0-py3-none-any.whl (65 kB)\n",
            "\u001b[K     |████████████████████████████████| 65 kB 2.6 MB/s \n",
            "\u001b[?25hRequirement already satisfied: jaxlib>=0.1.37 in /usr/local/lib/python3.7/dist-packages (from optax->flax) (0.1.71+cuda111)\n",
            "Requirement already satisfied: dm-tree>=0.1.5 in /usr/local/lib/python3.7/dist-packages (from chex>=0.0.4->optax->flax) (0.1.6)\n",
            "Requirement already satisfied: toolz>=0.9.0 in /usr/local/lib/python3.7/dist-packages (from chex>=0.0.4->optax->flax) (0.11.2)\n",
            "Requirement already satisfied: flatbuffers<3.0,>=1.12 in /usr/local/lib/python3.7/dist-packages (from jaxlib>=0.1.37->optax->flax) (2.0)\n",
            "Installing collected packages: chex, optax, flax\n",
            "Successfully installed chex-0.1.0 flax-0.3.6 optax-0.1.0\n"
          ]
        }
      ]
    },
    {
      "cell_type": "markdown",
      "source": [
        "## Imports"
      ],
      "metadata": {
        "id": "sg6RFmmokadL"
      },
      "id": "sg6RFmmokadL"
    },
    {
      "cell_type": "code",
      "source": [
        "import jax\n",
        "import jax.numpy as jnp                # JAX NumPy\n",
        "\n",
        "from flax import linen as nn           # The Linen API\n",
        "from flax.training import train_state  # Useful dataclass to keep train state\n",
        "\n",
        "import numpy as np                     # Ordinary NumPy\n",
        "import optax                           # Optimizers\n",
        "import tensorflow_datasets as tfds     # TFDS for MNIST\n",
        "from ipywidgets import IntProgress\n",
        "from tqdm import tqdm\n",
        "from random import random\n",
        "\n",
        "from os import listdir"
      ],
      "metadata": {
        "id": "kFWkJoinWLJY"
      },
      "id": "kFWkJoinWLJY",
      "execution_count": null,
      "outputs": []
    },
    {
      "cell_type": "markdown",
      "source": [
        "## 1. Create a dataset "
      ],
      "metadata": {
        "id": "Fy9uz64hKPee"
      },
      "id": "Fy9uz64hKPee"
    },
    {
      "cell_type": "code",
      "source": [
        "def get_stock_from_csv(filepath, ticker):\n",
        "    df = pd.read_csv(str(filepath) + str(ticker) + '.csv')\n",
        "    df = df.set_index('Date', drop=True)\n",
        "    if 'Unnamed: 0' in df.columns:\n",
        "        df = df.drop('Unnamed: 0', axis=1)\n",
        "    return df"
      ],
      "metadata": {
        "id": "dOggmgJZk_4k"
      },
      "id": "dOggmgJZk_4k",
      "execution_count": null,
      "outputs": []
    },
    {
      "cell_type": "code",
      "source": [
        "tickers_in_directory = [filename.replace('.csv','') for filename in listdir(DATA_PATH)]"
      ],
      "metadata": {
        "id": "8my1UcEOD5ml"
      },
      "id": "8my1UcEOD5ml",
      "execution_count": null,
      "outputs": []
    },
    {
      "cell_type": "code",
      "source": [
        "def get_stocks_by_column(data_path, tickers, column, start_date, end_date):\n",
        "    output_df = pd.DataFrame()\n",
        "    for ticker in tqdm(tickers):\n",
        "        try:\n",
        "            df = get_stock_from_csv(data_path, ticker)\n",
        "            mask = (df.index >= start_date) & (df.index <= end_date)\n",
        "            output_df[ticker] = df.loc[mask][column]\n",
        "        except Exception as ex:\n",
        "            print(\"Can't compute : {}\".format(ticker) + ' ' + str(ex))\n",
        "    return output_df\n",
        "    \n",
        "def compute_log_returns(portfolio):\n",
        "    return np.log(portfolio / portfolio.shift(1))"
      ],
      "metadata": {
        "id": "bxyFGl11EQFT"
      },
      "id": "bxyFGl11EQFT",
      "execution_count": null,
      "outputs": []
    },
    {
      "cell_type": "code",
      "source": [
        "df = get_stocks_by_column(data_path=DATA_PATH, \n",
        "                     tickers=tickers_in_directory,\n",
        "                     column='Close',\n",
        "                     start_date='2017-01-01',\n",
        "                     end_date='2022-01-01')"
      ],
      "metadata": {
        "colab": {
          "base_uri": "https://localhost:8080/"
        },
        "id": "nniJzKZgEDA1",
        "outputId": "e399dc80-5c0f-4c74-c0d2-5ee3785d2e13"
      },
      "id": "nniJzKZgEDA1",
      "execution_count": null,
      "outputs": [
        {
          "output_type": "stream",
          "name": "stderr",
          "text": [
            "100%|██████████| 506/506 [00:15<00:00, 32.30it/s]\n"
          ]
        }
      ]
    },
    {
      "cell_type": "code",
      "source": [
        "df.to_csv(DATA_PATH + 'SP500_Close.csv')"
      ],
      "metadata": {
        "id": "xPK_eBVbaFK1"
      },
      "id": "xPK_eBVbaFK1",
      "execution_count": null,
      "outputs": []
    },
    {
      "cell_type": "markdown",
      "source": [
        "### 1.1 Load dataset "
      ],
      "metadata": {
        "id": "DkueOC7za9FI"
      },
      "id": "DkueOC7za9FI"
    },
    {
      "cell_type": "code",
      "source": [
        "import random\n",
        "def generate_random_portfolio(data, num_stocks=10, window=30):\n",
        "    (length, assets) = data.shape\n",
        "    stocks = random.sample(range(assets), num_stocks)\n",
        "    data = data[:,stocks]\n",
        "    iterations = int(np.floor(length/window))\n",
        "    last_index = int(window*iterations)\n",
        "    data = data[:last_index]\n",
        "    data = data.reshape(iterations, num_stocks, window, 1)\n",
        "    return data\n",
        "\n"
      ],
      "metadata": {
        "id": "gNqxXCE3HvUH"
      },
      "id": "gNqxXCE3HvUH",
      "execution_count": null,
      "outputs": []
    },
    {
      "cell_type": "code",
      "source": [
        "generate_random_portfolio()"
      ],
      "metadata": {
        "colab": {
          "base_uri": "https://localhost:8080/"
        },
        "id": "QR6J5QaLo3Re",
        "outputId": "3baf87f2-ff62-4ffb-bc1d-f16ed94a3aca"
      },
      "id": "QR6J5QaLo3Re",
      "execution_count": null,
      "outputs": [
        {
          "output_type": "execute_result",
          "data": {
            "text/plain": [
              "506"
            ]
          },
          "metadata": {},
          "execution_count": 42
        }
      ]
    },
    {
      "cell_type": "code",
      "source": [
        ""
      ],
      "metadata": {
        "colab": {
          "base_uri": "https://localhost:8080/",
          "height": 218
        },
        "id": "Bd1kYOcNa8FX",
        "outputId": "755c951e-7008-4447-ed29-1f61c03a99e0"
      },
      "id": "Bd1kYOcNa8FX",
      "execution_count": null,
      "outputs": [
        {
          "output_type": "error",
          "ename": "AttributeError",
          "evalue": "ignored",
          "traceback": [
            "\u001b[0;31m---------------------------------------------------------------------------\u001b[0m",
            "\u001b[0;31mAttributeError\u001b[0m                            Traceback (most recent call last)",
            "\u001b[0;32m<ipython-input-136-a9d2cb4a89bc>\u001b[0m in \u001b[0;36m<module>\u001b[0;34m()\u001b[0m\n\u001b[1;32m      1\u001b[0m \u001b[0mnum_stocks\u001b[0m \u001b[0;34m=\u001b[0m \u001b[0;36m10\u001b[0m\u001b[0;34m\u001b[0m\u001b[0;34m\u001b[0m\u001b[0m\n\u001b[1;32m      2\u001b[0m \u001b[0mtotal_number_stocks\u001b[0m \u001b[0;34m=\u001b[0m \u001b[0mlen\u001b[0m\u001b[0;34m(\u001b[0m\u001b[0mdf\u001b[0m\u001b[0;34m.\u001b[0m\u001b[0mcolumns\u001b[0m\u001b[0;34m)\u001b[0m\u001b[0;34m\u001b[0m\u001b[0;34m\u001b[0m\u001b[0m\n\u001b[0;32m----> 3\u001b[0;31m \u001b[0mkey\u001b[0m \u001b[0;34m=\u001b[0m \u001b[0mrandom\u001b[0m\u001b[0;34m.\u001b[0m\u001b[0mPRNGKey\u001b[0m\u001b[0;34m(\u001b[0m\u001b[0;36m1\u001b[0m\u001b[0;34m)\u001b[0m\u001b[0;34m\u001b[0m\u001b[0;34m\u001b[0m\u001b[0m\n\u001b[0m\u001b[1;32m      4\u001b[0m \u001b[0mrandom\u001b[0m\u001b[0;34m.\u001b[0m\u001b[0mchoice\u001b[0m\u001b[0;34m(\u001b[0m\u001b[0mkey\u001b[0m\u001b[0;34m=\u001b[0m\u001b[0mkey\u001b[0m\u001b[0;34m,\u001b[0m \u001b[0ma\u001b[0m\u001b[0;34m=\u001b[0m\u001b[0mjnp\u001b[0m\u001b[0;34m.\u001b[0m\u001b[0marange\u001b[0m\u001b[0;34m(\u001b[0m\u001b[0mtotal_number_stocks\u001b[0m\u001b[0;34m)\u001b[0m\u001b[0;34m,\u001b[0m \u001b[0mshape\u001b[0m\u001b[0;34m=\u001b[0m\u001b[0;34m(\u001b[0m\u001b[0mnum_stocks\u001b[0m\u001b[0;34m,\u001b[0m\u001b[0;34m)\u001b[0m\u001b[0;34m,\u001b[0m \u001b[0mreplace\u001b[0m\u001b[0;34m=\u001b[0m\u001b[0;32mFalse\u001b[0m\u001b[0;34m)\u001b[0m\u001b[0;34m\u001b[0m\u001b[0;34m\u001b[0m\u001b[0m\n",
            "\u001b[0;31mAttributeError\u001b[0m: module 'random' has no attribute 'PRNGKey'"
          ]
        }
      ]
    },
    {
      "cell_type": "code",
      "source": [
        "def generate_random_portfolio_index(key, total_number_stocks, portfolio_size):\n",
        "    nbr_portfolios = int(total_number_stocks/portfolio_size)\n",
        "    s = portfolio_size*nbr_portfolios\n",
        "    rand_index = jax.random.choice(key=key, a=jnp.arange(total_number_stocks), \n",
        "                                  shape=(s,), replace=False)\n",
        "    rand_index = rand_index.reshape(nbr_portfolios, portfolio_size)\n",
        "    return rand_index"
      ],
      "metadata": {
        "id": "ZKm3Z_70s1GQ"
      },
      "id": "ZKm3Z_70s1GQ",
      "execution_count": null,
      "outputs": []
    },
    {
      "cell_type": "code",
      "source": [
        "key = jax.random.PRNGKey(1)\n",
        "portfolio_size = 10\n",
        "total_number_stocks = len(df.columns)\n",
        "\n",
        "rand_index = generate_random_portfolio_index(key, total_number_stocks, portfolio_size)"
      ],
      "metadata": {
        "id": "m5jzqRastKGv"
      },
      "id": "m5jzqRastKGv",
      "execution_count": null,
      "outputs": []
    },
    {
      "cell_type": "code",
      "source": [
        "rand_index[0]"
      ],
      "metadata": {
        "colab": {
          "base_uri": "https://localhost:8080/"
        },
        "id": "634Uyr-fvVH5",
        "outputId": "0c41147a-5c8c-4525-d9a8-a4cb6819c0de"
      },
      "id": "634Uyr-fvVH5",
      "execution_count": null,
      "outputs": [
        {
          "output_type": "execute_result",
          "data": {
            "text/plain": [
              "DeviceArray([306, 364, 359,  59, 144, 111, 367, 372, 376,  84], dtype=int32)"
            ]
          },
          "metadata": {},
          "execution_count": 163
        }
      ]
    },
    {
      "cell_type": "code",
      "source": [
        "complete_data.shape"
      ],
      "metadata": {
        "colab": {
          "base_uri": "https://localhost:8080/"
        },
        "id": "TEOp0dP5uyip",
        "outputId": "9735d6bd-09aa-42d4-be52-1cbad0a4d2aa"
      },
      "id": "TEOp0dP5uyip",
      "execution_count": null,
      "outputs": [
        {
          "output_type": "execute_result",
          "data": {
            "text/plain": [
              "(1244, 506)"
            ]
          },
          "metadata": {},
          "execution_count": 147
        }
      ]
    },
    {
      "cell_type": "code",
      "source": [
        "def generate_portfolio(data, column_index, window=30):\n",
        "    (length, _) = data.shape\n",
        "    num_stocks = len(column_index)\n",
        "    data = data[:,column_index]\n",
        "    iterations = int(np.floor(length/window))\n",
        "    last_index = int(window*iterations)\n",
        "    data = data[:last_index]\n",
        "    data = data.reshape(iterations, num_stocks, window, 1)\n",
        "    return data"
      ],
      "metadata": {
        "id": "Jahl2Kr1uvOV"
      },
      "id": "Jahl2Kr1uvOV",
      "execution_count": null,
      "outputs": []
    },
    {
      "cell_type": "code",
      "source": [
        "generate_portfolio(complete_data, rand_index[0], window=30).shape"
      ],
      "metadata": {
        "colab": {
          "base_uri": "https://localhost:8080/"
        },
        "id": "9WSkdUx_xDSo",
        "outputId": "5ca693a8-3096-4566-c5dc-888353e91c2b"
      },
      "id": "9WSkdUx_xDSo",
      "execution_count": null,
      "outputs": [
        {
          "output_type": "execute_result",
          "data": {
            "text/plain": [
              "(41, 10, 30, 1)"
            ]
          },
          "metadata": {},
          "execution_count": 166
        }
      ]
    },
    {
      "cell_type": "code",
      "source": [
        "def compute_log_returns(portfolio):\n",
        "    return jnp.log(portfolio[1:]/ portfolio[:-1])\n"
      ],
      "metadata": {
        "id": "-_9nmi_sFvm4"
      },
      "id": "-_9nmi_sFvm4",
      "execution_count": null,
      "outputs": []
    },
    {
      "cell_type": "code",
      "source": [
        "complete_data = jnp.array(df.to_numpy(dtype='float32'))\n",
        "complete_data = compute_log_returns(complete_data)"
      ],
      "metadata": {
        "id": "WmhrssD-Fk9G"
      },
      "id": "WmhrssD-Fk9G",
      "execution_count": null,
      "outputs": []
    },
    {
      "cell_type": "code",
      "source": [
        "data = generate_random_portfolio(complete_data)"
      ],
      "metadata": {
        "id": "s3-QNauYJcvH"
      },
      "id": "s3-QNauYJcvH",
      "execution_count": null,
      "outputs": []
    },
    {
      "cell_type": "code",
      "source": [
        "(iterations, assets, window, _) = data.shape"
      ],
      "metadata": {
        "id": "44pkemKpl6vU"
      },
      "id": "44pkemKpl6vU",
      "execution_count": null,
      "outputs": []
    },
    {
      "cell_type": "code",
      "source": [
        ""
      ],
      "metadata": {
        "id": "bOdA5WgMzTt0"
      },
      "id": "bOdA5WgMzTt0",
      "execution_count": null,
      "outputs": []
    },
    {
      "cell_type": "markdown",
      "source": [
        "## 1. Creating the dataset"
      ],
      "metadata": {
        "id": "dE8PLZmKzUXE"
      },
      "id": "dE8PLZmKzUXE"
    },
    {
      "cell_type": "code",
      "source": [
        "data = jnp.array(returns.dropna().to_numpy())\n",
        "(index, col) = data.shape\n",
        "data = data.reshape(col, index, 1)"
      ],
      "metadata": {
        "id": "kR9CtROVzbCo"
      },
      "id": "kR9CtROVzbCo",
      "execution_count": null,
      "outputs": []
    },
    {
      "cell_type": "code",
      "source": [
        "to_show = data[:,:,0]\n",
        "plt.imshow(to_show, aspect='auto')\n",
        "plt.show()"
      ],
      "metadata": {
        "colab": {
          "base_uri": "https://localhost:8080/",
          "height": 265
        },
        "id": "QoTF72HO2lRZ",
        "outputId": "b05f091a-58fc-4428-9875-1fe023f0d2fc"
      },
      "id": "QoTF72HO2lRZ",
      "execution_count": null,
      "outputs": [
        {
          "output_type": "display_data",
          "data": {
            "image/png": "[encoded data removed]",
            "text/plain": [
              "<Figure size 432x288 with 1 Axes>"
            ]
          },
          "metadata": {
            "needs_background": "light"
          }
        }
      ]
    },
    {
      "cell_type": "markdown",
      "source": [
        "## 2. Defining a model\n",
        "We will treat every prospect portfolio as an image as seen above. I have a hunge that a Convolutional Neural Network will do fine on that task. This is the same model used in my Flax's MNIST-example. We will use that as a starting point."
      ],
      "metadata": {
        "id": "jGKOCTSMr-Gc"
      },
      "id": "jGKOCTSMr-Gc"
    },
    {
      "cell_type": "code",
      "source": [
        "from typing import Sequence\n",
        "\n",
        "class CNN(nn.Module):\n",
        "    @nn.compact\n",
        "    def __call__(self, x):\n",
        "        x = nn.Conv(features=32, kernel_size=(3, 3))(x)\n",
        "        x = nn.relu(x)\n",
        "        x = nn.avg_pool(x, window_shape=(2, 2), strides=(2, 2))\n",
        "        x = nn.Conv(features=64, kernel_size=(3, 3))(x)\n",
        "        x = nn.relu(x)\n",
        "        x = nn.avg_pool(x, window_shape=(2, 2), strides=(2, 2))\n",
        "        x = x.ravel() \n",
        "        x = nn.Dense(features=256)(x)\n",
        "        x = nn.relu(x)\n",
        "        x = nn.Dense(features=10)(x)\n",
        "        x = nn.softmax(x)\n",
        "        return x\n"
      ],
      "metadata": {
        "id": "Q6dtJ6UTkcYE"
      },
      "id": "Q6dtJ6UTkcYE",
      "execution_count": null,
      "outputs": []
    },
    {
      "cell_type": "markdown",
      "source": [
        "## 3. Defining loss function\n",
        "\n",
        "We want to directly optimize the Sharpe Ratio."
      ],
      "metadata": {
        "id": "dm2I5qdLtkbF"
      },
      "id": "dm2I5qdLtkbF"
    },
    {
      "cell_type": "code",
      "source": [
        "def mean_returns(X, w):\n",
        "    mean_returns = jnp.mean(X, axis=1)*252\n",
        "    return jnp.dot(mean_returns.T, w)\n",
        "\n",
        "def volatility(X, w):\n",
        "    return jnp.sqrt(jnp.dot(w.T, jnp.dot(jnp.cov(X)*252, w)))\n",
        "\n",
        "def sharpe_ratio(r, rf, v):\n",
        "    return (r - rf) / v\n",
        "\n",
        "def sharpe_loss(X, w, rf):\n",
        "    (assets, window, _) = X.shape \n",
        "    X = X.reshape(assets, window)\n",
        "    r = mean_returns(X, w)\n",
        "    v = volatility(X,w)\n",
        "    return - sharpe_ratio(r, rf, v), r, v\n",
        "\n",
        "rf = 0.0125 \n",
        "num_stocks=10\n",
        "w = np.random.random(num_stocks)\n",
        "w /= np.sum(w)\n",
        "sample = data\n",
        "\n",
        "(sl, r, v) = sharpe_loss(sample, w, rf)\n",
        "sr = -sl\n",
        "\n",
        "print('mean returns : ', r)\n",
        "print('volatility   : ', v)\n",
        "print('Sharpe Ratio : ', sr)\n",
        "print('Sharpe Loss  : ', sl)"
      ],
      "metadata": {
        "colab": {
          "base_uri": "https://localhost:8080/"
        },
        "id": "72ZkbyVTv5wA",
        "outputId": "41a9ffea-44f5-47a6-c3ae-1a6afd386ba7"
      },
      "id": "72ZkbyVTv5wA",
      "execution_count": null,
      "outputs": [
        {
          "output_type": "stream",
          "name": "stdout",
          "text": [
            "mean returns :  0.5562753\n",
            "volatility   :  0.19108163\n",
            "Sharpe Ratio :  2.845775\n",
            "Sharpe Loss  :  -2.845775\n"
          ]
        }
      ]
    },
    {
      "cell_type": "markdown",
      "source": [
        "## 4. Metric computation"
      ],
      "metadata": {
        "id": "bcrQ7sXizEe0"
      },
      "id": "bcrQ7sXizEe0"
    },
    {
      "cell_type": "code",
      "source": [
        "def compute_metrics(X, w, rf):\n",
        "    (sl, r, v) = sharpe_loss(X, w, rf)\n",
        "    metrics = {'mean returns' : r, 'volatility' : v,\n",
        "               'sharpe ratio': -sl, 'loss' : sl}\n",
        "    return metrics"
      ],
      "metadata": {
        "id": "gdGTP2ojxCNm"
      },
      "id": "gdGTP2ojxCNm",
      "execution_count": null,
      "outputs": []
    },
    {
      "cell_type": "markdown",
      "source": [
        "## 5. Create Train State"
      ],
      "metadata": {
        "id": "He8YHaUFzua2"
      },
      "id": "He8YHaUFzua2"
    },
    {
      "cell_type": "code",
      "source": [
        "class CustomTrainState(train_state.TrainState):\n",
        "    rf : int = 0.0125\n",
        "\n",
        "def create_train_state(model, rng, learning_rate, momentum, sample, rf):\n",
        "    params = model.init(rng, jnp.ones(np.shape([sample])))['params'] \n",
        "    tx = optax.sgd(learning_rate, momentum)\n",
        "    return CustomTrainState.create(apply_fn=model.apply, params=params, tx=tx, rf=rf)"
      ],
      "metadata": {
        "id": "BzUb5f9lzo76"
      },
      "id": "BzUb5f9lzo76",
      "execution_count": null,
      "outputs": []
    },
    {
      "cell_type": "markdown",
      "source": [
        "## 6 Initialize\n",
        "This is simply for testing"
      ],
      "metadata": {
        "id": "mIbeCXxhz5cM"
      },
      "id": "mIbeCXxhz5cM"
    },
    {
      "cell_type": "code",
      "source": [
        "rng = jax.random.PRNGKey(0)\n",
        "rng, init_rng = jax.random.split(rng)\n",
        "lr = 0.01\n",
        "m = 0.7\n",
        "rf = 0.0125\n",
        "model = CNN()\n",
        "state = create_train_state(model, rng, lr, m, sample, rf)\n",
        "print(jax.tree_map(jnp.shape, state.params))"
      ],
      "metadata": {
        "colab": {
          "base_uri": "https://localhost:8080/"
        },
        "id": "93Yy5-UJzzKi",
        "outputId": "36ab4b4f-5062-45df-b355-3030f958f9c9"
      },
      "id": "93Yy5-UJzzKi",
      "execution_count": null,
      "outputs": [
        {
          "output_type": "stream",
          "name": "stdout",
          "text": [
            "FrozenDict({\n",
            "    Conv_0: {\n",
            "        bias: (32,),\n",
            "        kernel: (3, 3, 1, 32),\n",
            "    },\n",
            "    Conv_1: {\n",
            "        bias: (64,),\n",
            "        kernel: (3, 3, 32, 64),\n",
            "    },\n",
            "    Dense_0: {\n",
            "        bias: (256,),\n",
            "        kernel: (25088, 256),\n",
            "    },\n",
            "    Dense_1: {\n",
            "        bias: (10,),\n",
            "        kernel: (256, 10),\n",
            "    },\n",
            "})\n"
          ]
        }
      ]
    },
    {
      "cell_type": "markdown",
      "source": [
        "## 7. Predict and evaluate"
      ],
      "metadata": {
        "id": "dTkdbjFK4YLH"
      },
      "id": "dTkdbjFK4YLH"
    },
    {
      "cell_type": "code",
      "source": [
        "@jax.jit\n",
        "def predict(state, X):\n",
        "    return state.apply_fn({'params' : state.params}, X)\n",
        "\n",
        "@jax.jit\n",
        "def evaluate(state, X):\n",
        "    w_pred = state.apply_fn({'params' : state.params}, X)\n",
        "    return compute_metrics(X, w_pred, state.rf)"
      ],
      "metadata": {
        "id": "VZ7ux8Bc4T8m"
      },
      "id": "VZ7ux8Bc4T8m",
      "execution_count": null,
      "outputs": []
    },
    {
      "cell_type": "code",
      "source": [
        "w_pred = predict(state, sample)\n",
        "print(evaluate(state, sample)['loss'])\n",
        "X = sample"
      ],
      "metadata": {
        "colab": {
          "base_uri": "https://localhost:8080/"
        },
        "id": "GPhYt6Xp4nS3",
        "outputId": "6682333d-f3ff-4ee7-8558-d00dc5594a70"
      },
      "id": "GPhYt6Xp4nS3",
      "execution_count": null,
      "outputs": [
        {
          "output_type": "stream",
          "name": "stdout",
          "text": [
            "-2.6010003\n"
          ]
        }
      ]
    },
    {
      "cell_type": "markdown",
      "source": [
        "## 8. Train Step"
      ],
      "metadata": {
        "id": "95Z1BLpq34Vg"
      },
      "id": "95Z1BLpq34Vg"
    },
    {
      "cell_type": "code",
      "source": [
        "@jax.jit\n",
        "def train_step(state, X):\n",
        "    def loss_fn(params):\n",
        "        w_pred = state.apply_fn({'params' : params}, X)\n",
        "        (loss, _, _) = sharpe_loss(X, w_pred, state.rf)\n",
        "        return loss, w_pred\n",
        "    grad_fn = jax.value_and_grad(loss_fn, has_aux=True)\n",
        "    (_, w_pred), grads = grad_fn(state.params)\n",
        "    state = state.apply_gradients(grads=grads) \n",
        "    metrics = compute_metrics(X, w_pred, state.rf)\n",
        "    return state, metrics\n",
        "#(_, w_pred), grads = grad_fn(state.params)"
      ],
      "metadata": {
        "id": "3MMgwkIU76VM"
      },
      "id": "3MMgwkIU76VM",
      "execution_count": null,
      "outputs": []
    },
    {
      "cell_type": "markdown",
      "source": [
        "## 9. Training loop"
      ],
      "metadata": {
        "id": "SwlzuL4s2MzV"
      },
      "id": "SwlzuL4s2MzV"
    },
    {
      "cell_type": "code",
      "source": [
        "rng = jax.random.PRNGKey(0)\n",
        "rng, init_rng = jax.random.split(rng)\n",
        "lr = 0.01\n",
        "m = 0.7\n",
        "rf = 0.0125\n",
        "model = CNN()\n",
        "state = create_train_state(model, rng, lr, m, sample, rf)\n",
        "\n",
        "\n",
        "epochs = 100\n",
        "epoch_metrics = []\n",
        "for epoch in range(1,epochs):\n",
        "    state, metrics = train_step(state, sample)\n",
        "    epoch_metrics.append(metrics)\n",
        "    print('epoch : {} | loss : {:.5f} | returns : {:.5f} | vol : {:.5f} | sharpe ratio : {:.5f} |'.format(\n",
        "      epoch, metrics['loss'], metrics['mean returns'], metrics['volatility'], metrics['sharpe ratio']))"
      ],
      "metadata": {
        "colab": {
          "base_uri": "https://localhost:8080/"
        },
        "id": "MCkwdvwh2SUn",
        "outputId": "7e79f462-cfa4-4e6c-db3a-f22b1fc9c698"
      },
      "id": "MCkwdvwh2SUn",
      "execution_count": null,
      "outputs": [
        {
          "output_type": "stream",
          "name": "stdout",
          "text": [
            "epoch : 1 | loss : -2.60100 | returns : 0.47295 | vol : 0.17703 | sharpe ratio : 2.60100 |\n",
            "epoch : 2 | loss : -2.63651 | returns : 0.47850 | vol : 0.17675 | sharpe ratio : 2.63651 |\n",
            "epoch : 3 | loss : -2.68789 | returns : 0.48637 | vol : 0.17630 | sharpe ratio : 2.68789 |\n",
            "epoch : 4 | loss : -2.75010 | returns : 0.49576 | vol : 0.17573 | sharpe ratio : 2.75010 |\n",
            "epoch : 5 | loss : -2.83025 | returns : 0.50768 | vol : 0.17496 | sharpe ratio : 2.83025 |\n",
            "epoch : 6 | loss : -2.93844 | returns : 0.52388 | vol : 0.17403 | sharpe ratio : 2.93844 |\n",
            "epoch : 7 | loss : -3.08848 | returns : 0.54683 | vol : 0.17301 | sharpe ratio : 3.08848 |\n",
            "epoch : 8 | loss : -3.29627 | returns : 0.58042 | vol : 0.17229 | sharpe ratio : 3.29627 |\n",
            "epoch : 9 | loss : -3.56025 | returns : 0.62982 | vol : 0.17339 | sharpe ratio : 3.56025 |\n",
            "epoch : 10 | loss : -3.81225 | returns : 0.69689 | vol : 0.17952 | sharpe ratio : 3.81225 |\n",
            "epoch : 11 | loss : -3.94305 | returns : 0.76412 | vol : 0.19062 | sharpe ratio : 3.94305 |\n",
            "epoch : 12 | loss : -4.00527 | returns : 0.79386 | vol : 0.19508 | sharpe ratio : 4.00527 |\n",
            "epoch : 13 | loss : -4.03562 | returns : 0.78525 | vol : 0.19148 | sharpe ratio : 4.03562 |\n",
            "epoch : 14 | loss : -4.01947 | returns : 0.77907 | vol : 0.19071 | sharpe ratio : 4.01947 |\n",
            "epoch : 15 | loss : -4.04815 | returns : 0.79599 | vol : 0.19354 | sharpe ratio : 4.04815 |\n",
            "epoch : 16 | loss : -4.06174 | returns : 0.81781 | vol : 0.19827 | sharpe ratio : 4.06174 |\n",
            "epoch : 17 | loss : -4.07930 | returns : 0.81228 | vol : 0.19606 | sharpe ratio : 4.07930 |\n",
            "epoch : 18 | loss : -4.09971 | returns : 0.79200 | vol : 0.19013 | sharpe ratio : 4.09971 |\n",
            "epoch : 19 | loss : -4.11023 | returns : 0.78342 | vol : 0.18756 | sharpe ratio : 4.11023 |\n",
            "epoch : 20 | loss : -4.12137 | returns : 0.78904 | vol : 0.18842 | sharpe ratio : 4.12137 |\n",
            "epoch : 21 | loss : -4.12353 | returns : 0.79872 | vol : 0.19067 | sharpe ratio : 4.12353 |\n",
            "epoch : 22 | loss : -4.12425 | returns : 0.80272 | vol : 0.19160 | sharpe ratio : 4.12425 |\n",
            "epoch : 23 | loss : -4.12843 | returns : 0.80066 | vol : 0.19091 | sharpe ratio : 4.12843 |\n",
            "epoch : 24 | loss : -4.13146 | returns : 0.79877 | vol : 0.19031 | sharpe ratio : 4.13146 |\n",
            "epoch : 25 | loss : -4.13367 | returns : 0.80107 | vol : 0.19077 | sharpe ratio : 4.13367 |\n",
            "epoch : 26 | loss : -4.13500 | returns : 0.80525 | vol : 0.19172 | sharpe ratio : 4.13500 |\n",
            "epoch : 27 | loss : -4.13592 | returns : 0.80611 | vol : 0.19188 | sharpe ratio : 4.13592 |\n",
            "epoch : 28 | loss : -4.13738 | returns : 0.80306 | vol : 0.19108 | sharpe ratio : 4.13738 |\n",
            "epoch : 29 | loss : -4.13839 | returns : 0.80070 | vol : 0.19046 | sharpe ratio : 4.13839 |\n",
            "epoch : 30 | loss : -4.13932 | returns : 0.80175 | vol : 0.19067 | sharpe ratio : 4.13932 |\n",
            "epoch : 31 | loss : -4.13996 | returns : 0.80421 | vol : 0.19124 | sharpe ratio : 4.13996 |\n",
            "epoch : 32 | loss : -4.14055 | returns : 0.80536 | vol : 0.19149 | sharpe ratio : 4.14055 |\n",
            "epoch : 33 | loss : -4.14114 | returns : 0.80530 | vol : 0.19144 | sharpe ratio : 4.14114 |\n",
            "epoch : 34 | loss : -4.14161 | returns : 0.80582 | vol : 0.19155 | sharpe ratio : 4.14161 |\n",
            "epoch : 35 | loss : -4.14203 | returns : 0.80723 | vol : 0.19187 | sharpe ratio : 4.14203 |\n",
            "epoch : 36 | loss : -4.14237 | returns : 0.80813 | vol : 0.19207 | sharpe ratio : 4.14237 |\n",
            "epoch : 37 | loss : -4.14272 | returns : 0.80782 | vol : 0.19198 | sharpe ratio : 4.14272 |\n",
            "epoch : 38 | loss : -4.14304 | returns : 0.80727 | vol : 0.19183 | sharpe ratio : 4.14304 |\n",
            "epoch : 39 | loss : -4.14332 | returns : 0.80732 | vol : 0.19183 | sharpe ratio : 4.14332 |\n",
            "epoch : 40 | loss : -4.14356 | returns : 0.80764 | vol : 0.19190 | sharpe ratio : 4.14356 |\n",
            "epoch : 41 | loss : -4.14378 | returns : 0.80769 | vol : 0.19190 | sharpe ratio : 4.14378 |\n",
            "epoch : 42 | loss : -4.14400 | returns : 0.80767 | vol : 0.19189 | sharpe ratio : 4.14400 |\n",
            "epoch : 43 | loss : -4.14420 | returns : 0.80800 | vol : 0.19196 | sharpe ratio : 4.14420 |\n",
            "epoch : 44 | loss : -4.14438 | returns : 0.80848 | vol : 0.19206 | sharpe ratio : 4.14438 |\n",
            "epoch : 45 | loss : -4.14455 | returns : 0.80869 | vol : 0.19210 | sharpe ratio : 4.14455 |\n",
            "epoch : 46 | loss : -4.14471 | returns : 0.80866 | vol : 0.19209 | sharpe ratio : 4.14471 |\n",
            "epoch : 47 | loss : -4.14486 | returns : 0.80872 | vol : 0.19210 | sharpe ratio : 4.14486 |\n",
            "epoch : 48 | loss : -4.14499 | returns : 0.80885 | vol : 0.19212 | sharpe ratio : 4.14499 |\n",
            "epoch : 49 | loss : -4.14513 | returns : 0.80890 | vol : 0.19213 | sharpe ratio : 4.14513 |\n",
            "epoch : 50 | loss : -4.14525 | returns : 0.80888 | vol : 0.19212 | sharpe ratio : 4.14525 |\n",
            "epoch : 51 | loss : -4.14537 | returns : 0.80895 | vol : 0.19213 | sharpe ratio : 4.14537 |\n",
            "epoch : 52 | loss : -4.14548 | returns : 0.80907 | vol : 0.19215 | sharpe ratio : 4.14548 |\n",
            "epoch : 53 | loss : -4.14559 | returns : 0.80915 | vol : 0.19217 | sharpe ratio : 4.14559 |\n",
            "epoch : 54 | loss : -4.14569 | returns : 0.80917 | vol : 0.19217 | sharpe ratio : 4.14569 |\n",
            "epoch : 55 | loss : -4.14579 | returns : 0.80922 | vol : 0.19218 | sharpe ratio : 4.14579 |\n",
            "epoch : 56 | loss : -4.14588 | returns : 0.80928 | vol : 0.19218 | sharpe ratio : 4.14588 |\n",
            "epoch : 57 | loss : -4.14597 | returns : 0.80929 | vol : 0.19218 | sharpe ratio : 4.14597 |\n",
            "epoch : 58 | loss : -4.14605 | returns : 0.80929 | vol : 0.19218 | sharpe ratio : 4.14605 |\n",
            "epoch : 59 | loss : -4.14613 | returns : 0.80932 | vol : 0.19218 | sharpe ratio : 4.14613 |\n",
            "epoch : 60 | loss : -4.14621 | returns : 0.80935 | vol : 0.19219 | sharpe ratio : 4.14621 |\n",
            "epoch : 61 | loss : -4.14629 | returns : 0.80937 | vol : 0.19219 | sharpe ratio : 4.14629 |\n",
            "epoch : 62 | loss : -4.14636 | returns : 0.80938 | vol : 0.19219 | sharpe ratio : 4.14636 |\n",
            "epoch : 63 | loss : -4.14643 | returns : 0.80939 | vol : 0.19219 | sharpe ratio : 4.14643 |\n",
            "epoch : 64 | loss : -4.14650 | returns : 0.80940 | vol : 0.19219 | sharpe ratio : 4.14650 |\n",
            "epoch : 65 | loss : -4.14656 | returns : 0.80939 | vol : 0.19218 | sharpe ratio : 4.14656 |\n",
            "epoch : 66 | loss : -4.14663 | returns : 0.80939 | vol : 0.19218 | sharpe ratio : 4.14663 |\n",
            "epoch : 67 | loss : -4.14669 | returns : 0.80939 | vol : 0.19217 | sharpe ratio : 4.14669 |\n",
            "epoch : 68 | loss : -4.14675 | returns : 0.80938 | vol : 0.19217 | sharpe ratio : 4.14675 |\n",
            "epoch : 69 | loss : -4.14681 | returns : 0.80937 | vol : 0.19217 | sharpe ratio : 4.14681 |\n",
            "epoch : 70 | loss : -4.14686 | returns : 0.80936 | vol : 0.19216 | sharpe ratio : 4.14686 |\n",
            "epoch : 71 | loss : -4.14692 | returns : 0.80935 | vol : 0.19216 | sharpe ratio : 4.14692 |\n",
            "epoch : 72 | loss : -4.14697 | returns : 0.80934 | vol : 0.19215 | sharpe ratio : 4.14697 |\n",
            "epoch : 73 | loss : -4.14702 | returns : 0.80932 | vol : 0.19214 | sharpe ratio : 4.14702 |\n",
            "epoch : 74 | loss : -4.14707 | returns : 0.80931 | vol : 0.19214 | sharpe ratio : 4.14707 |\n",
            "epoch : 75 | loss : -4.14712 | returns : 0.80929 | vol : 0.19213 | sharpe ratio : 4.14712 |\n",
            "epoch : 76 | loss : -4.14717 | returns : 0.80927 | vol : 0.19212 | sharpe ratio : 4.14717 |\n",
            "epoch : 77 | loss : -4.14721 | returns : 0.80925 | vol : 0.19212 | sharpe ratio : 4.14721 |\n",
            "epoch : 78 | loss : -4.14725 | returns : 0.80923 | vol : 0.19211 | sharpe ratio : 4.14725 |\n",
            "epoch : 79 | loss : -4.14730 | returns : 0.80920 | vol : 0.19210 | sharpe ratio : 4.14730 |\n",
            "epoch : 80 | loss : -4.14734 | returns : 0.80918 | vol : 0.19209 | sharpe ratio : 4.14734 |\n",
            "epoch : 81 | loss : -4.14738 | returns : 0.80915 | vol : 0.19209 | sharpe ratio : 4.14738 |\n",
            "epoch : 82 | loss : -4.14742 | returns : 0.80913 | vol : 0.19208 | sharpe ratio : 4.14742 |\n",
            "epoch : 83 | loss : -4.14746 | returns : 0.80910 | vol : 0.19207 | sharpe ratio : 4.14746 |\n",
            "epoch : 84 | loss : -4.14750 | returns : 0.80907 | vol : 0.19206 | sharpe ratio : 4.14750 |\n",
            "epoch : 85 | loss : -4.14754 | returns : 0.80905 | vol : 0.19205 | sharpe ratio : 4.14754 |\n",
            "epoch : 86 | loss : -4.14757 | returns : 0.80902 | vol : 0.19204 | sharpe ratio : 4.14757 |\n",
            "epoch : 87 | loss : -4.14761 | returns : 0.80899 | vol : 0.19204 | sharpe ratio : 4.14761 |\n",
            "epoch : 88 | loss : -4.14764 | returns : 0.80896 | vol : 0.19203 | sharpe ratio : 4.14764 |\n",
            "epoch : 89 | loss : -4.14768 | returns : 0.80893 | vol : 0.19202 | sharpe ratio : 4.14768 |\n",
            "epoch : 90 | loss : -4.14771 | returns : 0.80890 | vol : 0.19201 | sharpe ratio : 4.14771 |\n",
            "epoch : 91 | loss : -4.14774 | returns : 0.80887 | vol : 0.19200 | sharpe ratio : 4.14774 |\n",
            "epoch : 92 | loss : -4.14777 | returns : 0.80884 | vol : 0.19199 | sharpe ratio : 4.14777 |\n",
            "epoch : 93 | loss : -4.14780 | returns : 0.80881 | vol : 0.19198 | sharpe ratio : 4.14780 |\n",
            "epoch : 94 | loss : -4.14783 | returns : 0.80878 | vol : 0.19198 | sharpe ratio : 4.14783 |\n",
            "epoch : 95 | loss : -4.14786 | returns : 0.80876 | vol : 0.19197 | sharpe ratio : 4.14786 |\n",
            "epoch : 96 | loss : -4.14789 | returns : 0.80873 | vol : 0.19196 | sharpe ratio : 4.14789 |\n",
            "epoch : 97 | loss : -4.14792 | returns : 0.80870 | vol : 0.19195 | sharpe ratio : 4.14792 |\n",
            "epoch : 98 | loss : -4.14794 | returns : 0.80867 | vol : 0.19194 | sharpe ratio : 4.14794 |\n",
            "epoch : 99 | loss : -4.14797 | returns : 0.80864 | vol : 0.19194 | sharpe ratio : 4.14797 |\n"
          ]
        }
      ]
    },
    {
      "cell_type": "markdown",
      "source": [
        "Holy shit! now we're talking! "
      ],
      "metadata": {
        "id": "Z0gGrdYC4mCL"
      },
      "id": "Z0gGrdYC4mCL"
    },
    {
      "cell_type": "markdown",
      "source": [
        "## 10. Evaluation"
      ],
      "metadata": {
        "id": "AnQYNgPz3UlP"
      },
      "id": "AnQYNgPz3UlP"
    },
    {
      "cell_type": "code",
      "source": [
        "eval_df = pd.DataFrame(epoch_metrics,dtype='float32')"
      ],
      "metadata": {
        "id": "xXC5Awnl3T5u"
      },
      "id": "xXC5Awnl3T5u",
      "execution_count": null,
      "outputs": []
    },
    {
      "cell_type": "code",
      "source": [
        "fig, ax = plt.subplots(1,4,figsize=(20,5))\n",
        "ax[0].plot(eval_df['loss'], label='loss')\n",
        "ax[1].plot(eval_df['volatility'], label='volatility')\n",
        "ax[2].plot(eval_df['mean returns'], label='mean returns')\n",
        "ax[3].plot(eval_df['sharpe ratio'], label='sharpe ratio')\n",
        "fig.legend()\n",
        "plt.show()"
      ],
      "metadata": {
        "colab": {
          "base_uri": "https://localhost:8080/",
          "height": 358
        },
        "id": "9F0hAqM52m2m",
        "outputId": "2faeb605-6569-4216-cf72-107cb6249b9a"
      },
      "id": "9F0hAqM52m2m",
      "execution_count": null,
      "outputs": [
        {
          "output_type": "display_data",
          "data": {
            "image/png": "[encoded data removed]",
            "text/plain": [
              "<Figure size 1440x360 with 4 Axes>"
            ]
          },
          "metadata": {
            "needs_background": "light"
          }
        }
      ]
    },
    {
      "cell_type": "code",
      "source": [
        "w_pred = predict(state, sample)"
      ],
      "metadata": {
        "colab": {
          "base_uri": "https://localhost:8080/"
        },
        "id": "SFx6iH780uvx",
        "outputId": "8b7d3361-07b3-4a7c-fb9d-c1fb7daf503c"
      },
      "id": "SFx6iH780uvx",
      "execution_count": null,
      "outputs": [
        {
          "output_type": "stream",
          "name": "stdout",
          "text": [
            "[1.91833854e-01 1.15749575e-01 1.50923301e-02 5.78107052e-02\n",
            " 5.20337224e-02 1.49067968e-01 2.11723626e-01 6.07648573e-04\n",
            " 2.05901474e-01 1.79103838e-04]\n"
          ]
        }
      ]
    },
    {
      "cell_type": "code",
      "source": [
        "# Return the index of the largest Sharpe Ratio\n",
        "\n",
        "# Find the ideal portfolio weighting at that index\n",
        "i = 0\n",
        "print('Ideal weighting of portfolio')\n",
        "while i < num_stocks:\n",
        "    ticker = tickers_in_portfolio[i]\n",
        "    if len(ticker) == 4:\n",
        "        print(\"{} : {:.2f}\".format(ticker, w_pred[i]))\n",
        "    elif len(ticker) == 3:\n",
        "        print(\"{}  : {:.2f}\".format(ticker, w_pred[i]))\n",
        "    elif len(ticker) == 2:\n",
        "        print(\"{}   : {:.2f}\".format(ticker, w_pred[i]))\n",
        "    else:\n",
        "        print(\"{}    : {:.2f}\".format(ticker, w_pred[i]))\n",
        "    i += 1\n",
        "\n",
        "final_epoch = eval_df.tail(1)\n",
        "vol = final_epoch['volatility'].values[0]\n",
        "sharpe_ratio = final_epoch['sharpe ratio'].values[0]\n",
        "returns = final_epoch['mean returns'].values[0]\n",
        "\n",
        "print(\"\\nVolatility   : {:.5f}\".format(vol) )  \n",
        "print(\"Return       : {:.5f}\".format(returns) )\n",
        "print(\"Sharpe Ratio : {:.5f}\".format(sharpe_ratio) )"
      ],
      "metadata": {
        "colab": {
          "base_uri": "https://localhost:8080/"
        },
        "id": "e1ZBMcEjqgWF",
        "outputId": "b9d977ae-4d6e-48cd-98b8-fb997cc214b3"
      },
      "id": "e1ZBMcEjqgWF",
      "execution_count": null,
      "outputs": [
        {
          "output_type": "stream",
          "name": "stdout",
          "text": [
            "Ideal weighting of portfolio\n",
            "MTCH : 0.19\n",
            "LYV  : 0.12\n",
            "TSLA : 0.02\n",
            "ETSY : 0.06\n",
            "EL   : 0.05\n",
            "COST : 0.15\n",
            "MSCI : 0.21\n",
            "MRNA : 0.00\n",
            "GNRC : 0.21\n",
            "ENPH : 0.00\n",
            "\n",
            "Volatility   : 0.19194\n",
            "Return       : 0.80864\n",
            "Sharpe Ratio : 4.14797\n"
          ]
        }
      ]
    },
    {
      "cell_type": "markdown",
      "source": [
        "# Comparison"
      ],
      "metadata": {
        "id": "lJNmOYfsAx1t"
      },
      "id": "lJNmOYfsAx1t"
    },
    {
      "cell_type": "markdown",
      "source": [
        "The results are in! What a fun journey we've had down Quant Lane! \n",
        "\n",
        "It turns out that optimizing the portfolio with a neural network gave us an absolutely amazing Sharp Ratio of 4.15! Although, Lagrange gave us higher returns, the neural net found a combination of stocks with way lower volatility. \n",
        "\n",
        "| Stock |Monte Carlo | Lagrange | Neural Net |\n",
        "| --- | ----------- | ------- | ----|\n",
        "|MTCH | 0.06 | 0.11 | 0.19 |\n",
        "|LYV  | 0.02 | 0.11 | 0.12 |\n",
        "|TSLA | 0.21 | 0.02 | 0.02 |\n",
        "|ETSY | 0.00 | 0.18 | 0.06 |\n",
        "|EL   | 0.02 | 0.00 | 0.05 |\n",
        "|COST | 0.16 | 0.14 | 0.15 |\n",
        "|MSCI | 0.07 | 0.11 | 0.21 |\n",
        "|MRNA | 0.19 | 0.22 | 0.00 |\n",
        "|GNRC | 0.17 | 0.06 | 0.21 |\n",
        "|ENPH | 0.10 | 0.06 | 0.00 |\n",
        "|-----|------|------|------|\n",
        "|Vol  | 0.34 | 0.53 | 0.19 |\n",
        "|Ret  | 0.57 | 0.84 | 0.81 |\n",
        "|Sharp| 1.66 | 1.59 | 4.15 |"
      ],
      "metadata": {
        "id": "AT4kWe599iW7"
      },
      "id": "AT4kWe599iW7"
    },
    {
      "cell_type": "markdown",
      "source": [
        "# Conclusion\n",
        "\n",
        "There are 2 major problems with this approach to quant finance:\n",
        "\n",
        "1. We don't have a $scalable$ and automated way to pick stocks for a portfolio.\n",
        "2. We hopelessly and unashamedly overfit on past performance. \n",
        "\n",
        "Point number 2 is devastating because we do not care about the profits we $could$ have made in retrospect, knowing all the outcomes. We care about the $future$ profitability of our portfolio.\n",
        "\n",
        "More on that in the next notebook."
      ],
      "metadata": {
        "id": "dgmWPJPnEDDJ"
      },
      "id": "dgmWPJPnEDDJ"
    }
  ],
  "metadata": {
    "kernelspec": {
      "display_name": "Python 3 (ipykernel)",
      "language": "python",
      "name": "python3"
    },
    "language_info": {
      "codemirror_mode": {
        "name": "ipython",
        "version": 3
      },
      "file_extension": ".py",
      "mimetype": "text/x-python",
      "name": "python",
      "nbconvert_exporter": "python",
      "pygments_lexer": "ipython3",
      "version": "3.7.6"
    },
    "colab": {
      "name": "S&P 500 Analysis.ipynb",
      "provenance": [],
      "collapsed_sections": [
        "JgbG7B4DXaIq",
        "Fy9uz64hKPee"
      ],
      "include_colab_link": true
    },
    "accelerator": "TPU"
  },
  "nbformat": 4,
  "nbformat_minor": 5
}